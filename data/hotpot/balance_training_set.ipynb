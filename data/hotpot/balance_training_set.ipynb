{
 "cells": [
  {
   "cell_type": "code",
   "execution_count": 1,
   "metadata": {},
   "outputs": [],
   "source": [
    "import random\n",
    "import math\n",
    "import os\n",
    "import pickle\n",
    "from tqdm import tqdm, trange\n",
    "import numpy as np"
   ]
  },
  {
   "cell_type": "code",
   "execution_count": 2,
   "metadata": {},
   "outputs": [],
   "source": [
    "def pickler(path,pkl_name,obj):\n",
    "    with open(os.path.join(path, pkl_name), 'wb') as f:\n",
    "        pickle.dump(obj, f, pickle.HIGHEST_PROTOCOL)\n",
    "\n",
    "def unpickler(path,pkl_name):\n",
    "    with open(os.path.join(path, pkl_name) ,'rb') as f:\n",
    "        obj = pickle.load(f)\n",
    "    return obj"
   ]
  },
  {
   "cell_type": "code",
   "execution_count": 3,
   "metadata": {},
   "outputs": [],
   "source": [
    "out_pkl_path = \"./\"\n",
    "in_pkl_path = \"./\"\n",
    "in_pkl_name = \"preprocessed_train.pkl\"\n",
    "out_pkl_name = \"preprocessed_train_balanced.pkl\""
   ]
  },
  {
   "cell_type": "code",
   "execution_count": 4,
   "metadata": {},
   "outputs": [],
   "source": [
    "original_data = unpickler(in_pkl_path,in_pkl_name)"
   ]
  },
  {
   "cell_type": "code",
   "execution_count": 5,
   "metadata": {},
   "outputs": [],
   "source": [
    "def segregare_data(data):\n",
    "    positive = {\"sequences\":[], \"segment_ids\":[], \"supporting_fact\":[]}\n",
    "    negative = {\"sequences\":[], \"segment_ids\":[], \"supporting_fact\":[]}\n",
    "    for i in trange(len(data[\"supporting_fact\"])):\n",
    "        if(data[\"supporting_fact\"][i] == 1):\n",
    "            for key in positive.keys():\n",
    "                positive[key].append(data[key][i])\n",
    "        else:\n",
    "            for key in negative.keys():\n",
    "                negative[key].append(data[key][i])\n",
    "    return positive, negative"
   ]
  },
  {
   "cell_type": "code",
   "execution_count": 6,
   "metadata": {},
   "outputs": [
    {
     "name": "stderr",
     "output_type": "stream",
     "text": [
      "100%|██████████| 3706225/3706225 [00:05<00:00, 631883.63it/s]\n"
     ]
    }
   ],
   "source": [
    "positive, negative = segregare_data(original_data)"
   ]
  },
  {
   "cell_type": "code",
   "execution_count": 7,
   "metadata": {},
   "outputs": [
    {
     "name": "stdout",
     "output_type": "stream",
     "text": [
      "[101, 2073, 2001, 1996, 2364, 2839, 1999, 1996, 2143, 22953, 15551, 14620, 1999, 2152, 1011, 3036, 13691, 8323, 1029, 102, 2002, 2038, 2985, 6993, 14620, 1999, 1996, 13276, 2669, 1010, 5041, 17622, 1998, 6683, 5172, 2152, 1011, 3036, 13691, 8323, 1012, 102, 0, 0, 0, 0, 0, 0, 0, 0, 0, 0, 0, 0, 0, 0, 0, 0, 0, 0, 0, 0, 0, 0, 0, 0, 0, 0, 0, 0, 0, 0, 0, 0, 0, 0, 0, 0, 0, 0, 0, 0, 0, 0, 0, 0, 0, 0, 0, 0, 0, 0, 0, 0, 0, 0, 0, 0, 0, 0, 0, 0, 0]\n",
      "[0, 0, 0, 0, 0, 0, 0, 0, 0, 0, 0, 0, 0, 0, 0, 0, 0, 0, 0, 0, 1, 1, 1, 1, 1, 1, 1, 1, 1, 1, 1, 1, 1, 1, 1, 1, 1, 1, 1, 1, 1, 1, 1, 1, 1, 1, 1, 1, 1, 1, 1, 1, 1, 1, 1, 1, 1, 1, 1, 1, 1, 1, 1, 1, 1, 1, 1, 1, 1, 1, 1, 1, 1, 1, 1, 1, 1, 1, 1, 1, 1, 1, 1, 1, 1, 1, 1, 1, 1, 1, 1, 1, 1, 1, 1, 1, 1, 1, 1, 1, 1, 1, 1]\n",
      "1\n"
     ]
    }
   ],
   "source": [
    "print(positive[\"sequences\"][0])\n",
    "print(positive[\"segment_ids\"][0])\n",
    "print(positive[\"supporting_fact\"][0])"
   ]
  },
  {
   "cell_type": "code",
   "execution_count": 8,
   "metadata": {},
   "outputs": [
    {
     "name": "stdout",
     "output_type": "stream",
     "text": [
      "[101, 2073, 2001, 1996, 2364, 2839, 1999, 1996, 2143, 22953, 15551, 14620, 1999, 2152, 1011, 3036, 13691, 8323, 1029, 102, 2798, 4300, 1000, 4918, 1000, 10582, 1006, 2141, 2745, 5146, 12001, 2036, 2124, 2004, 2798, 22953, 15551, 1025, 1020, 2285, 3999, 1007, 2003, 2019, 2394, 4735, 2040, 2003, 2411, 3615, 2000, 1999, 1996, 2329, 2811, 2004, 1996, 1000, 2087, 6355, 7267, 1999, 3725, 1000, 1998, 1000, 3725, 1005, 1055, 2087, 12536, 7267, 1000, 1012, 102, 0, 0, 0, 0, 0, 0, 0, 0, 0, 0, 0, 0, 0, 0, 0, 0, 0, 0, 0, 0, 0, 0, 0, 0, 0, 0, 0, 0]\n",
      "[0, 0, 0, 0, 0, 0, 0, 0, 0, 0, 0, 0, 0, 0, 0, 0, 0, 0, 0, 0, 1, 1, 1, 1, 1, 1, 1, 1, 1, 1, 1, 1, 1, 1, 1, 1, 1, 1, 1, 1, 1, 1, 1, 1, 1, 1, 1, 1, 1, 1, 1, 1, 1, 1, 1, 1, 1, 1, 1, 1, 1, 1, 1, 1, 1, 1, 1, 1, 1, 1, 1, 1, 1, 1, 1, 1, 1, 1, 1, 1, 1, 1, 1, 1, 1, 1, 1, 1, 1, 1, 1, 1, 1, 1, 1, 1, 1, 1, 1, 1, 1, 1, 1]\n",
      "0\n"
     ]
    }
   ],
   "source": [
    "print(negative[\"sequences\"][0])\n",
    "print(negative[\"segment_ids\"][0])\n",
    "print(negative[\"supporting_fact\"][0])"
   ]
  },
  {
   "cell_type": "code",
   "execution_count": 9,
   "metadata": {},
   "outputs": [
    {
     "name": "stdout",
     "output_type": "stream",
     "text": [
      "0\n",
      "0\n"
     ]
    }
   ],
   "source": [
    "print(min(negative[\"supporting_fact\"]))\n",
    "print(max(negative[\"supporting_fact\"]))"
   ]
  },
  {
   "cell_type": "code",
   "execution_count": 10,
   "metadata": {},
   "outputs": [
    {
     "name": "stdout",
     "output_type": "stream",
     "text": [
      "1\n",
      "1\n"
     ]
    }
   ],
   "source": [
    "print(min(positive[\"supporting_fact\"]))\n",
    "print(max(positive[\"supporting_fact\"]))"
   ]
  },
  {
   "cell_type": "code",
   "execution_count": 11,
   "metadata": {},
   "outputs": [],
   "source": [
    "num_positive = len(positive[\"supporting_fact\"])\n",
    "num_negative = len(negative[\"supporting_fact\"])"
   ]
  },
  {
   "cell_type": "code",
   "execution_count": 12,
   "metadata": {},
   "outputs": [
    {
     "name": "stdout",
     "output_type": "stream",
     "text": [
      "215932\n",
      "3490293\n"
     ]
    }
   ],
   "source": [
    "print(num_positive)\n",
    "print(num_negative)"
   ]
  },
  {
   "cell_type": "code",
   "execution_count": 13,
   "metadata": {},
   "outputs": [],
   "source": [
    "def get_random_subset(data, output_size):\n",
    "    indices = random.sample(list(range(len(data[\"supporting_fact\"]))), output_size)\n",
    "    out_dict = {\"sequences\":[], \"segment_ids\":[], \"supporting_fact\":[]}\n",
    "    for i in indices:\n",
    "        for key in out_dict.keys():\n",
    "            out_dict[key].append(data[key][i])\n",
    "    return out_dict"
   ]
  },
  {
   "cell_type": "code",
   "execution_count": 14,
   "metadata": {},
   "outputs": [],
   "source": [
    "negative_sample_size_multiplier = 3"
   ]
  },
  {
   "cell_type": "code",
   "execution_count": 15,
   "metadata": {},
   "outputs": [],
   "source": [
    "negative_sample_size = num_positive * negative_sample_size_multiplier"
   ]
  },
  {
   "cell_type": "code",
   "execution_count": 16,
   "metadata": {},
   "outputs": [],
   "source": [
    "negative_subset = get_random_subset(negative, negative_sample_size)"
   ]
  },
  {
   "cell_type": "code",
   "execution_count": 17,
   "metadata": {},
   "outputs": [
    {
     "name": "stdout",
     "output_type": "stream",
     "text": [
      "647796\n"
     ]
    }
   ],
   "source": [
    "print(len(negative_subset[\"supporting_fact\"]))"
   ]
  },
  {
   "cell_type": "code",
   "execution_count": 18,
   "metadata": {},
   "outputs": [],
   "source": [
    "def merge(dict_list):\n",
    "    out_dict = {\"sequences\":[], \"segment_ids\":[], \"supporting_fact\":[]}\n",
    "    for key in out_dict.keys():\n",
    "        for d in dict_list:\n",
    "            out_dict[key] += d[key]\n",
    "    return out_dict"
   ]
  },
  {
   "cell_type": "code",
   "execution_count": 19,
   "metadata": {},
   "outputs": [],
   "source": [
    "positive_repeated = []\n",
    "for i in range(negative_sample_size_multiplier):\n",
    "    positive_repeated.append(positive)\n",
    "    \n",
    "\n",
    "out_dict = merge(positive_repeated + [negative_subset])"
   ]
  },
  {
   "cell_type": "code",
   "execution_count": 20,
   "metadata": {},
   "outputs": [
    {
     "name": "stdout",
     "output_type": "stream",
     "text": [
      "1295592\n"
     ]
    }
   ],
   "source": [
    "print(len(out_dict[\"supporting_fact\"]))"
   ]
  },
  {
   "cell_type": "code",
   "execution_count": 21,
   "metadata": {},
   "outputs": [
    {
     "name": "stdout",
     "output_type": "stream",
     "text": [
      "0\n",
      "1\n"
     ]
    }
   ],
   "source": [
    "print(min(out_dict[\"supporting_fact\"]))\n",
    "print(max(out_dict[\"supporting_fact\"]))"
   ]
  },
  {
   "cell_type": "code",
   "execution_count": 22,
   "metadata": {},
   "outputs": [
    {
     "data": {
      "text/plain": [
       "647796"
      ]
     },
     "execution_count": 22,
     "metadata": {},
     "output_type": "execute_result"
    }
   ],
   "source": [
    "sum(out_dict[\"supporting_fact\"])"
   ]
  },
  {
   "cell_type": "code",
   "execution_count": 23,
   "metadata": {},
   "outputs": [
    {
     "name": "stdout",
     "output_type": "stream",
     "text": [
      "Done\n"
     ]
    }
   ],
   "source": [
    "pickler(out_pkl_path, out_pkl_name, out_dict)\n",
    "print(\"Done\")"
   ]
  },
  {
   "cell_type": "code",
   "execution_count": null,
   "metadata": {},
   "outputs": [],
   "source": []
  }
 ],
 "metadata": {
  "kernelspec": {
   "display_name": "Python 3",
   "language": "python",
   "name": "python3"
  },
  "language_info": {
   "codemirror_mode": {
    "name": "ipython",
    "version": 3
   },
   "file_extension": ".py",
   "mimetype": "text/x-python",
   "name": "python",
   "nbconvert_exporter": "python",
   "pygments_lexer": "ipython3",
   "version": "3.6.7"
  }
 },
 "nbformat": 4,
 "nbformat_minor": 2
}
