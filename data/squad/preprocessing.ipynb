{
 "cells": [
  {
   "cell_type": "code",
   "execution_count": null,
   "metadata": {},
   "outputs": [],
   "source": [
    "from collections import Counter\n",
    "import string\n",
    "import re\n",
    "import argparse\n",
    "import json\n",
    "import sys\n",
    "import numpy as np\n",
    "import nltk\n",
    "import random\n",
    "import math\n",
    "import os\n",
    "import dill as pickle\n",
    "from tqdm import tqdm, trange"
   ]
  },
  {
   "cell_type": "code",
   "execution_count": null,
   "metadata": {},
   "outputs": [],
   "source": [
    "import pdb"
   ]
  },
  {
   "cell_type": "code",
   "execution_count": null,
   "metadata": {},
   "outputs": [],
   "source": [
    "def pickler(path,pkl_name,obj):\n",
    "    with open(os.path.join(path, pkl_name), 'wb') as f:\n",
    "        pickle.dump(obj, f, pickle.HIGHEST_PROTOCOL)\n",
    "\n",
    "def unpickler(path,pkl_name):\n",
    "    with open(os.path.join(path, pkl_name) ,'rb') as f:\n",
    "        obj = pickle.load(f)\n",
    "    return obj"
   ]
  },
  {
   "cell_type": "markdown",
   "metadata": {},
   "source": [
    "# Formatting \n",
    "\n",
    "Each data point will be [question_id, question, [context sentences], [supporting fact indicators]]"
   ]
  },
  {
   "cell_type": "code",
   "execution_count": null,
   "metadata": {},
   "outputs": [],
   "source": [
    "TRAIN = True\n",
    "\n",
    "out_pkl_path = \"./\"\n",
    "\n",
    "\n",
    "if TRAIN:\n",
    "    dataset_file_path = \"/home/bhargav/data/squad/train-v1.1.json\"\n",
    "    out_pkl_name = \"preprocessed_train.pkl\"\n",
    "else:\n",
    "    dataset_file_path = \"/home/bhargav/data/squad/dev-v1.1.json\"\n",
    "    out_pkl_name = \"preprocessed_dev.pkl\"\n",
    "    "
   ]
  },
  {
   "cell_type": "code",
   "execution_count": null,
   "metadata": {},
   "outputs": [],
   "source": [
    "def sent_has_answer(sent,ans):\n",
    "    sent_tok = set(nltk.word_tokenize(sent))\n",
    "    ans_tok = set(nltk.word_tokenize(ans))\n",
    "    return len(ans_tok.difference(sent_tok)) == 0\n",
    "\n",
    "def put_space_before_period(sents):\n",
    "    output = []\n",
    "    for sent in sents:\n",
    "        s = nltk.word_tokenize(sent)\n",
    "        output.append(\" \".join(s))\n",
    "    return output\n",
    "\n",
    "# Input: number of characters in each sentence, start pointer of the answer(given in the dataset)\n",
    "# Output: one hot vector indicating the sentence containing the answer\n",
    "def find_answer_sentence(sentence_lengths, answer_start):\n",
    "    length_so_far = 0\n",
    "    sentence_index = 0\n",
    "    for i, length in enumerate(sentence_lengths):\n",
    "        if(length_so_far <= answer_start <= length_so_far+length):\n",
    "            sentence_index = i\n",
    "            break\n",
    "        else:\n",
    "            length_so_far += length\n",
    "    out_vector = [0 for i in sentence_lengths]\n",
    "    out_vector[sentence_index] = 1\n",
    "    return out_vector"
   ]
  },
  {
   "cell_type": "code",
   "execution_count": null,
   "metadata": {},
   "outputs": [],
   "source": [
    "# with open(file_path, encoding='utf8') as file:\n",
    "#     dataset = json.load(file)"
   ]
  },
  {
   "cell_type": "code",
   "execution_count": null,
   "metadata": {},
   "outputs": [],
   "source": [
    "def normalize(text):\n",
    "#     exclude = set(string.punctuation)\n",
    "#     clean = ''.join(ch for ch in text if ch not in exclude)\n",
    "#     clean = clean.lower().strip()\n",
    "    text = re.sub(\n",
    "            r\"[\\*\\\"“”\\n\\\\…\\+\\-\\/\\=\\(\\)‘•:\\[\\]\\|’\\!;]\", \" \", \n",
    "            str(text))\n",
    "    text = re.sub(r\"[ ]+\", \" \", text)\n",
    "    text = re.sub(r\"\\!+\", \"!\", text)\n",
    "    text = re.sub(r\"\\,+\", \",\", text)\n",
    "    text = re.sub(r\"\\?+\", \"?\", text)\n",
    "    text = text.lower().strip()\n",
    "    return text"
   ]
  },
  {
   "cell_type": "code",
   "execution_count": null,
   "metadata": {},
   "outputs": [],
   "source": [
    "# def format_dataset(dataset):\n",
    "#     ids = []\n",
    "#     questions = []\n",
    "#     sentences = []\n",
    "#     answers = []\n",
    "#     for article in tqdm(dataset):\n",
    "#         for paragraph in article['paragraphs']:\n",
    "#             context_raw = paragraph['context']\n",
    "#             context_sents = nltk.sent_tokenize(context_raw)\n",
    "#             # context_sents = put_space_before_period(context_sents)\n",
    "#             for qa in paragraph['qas']:\n",
    "#                 answer_indicators = []\n",
    "#                 ground_truths = list(map(lambda x: x['text'], qa['answers']))\n",
    "#                 longest_ans = ground_truths[np.argmax([len(x) for x in ground_truths])]\n",
    "#                 for sent_index,sent in enumerate(context_sents):\n",
    "#                     has_ans = sent_has_answer(sent,longest_ans)\n",
    "#                     if(has_ans):\n",
    "#                         answer_indicators.append(1)\n",
    "#                     else:\n",
    "#                         answer_indicators.append(0)\n",
    "#                 sentences.append(context_sents)\n",
    "#                 questions.append(qa['question'])\n",
    "#                 ids.append(qa['id'])\n",
    "#                 answers.append(answer_indicators)\n",
    "#     return [ids, questions, sentences, answers]\n",
    "\n",
    "\n",
    "def format_dataset(dataset):\n",
    "    ids = []\n",
    "    questions = []\n",
    "    sentences = []\n",
    "    answers = []\n",
    "    for article in tqdm(dataset):\n",
    "        for paragraph in article['paragraphs']:\n",
    "            context_raw = paragraph['context']\n",
    "            context_sents = nltk.sent_tokenize(context_raw)\n",
    "            # +1 to count the spaces after the '.' after each sentence\n",
    "            context_sent_lengths = [len(x)+1 for x in context_sents]\n",
    "            for qa in paragraph['qas']:\n",
    "                gt_start_pointers = list(map(lambda x: x['answer_start'], qa['answers']))\n",
    "                answer_indicators = find_answer_sentence(sentence_lengths=context_sent_lengths, answer_start=gt_start_pointers[0])\n",
    "                \n",
    "#                 old_answer_indicators = []\n",
    "#                 ground_truths = list(map(lambda x: x['text'], qa['answers']))\n",
    "#                 for sent_index,sent in enumerate(context_sents):\n",
    "#                     has_ans = sent_has_answer(sent,ground_truths[0])\n",
    "#                     if(has_ans):\n",
    "#                         old_answer_indicators.append(1)\n",
    "#                     else:\n",
    "#                         old_answer_indicators.append(0)\n",
    "                \n",
    "#                 if(not any([answer_indicators[i]==old_answer_indicators[i] for i in range(len(answer_indicators))])):\n",
    "#                     print(\"PROBLEM!\")\n",
    "#                     print(\"===========\")\n",
    "#                     print(context_sents)\n",
    "#                     print(\"===========\")\n",
    "#                     print(context_sent_lengths)\n",
    "#                     print(\"===========\")\n",
    "#                     print(\"gt_start_pointers: \",gt_start_pointers)\n",
    "#                     print(\"===========\")\n",
    "#                     print(\"GT answers:\",ground_truths)\n",
    "#                     print(\"===========\")\n",
    "#                     print(\"New ans vector:\",answer_indicators)\n",
    "#                     print(\"===========\")\n",
    "#                     print(\"old ans vector:\",old_answer_indicators)\n",
    "#                     print(\"===========\")\n",
    "#                     print(\"Question:\",qa['question'])\n",
    "#                     return [0,0,0,0]\n",
    "                \n",
    "                sentences.append(context_sents)\n",
    "                questions.append(qa['question'])\n",
    "                ids.append(qa['id'])\n",
    "                answers.append(answer_indicators)\n",
    "    return [ids, questions, sentences, answers]\n",
    "\n",
    "\n",
    "  "
   ]
  },
  {
   "cell_type": "code",
   "execution_count": null,
   "metadata": {},
   "outputs": [],
   "source": [
    "def run(dataset_file_path):\n",
    "    with open(dataset_file_path) as dataset_file:\n",
    "        dataset_json = json.load(dataset_file)\n",
    "        dataset = dataset_json['data']\n",
    "    records = format_dataset(dataset)\n",
    "    return records"
   ]
  },
  {
   "cell_type": "code",
   "execution_count": null,
   "metadata": {},
   "outputs": [],
   "source": [
    "ids, questions, sentences, supporting_facts = run(dataset_file_path)"
   ]
  },
  {
   "cell_type": "code",
   "execution_count": null,
   "metadata": {},
   "outputs": [],
   "source": [
    "print(len(questions))\n",
    "print(len(sentences))\n",
    "print(len(supporting_facts))"
   ]
  },
  {
   "cell_type": "code",
   "execution_count": null,
   "metadata": {},
   "outputs": [],
   "source": [
    "questions[0]"
   ]
  },
  {
   "cell_type": "code",
   "execution_count": null,
   "metadata": {},
   "outputs": [],
   "source": [
    "sentences[0]"
   ]
  },
  {
   "cell_type": "code",
   "execution_count": null,
   "metadata": {},
   "outputs": [],
   "source": [
    "supporting_facts[0]"
   ]
  },
  {
   "cell_type": "code",
   "execution_count": null,
   "metadata": {},
   "outputs": [],
   "source": [
    "def get_index_with_id(dataset, idx = \"5ae61bfd5542992663a4f261\"):\n",
    "    index = -1\n",
    "    for i,item in enumerate(dataset):\n",
    "        if(item[\"_id\"] == idx):\n",
    "            return i\n",
    "    return index\n",
    "    "
   ]
  },
  {
   "cell_type": "code",
   "execution_count": null,
   "metadata": {},
   "outputs": [],
   "source": [
    "def print_formatted_example(index, question_ids, questions, sentences, \n",
    "                            supporting_facts):\n",
    "    separator = \"--xx--xx--xx--xx--xx--xx--\"\n",
    "    print(\"Question id:\",question_ids[index])\n",
    "    print(separator)\n",
    "    print(\"Question:\",questions[index])\n",
    "    print(separator)\n",
    "    print(\"sentences:\")\n",
    "    for i, sent in enumerate(sentences[index]):\n",
    "        print(\"{} :{}\".format(i,sent))\n",
    "    print(separator)\n",
    "    print(\"supporting_facts:\",supporting_facts[index])\n",
    "    print(separator)"
   ]
  },
  {
   "cell_type": "code",
   "execution_count": null,
   "metadata": {},
   "outputs": [],
   "source": [
    "print_formatted_example(10, ids, questions, sentences, \n",
    "                            supporting_facts)"
   ]
  },
  {
   "cell_type": "code",
   "execution_count": null,
   "metadata": {},
   "outputs": [],
   "source": [
    "# formatted_dataset = [questions, sentences, supporting_facts]"
   ]
  },
  {
   "cell_type": "markdown",
   "metadata": {},
   "source": [
    "# Tokenization    "
   ]
  },
  {
   "cell_type": "code",
   "execution_count": null,
   "metadata": {},
   "outputs": [],
   "source": [
    "from pytorch_pretrained_bert import BertTokenizer"
   ]
  },
  {
   "cell_type": "code",
   "execution_count": null,
   "metadata": {},
   "outputs": [],
   "source": [
    "tokenizer = BertTokenizer.from_pretrained('bert-base-uncased')"
   ]
  },
  {
   "cell_type": "code",
   "execution_count": null,
   "metadata": {},
   "outputs": [],
   "source": [
    "def foo():\n",
    "    tokens = tokenizer.tokenize(\"     hello, world! I don't like you :-)  !!!! (YOLO)\")\n",
    "    print(tokens)\n",
    "\n",
    "foo()"
   ]
  },
  {
   "cell_type": "code",
   "execution_count": null,
   "metadata": {},
   "outputs": [],
   "source": [
    "def tokenize(text):\n",
    "    return tokenizer.tokenize(text)"
   ]
  },
  {
   "cell_type": "code",
   "execution_count": null,
   "metadata": {},
   "outputs": [],
   "source": [
    "def batch_tokenize(text_in):\n",
    "    text_out = []\n",
    "    for line in text_in:\n",
    "        tokens = tokenize(line)\n",
    "        tokens = tokenizer.convert_tokens_to_ids(tokens)\n",
    "        text_out.append(tokens)\n",
    "    return text_out"
   ]
  },
  {
   "cell_type": "code",
   "execution_count": null,
   "metadata": {},
   "outputs": [],
   "source": [
    "batch_tokenize([\"tokenize this\",\"and this!\"])"
   ]
  },
  {
   "cell_type": "code",
   "execution_count": null,
   "metadata": {},
   "outputs": [],
   "source": [
    "questions_tokenized = batch_tokenize(questions)"
   ]
  },
  {
   "cell_type": "code",
   "execution_count": null,
   "metadata": {},
   "outputs": [],
   "source": [
    "print(questions_tokenized[0])"
   ]
  },
  {
   "cell_type": "code",
   "execution_count": null,
   "metadata": {},
   "outputs": [],
   "source": [
    "sentences_tokenized = []\n",
    "for sent_list in tqdm(sentences):\n",
    "    sents_tokenized = batch_tokenize(sent_list)\n",
    "    sentences_tokenized.append(sents_tokenized)"
   ]
  },
  {
   "cell_type": "code",
   "execution_count": null,
   "metadata": {},
   "outputs": [],
   "source": [
    "print(sentences_tokenized[0])"
   ]
  },
  {
   "cell_type": "code",
   "execution_count": null,
   "metadata": {},
   "outputs": [],
   "source": [
    "max_question_plus_sentence_len = 103\n",
    "max_sentences_per_passage = 10"
   ]
  },
  {
   "cell_type": "code",
   "execution_count": null,
   "metadata": {},
   "outputs": [],
   "source": [
    "cls_index = tokenizer.convert_tokens_to_ids([\"[CLS]\"])[0]\n",
    "sep_index = tokenizer.convert_tokens_to_ids([\"[SEP]\"])[0]\n",
    "pad_index = tokenizer.convert_tokens_to_ids([\"[PAD]\"])[0]"
   ]
  },
  {
   "cell_type": "code",
   "execution_count": null,
   "metadata": {},
   "outputs": [],
   "source": [
    "def merge_trim_pad(sent_1, sent_2, max_len, cls_index, sep_index, pad_index):\n",
    "    merged_seq = [cls_index] + sent_1 + [sep_index] + sent_2\n",
    "    merged_seq = merged_seq[:max_len-1]\n",
    "    merged_seq.append(sep_index)\n",
    "    merged_seq += [pad_index] * (max_len - len(merged_seq))\n",
    "    num_zeros = len(sent_1) + 2\n",
    "    segment_id = [0]*num_zeros + [1]*(len(merged_seq)-num_zeros)\n",
    "    mask  = []\n",
    "    for id in merged_seq:\n",
    "        if(id == pad_index):\n",
    "            mask.append(0)\n",
    "        else:\n",
    "            mask.append(1)\n",
    "    return merged_seq, segment_id, mask"
   ]
  },
  {
   "cell_type": "code",
   "execution_count": null,
   "metadata": {},
   "outputs": [],
   "source": [
    "merge_trim_pad([1,1], [2,2,2], 10, \"[CLS]\", \"[SEP]\", [\"PAD\"])"
   ]
  },
  {
   "cell_type": "code",
   "execution_count": null,
   "metadata": {},
   "outputs": [],
   "source": [
    "merge_trim_pad([1,1], [2,2,2], 5, \"[CLS]\", \"[SEP]\", [\"PAD\"])"
   ]
  },
  {
   "cell_type": "code",
   "execution_count": null,
   "metadata": {},
   "outputs": [],
   "source": [
    "merge_trim_pad([1,1], [2,2,2], 8, \"[CLS]\", \"[SEP]\", [\"PAD\"])"
   ]
  },
  {
   "cell_type": "code",
   "execution_count": null,
   "metadata": {},
   "outputs": [],
   "source": [
    "merge_trim_pad([], [], 5, \"[CLS]\", \"[SEP]\", [\"PAD\"])"
   ]
  },
  {
   "cell_type": "code",
   "execution_count": null,
   "metadata": {},
   "outputs": [],
   "source": [
    "merge_trim_pad([1,1], [2,2,2], 10, cls_index, sep_index, pad_index)"
   ]
  },
  {
   "cell_type": "code",
   "execution_count": null,
   "metadata": {},
   "outputs": [],
   "source": [
    "# init data dict\n",
    "data_out = {}\n",
    "\n",
    "for i in range(max_sentences_per_passage):\n",
    "    data_out[\"sequence_{}\".format(i)] = []\n",
    "    data_out[\"sequence_segment_id_{}\".format(i)] = []\n",
    "    #data_out[\"sequence_mask_{}\".format(i)] = []\n",
    "\n",
    "data_out[\"passage_mask\"] = []\n",
    "data_out[\"supporting_fact\"] = []\n",
    "\n",
    "\n",
    "for i in trange(len(questions_tokenized)):\n",
    "    question = questions_tokenized[i]\n",
    "    sentences = sentences_tokenized[i][:max_sentences_per_passage]\n",
    "    num_pad_sentences = max_sentences_per_passage - len(sentences)\n",
    "    sentences = sentences + [[]]*(num_pad_sentences)\n",
    "    \n",
    "    passage_mask = [1] * (max_sentences_per_passage-num_pad_sentences) + [0]*num_pad_sentences\n",
    "    \n",
    "    \n",
    "    supp_fact = supporting_facts[i]\n",
    "    \n",
    "    supp_fact = supp_fact[:max_sentences_per_passage]\n",
    "    \n",
    "    # Skip the training questions who's passage loses supporting fact due to trimming\n",
    "    if(TRAIN):\n",
    "        if(sum(supp_fact) == 0):\n",
    "            continue\n",
    "            \n",
    "    data_out[\"passage_mask\"].append(passage_mask)\n",
    "    \n",
    "    supp_fact = supp_fact + [0]*(num_pad_sentences)\n",
    "    data_out[\"supporting_fact\"].append(supp_fact)\n",
    "    \n",
    "    for j,sent in enumerate(sentences):\n",
    "        merged_seq, segment_id, mask = merge_trim_pad(sent_1=question, sent_2=sent, \n",
    "                                    max_len=max_question_plus_sentence_len, \n",
    "                                    cls_index=cls_index, sep_index=sep_index, pad_index=pad_index)\n",
    "        data_out[\"sequence_{}\".format(j)].append(merged_seq)\n",
    "        data_out[\"sequence_segment_id_{}\".format(j)].append(segment_id)\n",
    "        #data_out[\"sequence_mask_{}\".format(j)].append(mask)\n",
    "        \n",
    "        \n",
    "\n",
    "\n",
    "        \n",
    "    "
   ]
  },
  {
   "cell_type": "code",
   "execution_count": null,
   "metadata": {},
   "outputs": [],
   "source": [
    "data_out.keys()"
   ]
  },
  {
   "cell_type": "code",
   "execution_count": null,
   "metadata": {},
   "outputs": [],
   "source": [
    "print(data_out['sequence_0'][0])"
   ]
  },
  {
   "cell_type": "code",
   "execution_count": null,
   "metadata": {},
   "outputs": [],
   "source": [
    "print(data_out['sequence_segment_id_0'][0])"
   ]
  },
  {
   "cell_type": "code",
   "execution_count": null,
   "metadata": {},
   "outputs": [],
   "source": [
    "print(data_out['sequence_mask_0'][0])"
   ]
  },
  {
   "cell_type": "code",
   "execution_count": null,
   "metadata": {},
   "outputs": [],
   "source": [
    "data_out['sequence_0'][0].count(0)"
   ]
  },
  {
   "cell_type": "code",
   "execution_count": null,
   "metadata": {},
   "outputs": [],
   "source": [
    "data_out['sequence_mask_0'][0].count(0)"
   ]
  },
  {
   "cell_type": "code",
   "execution_count": null,
   "metadata": {},
   "outputs": [],
   "source": [
    "all_lengths = []\n",
    "both = []\n",
    "for key,value in data_out.items():\n",
    "    both.append([key, len(value)])\n",
    "    all_lengths.append(len(value))"
   ]
  },
  {
   "cell_type": "code",
   "execution_count": null,
   "metadata": {},
   "outputs": [],
   "source": [
    "print(min(all_lengths))\n",
    "print(max(all_lengths))"
   ]
  },
  {
   "cell_type": "code",
   "execution_count": null,
   "metadata": {},
   "outputs": [],
   "source": [
    "both"
   ]
  },
  {
   "cell_type": "code",
   "execution_count": null,
   "metadata": {},
   "outputs": [],
   "source": [
    "pickler(out_pkl_path,out_pkl_name,data_out)\n",
    "print(\"Done\")"
   ]
  },
  {
   "cell_type": "code",
   "execution_count": null,
   "metadata": {},
   "outputs": [],
   "source": []
  }
 ],
 "metadata": {
  "kernelspec": {
   "display_name": "Python 3",
   "language": "python",
   "name": "python3"
  },
  "language_info": {
   "codemirror_mode": {
    "name": "ipython",
    "version": 3
   },
   "file_extension": ".py",
   "mimetype": "text/x-python",
   "name": "python",
   "nbconvert_exporter": "python",
   "pygments_lexer": "ipython3",
   "version": "3.6.7"
  }
 },
 "nbformat": 4,
 "nbformat_minor": 2
}
