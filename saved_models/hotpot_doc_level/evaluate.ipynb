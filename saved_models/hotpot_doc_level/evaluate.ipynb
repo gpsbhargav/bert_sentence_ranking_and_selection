{
 "cells": [
  {
   "cell_type": "code",
   "execution_count": 1,
   "metadata": {},
   "outputs": [],
   "source": [
    "import random\n",
    "import math\n",
    "import os\n",
    "import pickle\n",
    "from tqdm import tqdm, trange\n",
    "import numpy as np\n",
    "\n",
    "import sklearn\n",
    "from sklearn.metrics import f1_score, accuracy_score\n",
    "from sklearn.metrics import precision_score, recall_score\n",
    "\n",
    "import torch\n",
    "from torch.utils.data import Dataset, DataLoader, TensorDataset\n",
    "\n",
    "import pdb"
   ]
  },
  {
   "cell_type": "code",
   "execution_count": 2,
   "metadata": {},
   "outputs": [],
   "source": [
    "import warnings\n",
    "warnings.filterwarnings(\"ignore\", category=sklearn.exceptions.UndefinedMetricWarning)"
   ]
  },
  {
   "cell_type": "code",
   "execution_count": 3,
   "metadata": {},
   "outputs": [
    {
     "name": "stdout",
     "output_type": "stream",
     "text": [
      "Better speed can be achieved with apex installed from https://www.github.com/nvidia/apex.\n"
     ]
    }
   ],
   "source": [
    "from pytorch_pretrained_bert import BertTokenizer"
   ]
  },
  {
   "cell_type": "code",
   "execution_count": 4,
   "metadata": {},
   "outputs": [],
   "source": [
    "tokenizer = BertTokenizer.from_pretrained('bert-base-uncased')"
   ]
  },
  {
   "cell_type": "code",
   "execution_count": 5,
   "metadata": {},
   "outputs": [],
   "source": [
    "def pickler(path,pkl_name,obj):\n",
    "    with open(os.path.join(path, pkl_name), 'wb') as f:\n",
    "        pickle.dump(obj, f, pickle.HIGHEST_PROTOCOL)\n",
    "\n",
    "def unpickler(path,pkl_name):\n",
    "    with open(os.path.join(path, pkl_name) ,'rb') as f:\n",
    "        obj = pickle.load(f)\n",
    "    return obj"
   ]
  },
  {
   "cell_type": "code",
   "execution_count": 6,
   "metadata": {},
   "outputs": [],
   "source": [
    "data_pkl_path = \"../../data/hotpot_doc_level/\"\n",
    "data_pkl_name = \"preprocessed_dev.pkl\"\n",
    "predictions_pkl_path = \"./\"\n",
    "predictions_pkl_name = \"predictions.pkl\""
   ]
  },
  {
   "cell_type": "code",
   "execution_count": 7,
   "metadata": {},
   "outputs": [],
   "source": [
    "def score(gt, pred):\n",
    "    assert(len(gt) == len(pred))\n",
    "    total_size = len(pred)\n",
    "    assert(len(gt) != 0)\n",
    "    total_precision = 0\n",
    "    total_recall = 0\n",
    "    total_f1 = 0\n",
    "    total_correct = 0\n",
    "    for i in range(total_size):\n",
    "        if(gt[i] == pred[i]):\n",
    "            total_correct += 1\n",
    "        p = precision_score(gt[i], pred[i],average=\"binary\")\n",
    "        r = recall_score(gt[i], pred[i],average=\"binary\")\n",
    "        total_precision += p\n",
    "        total_recall += r\n",
    "        total_f1 += 2*(p*r)/(p+r) if (p+r)>0 else 0\n",
    "    return {\"precision\":total_precision/total_size, \"recall\":total_recall/total_size, \n",
    "            \"f1\":total_f1/total_size, \"em\":total_correct/total_size}"
   ]
  },
  {
   "cell_type": "code",
   "execution_count": 8,
   "metadata": {},
   "outputs": [],
   "source": [
    "dataset = unpickler(data_pkl_path, data_pkl_name)"
   ]
  },
  {
   "cell_type": "code",
   "execution_count": 9,
   "metadata": {},
   "outputs": [
    {
     "data": {
      "text/plain": [
       "dict_keys(['sequence', 'sentence_start_index', 'sentence_end_index', 'supporting_fact', 'segment_id', 'max_seq_len', 'max_sentences', 'document_length'])"
      ]
     },
     "execution_count": 9,
     "metadata": {},
     "output_type": "execute_result"
    }
   ],
   "source": [
    "dataset.keys()"
   ]
  },
  {
   "cell_type": "code",
   "execution_count": 10,
   "metadata": {},
   "outputs": [],
   "source": [
    "predictions_raw = unpickler(predictions_pkl_path, predictions_pkl_name)"
   ]
  },
  {
   "cell_type": "code",
   "execution_count": 11,
   "metadata": {},
   "outputs": [
    {
     "data": {
      "text/plain": [
       "[4, 2, 3, 2, 4, 22, 3, 4, 5, 3]"
      ]
     },
     "execution_count": 11,
     "metadata": {},
     "output_type": "execute_result"
    }
   ],
   "source": [
    "dataset['document_length'][4]"
   ]
  },
  {
   "cell_type": "code",
   "execution_count": 28,
   "metadata": {},
   "outputs": [
    {
     "data": {
      "text/plain": [
       "(73690, 10)"
      ]
     },
     "execution_count": 28,
     "metadata": {},
     "output_type": "execute_result"
    }
   ],
   "source": [
    "predictions_raw.shape"
   ]
  },
  {
   "cell_type": "code",
   "execution_count": 29,
   "metadata": {},
   "outputs": [
    {
     "data": {
      "text/plain": [
       "array([[ -9.092889 , -11.627383 , -11.362666 , -12.481646 , -12.481646 ,\n",
       "        -12.481646 , -12.481646 , -12.481646 , -12.481646 , -12.481646 ],\n",
       "       [  6.6942716,  -4.354312 ,  -6.243289 , -12.298203 , -12.298203 ,\n",
       "        -12.298203 , -12.298203 , -12.298203 , -12.298203 , -12.298203 ],\n",
       "       [-12.386548 , -12.617335 , -12.974067 , -12.584182 , -12.845939 ,\n",
       "        -12.472897 , -12.472897 , -12.472897 , -12.472897 , -12.472897 ],\n",
       "       [-11.8994465, -12.534382 , -12.188662 , -12.438282 , -12.815713 ,\n",
       "        -12.492678 , -12.492678 , -12.492678 , -12.492678 , -12.492678 ],\n",
       "       [  7.1253586, -12.241236 , -12.241236 , -12.241236 , -12.241236 ,\n",
       "        -12.241236 , -12.241236 , -12.241236 , -12.241236 , -12.241236 ]],\n",
       "      dtype=float32)"
      ]
     },
     "execution_count": 29,
     "metadata": {},
     "output_type": "execute_result"
    }
   ],
   "source": [
    "predictions_raw[:5]"
   ]
  },
  {
   "cell_type": "code",
   "execution_count": 13,
   "metadata": {},
   "outputs": [],
   "source": [
    "def reorganize_predictions(predictions, document_lengths):\n",
    "    out_list = []\n",
    "    start_index = 0\n",
    "    for i in range(len(document_lengths)):\n",
    "        pred_raw = predictions[start_index:start_index+len(document_lengths[i])]\n",
    "        pred = []\n",
    "        for j,p in enumerate(pred_raw):\n",
    "            pred += p[:document_lengths[i][j]]\n",
    "            pred += [0] * (document_lengths[i][j] - len(p[:document_lengths[i][j]]))\n",
    "        out_list.append(pred)\n",
    "        start_index += len(document_lengths[i])\n",
    "    return out_list"
   ]
  },
  {
   "cell_type": "code",
   "execution_count": 14,
   "metadata": {},
   "outputs": [],
   "source": [
    "predictions_reorganized = reorganize_predictions(predictions_raw.tolist(), dataset['document_length'])"
   ]
  },
  {
   "cell_type": "code",
   "execution_count": 15,
   "metadata": {},
   "outputs": [],
   "source": [
    "supporting_facts_reorganized = reorganize_predictions(dataset['supporting_fact'], dataset['document_length'])"
   ]
  },
  {
   "cell_type": "code",
   "execution_count": 16,
   "metadata": {},
   "outputs": [
    {
     "name": "stderr",
     "output_type": "stream",
     "text": [
      "100%|██████████| 7404/7404 [00:00<00:00, 467986.18it/s]\n"
     ]
    }
   ],
   "source": [
    "for i in trange(len(predictions_reorganized)):\n",
    "    assert(len(supporting_facts_reorganized[i]) == len(predictions_reorganized[i]))"
   ]
  },
  {
   "cell_type": "code",
   "execution_count": 17,
   "metadata": {},
   "outputs": [
    {
     "name": "stderr",
     "output_type": "stream",
     "text": [
      "100%|██████████| 7404/7404 [00:00<00:00, 755403.23it/s]\n"
     ]
    }
   ],
   "source": [
    "for i in trange(len(predictions_reorganized)):\n",
    "    assert(sum(dataset['document_length'][i]) == len(predictions_reorganized[i]))"
   ]
  },
  {
   "cell_type": "code",
   "execution_count": 18,
   "metadata": {},
   "outputs": [],
   "source": [
    "def evaluate(gt, pred, threshold, document_lengths):\n",
    "    pred_answer_labels = (torch.sigmoid(torch.tensor(pred)) > threshold).numpy().tolist()\n",
    "    predictions_reorganized = reorganize_predictions(pred_answer_labels, document_lengths)\n",
    "    supporting_facts_reorganized = reorganize_predictions(gt, document_lengths)\n",
    "    result = score(supporting_facts_reorganized, predictions_reorganized)\n",
    "    return result"
   ]
  },
  {
   "cell_type": "code",
   "execution_count": 27,
   "metadata": {},
   "outputs": [
    {
     "data": {
      "text/plain": [
       "{'precision': 0.849452623206682,\n",
       " 'recall': 0.7934483612461776,\n",
       " 'f1': 0.7948369379285303,\n",
       " 'em': 0.45029713668287413}"
      ]
     },
     "execution_count": 27,
     "metadata": {},
     "output_type": "execute_result"
    }
   ],
   "source": [
    "evaluate(dataset['supporting_fact'], predictions_raw, 0.5, dataset['document_length'])"
   ]
  },
  {
   "cell_type": "code",
   "execution_count": 20,
   "metadata": {},
   "outputs": [
    {
     "name": "stderr",
     "output_type": "stream",
     "text": [
      "100%|██████████| 18/18 [03:53<00:00, 12.79s/it]\n"
     ]
    }
   ],
   "source": [
    "metrics = {'precision':[], 'recall':[], 'f1':[], 'em':[]}\n",
    "for t in tqdm(np.linspace(0.1,1,18,endpoint=False)):\n",
    "    result = evaluate(dataset['supporting_fact'], predictions_raw, t, dataset['document_length'])\n",
    "    for key,value in result.items():\n",
    "        metrics[key].append(value)"
   ]
  },
  {
   "cell_type": "code",
   "execution_count": 21,
   "metadata": {},
   "outputs": [
    {
     "data": {
      "text/plain": [
       "0.8019736603813006"
      ]
     },
     "execution_count": 21,
     "metadata": {},
     "output_type": "execute_result"
    }
   ],
   "source": [
    "max(metrics['f1'])"
   ]
  },
  {
   "cell_type": "code",
   "execution_count": 22,
   "metadata": {},
   "outputs": [
    {
     "data": {
      "text/plain": [
       "0.45475418692598596"
      ]
     },
     "execution_count": 22,
     "metadata": {},
     "output_type": "execute_result"
    }
   ],
   "source": [
    "max(metrics['em'])"
   ]
  },
  {
   "cell_type": "code",
   "execution_count": 23,
   "metadata": {},
   "outputs": [],
   "source": [
    "import pandas as pd\n",
    "import matplotlib.pyplot as plt"
   ]
  },
  {
   "cell_type": "code",
   "execution_count": 24,
   "metadata": {},
   "outputs": [],
   "source": [
    "metric_df = pd.DataFrame(metrics, index=np.linspace(0.1,1,18,endpoint=False))"
   ]
  },
  {
   "cell_type": "code",
   "execution_count": 25,
   "metadata": {},
   "outputs": [
    {
     "data": {
      "text/html": [
       "<div>\n",
       "<style scoped>\n",
       "    .dataframe tbody tr th:only-of-type {\n",
       "        vertical-align: middle;\n",
       "    }\n",
       "\n",
       "    .dataframe tbody tr th {\n",
       "        vertical-align: top;\n",
       "    }\n",
       "\n",
       "    .dataframe thead th {\n",
       "        text-align: right;\n",
       "    }\n",
       "</style>\n",
       "<table border=\"1\" class=\"dataframe\">\n",
       "  <thead>\n",
       "    <tr style=\"text-align: right;\">\n",
       "      <th></th>\n",
       "      <th>precision</th>\n",
       "      <th>recall</th>\n",
       "      <th>f1</th>\n",
       "      <th>em</th>\n",
       "    </tr>\n",
       "  </thead>\n",
       "  <tbody>\n",
       "    <tr>\n",
       "      <th>0.10</th>\n",
       "      <td>0.737553</td>\n",
       "      <td>0.903307</td>\n",
       "      <td>0.783655</td>\n",
       "      <td>0.334819</td>\n",
       "    </tr>\n",
       "    <tr>\n",
       "      <th>0.15</th>\n",
       "      <td>0.765488</td>\n",
       "      <td>0.883964</td>\n",
       "      <td>0.792486</td>\n",
       "      <td>0.367909</td>\n",
       "    </tr>\n",
       "    <tr>\n",
       "      <th>0.20</th>\n",
       "      <td>0.786192</td>\n",
       "      <td>0.868167</td>\n",
       "      <td>0.797709</td>\n",
       "      <td>0.394922</td>\n",
       "    </tr>\n",
       "    <tr>\n",
       "      <th>0.25</th>\n",
       "      <td>0.802483</td>\n",
       "      <td>0.854377</td>\n",
       "      <td>0.800600</td>\n",
       "      <td>0.411264</td>\n",
       "    </tr>\n",
       "    <tr>\n",
       "      <th>0.30</th>\n",
       "      <td>0.816624</td>\n",
       "      <td>0.840774</td>\n",
       "      <td>0.801974</td>\n",
       "      <td>0.426256</td>\n",
       "    </tr>\n",
       "    <tr>\n",
       "      <th>0.35</th>\n",
       "      <td>0.827062</td>\n",
       "      <td>0.828255</td>\n",
       "      <td>0.801504</td>\n",
       "      <td>0.437871</td>\n",
       "    </tr>\n",
       "    <tr>\n",
       "      <th>0.40</th>\n",
       "      <td>0.835533</td>\n",
       "      <td>0.816022</td>\n",
       "      <td>0.799874</td>\n",
       "      <td>0.443544</td>\n",
       "    </tr>\n",
       "    <tr>\n",
       "      <th>0.45</th>\n",
       "      <td>0.842484</td>\n",
       "      <td>0.804109</td>\n",
       "      <td>0.797198</td>\n",
       "      <td>0.445570</td>\n",
       "    </tr>\n",
       "    <tr>\n",
       "      <th>0.50</th>\n",
       "      <td>0.849453</td>\n",
       "      <td>0.793448</td>\n",
       "      <td>0.794837</td>\n",
       "      <td>0.450297</td>\n",
       "    </tr>\n",
       "    <tr>\n",
       "      <th>0.55</th>\n",
       "      <td>0.856984</td>\n",
       "      <td>0.781227</td>\n",
       "      <td>0.791645</td>\n",
       "      <td>0.454754</td>\n",
       "    </tr>\n",
       "    <tr>\n",
       "      <th>0.60</th>\n",
       "      <td>0.862002</td>\n",
       "      <td>0.767435</td>\n",
       "      <td>0.786325</td>\n",
       "      <td>0.453809</td>\n",
       "    </tr>\n",
       "    <tr>\n",
       "      <th>0.65</th>\n",
       "      <td>0.866935</td>\n",
       "      <td>0.754811</td>\n",
       "      <td>0.781283</td>\n",
       "      <td>0.453674</td>\n",
       "    </tr>\n",
       "    <tr>\n",
       "      <th>0.70</th>\n",
       "      <td>0.870571</td>\n",
       "      <td>0.741100</td>\n",
       "      <td>0.774807</td>\n",
       "      <td>0.449082</td>\n",
       "    </tr>\n",
       "    <tr>\n",
       "      <th>0.75</th>\n",
       "      <td>0.872416</td>\n",
       "      <td>0.726234</td>\n",
       "      <td>0.766347</td>\n",
       "      <td>0.442734</td>\n",
       "    </tr>\n",
       "    <tr>\n",
       "      <th>0.80</th>\n",
       "      <td>0.872578</td>\n",
       "      <td>0.705887</td>\n",
       "      <td>0.753652</td>\n",
       "      <td>0.430038</td>\n",
       "    </tr>\n",
       "    <tr>\n",
       "      <th>0.85</th>\n",
       "      <td>0.867959</td>\n",
       "      <td>0.682488</td>\n",
       "      <td>0.736809</td>\n",
       "      <td>0.411534</td>\n",
       "    </tr>\n",
       "    <tr>\n",
       "      <th>0.90</th>\n",
       "      <td>0.857188</td>\n",
       "      <td>0.648727</td>\n",
       "      <td>0.710914</td>\n",
       "      <td>0.385197</td>\n",
       "    </tr>\n",
       "    <tr>\n",
       "      <th>0.95</th>\n",
       "      <td>0.823719</td>\n",
       "      <td>0.588011</td>\n",
       "      <td>0.658694</td>\n",
       "      <td>0.338466</td>\n",
       "    </tr>\n",
       "  </tbody>\n",
       "</table>\n",
       "</div>"
      ],
      "text/plain": [
       "      precision    recall        f1        em\n",
       "0.10   0.737553  0.903307  0.783655  0.334819\n",
       "0.15   0.765488  0.883964  0.792486  0.367909\n",
       "0.20   0.786192  0.868167  0.797709  0.394922\n",
       "0.25   0.802483  0.854377  0.800600  0.411264\n",
       "0.30   0.816624  0.840774  0.801974  0.426256\n",
       "0.35   0.827062  0.828255  0.801504  0.437871\n",
       "0.40   0.835533  0.816022  0.799874  0.443544\n",
       "0.45   0.842484  0.804109  0.797198  0.445570\n",
       "0.50   0.849453  0.793448  0.794837  0.450297\n",
       "0.55   0.856984  0.781227  0.791645  0.454754\n",
       "0.60   0.862002  0.767435  0.786325  0.453809\n",
       "0.65   0.866935  0.754811  0.781283  0.453674\n",
       "0.70   0.870571  0.741100  0.774807  0.449082\n",
       "0.75   0.872416  0.726234  0.766347  0.442734\n",
       "0.80   0.872578  0.705887  0.753652  0.430038\n",
       "0.85   0.867959  0.682488  0.736809  0.411534\n",
       "0.90   0.857188  0.648727  0.710914  0.385197\n",
       "0.95   0.823719  0.588011  0.658694  0.338466"
      ]
     },
     "execution_count": 25,
     "metadata": {},
     "output_type": "execute_result"
    }
   ],
   "source": [
    "metric_df"
   ]
  },
  {
   "cell_type": "code",
   "execution_count": 26,
   "metadata": {},
   "outputs": [
    {
     "data": {
      "text/plain": [
       "<Figure size 432x288 with 0 Axes>"
      ]
     },
     "metadata": {},
     "output_type": "display_data"
    },
    {
     "data": {
      "image/png": "[encoded data removed]",
      "text/plain": [
       "<Figure size 432x288 with 1 Axes>"
      ]
     },
     "metadata": {
      "needs_background": "light"
     },
     "output_type": "display_data"
    }
   ],
   "source": [
    "plt.figure(); metric_df.plot(colormap=\"Dark2\");"
   ]
  },
  {
   "cell_type": "code",
   "execution_count": 30,
   "metadata": {},
   "outputs": [],
   "source": [
    "import seaborn as sns"
   ]
  },
  {
   "cell_type": "code",
   "execution_count": 36,
   "metadata": {},
   "outputs": [
    {
     "name": "stderr",
     "output_type": "stream",
     "text": [
      "/home/bhargav/anaconda3/lib/python3.6/site-packages/scipy/stats/stats.py:1713: FutureWarning: Using a non-tuple sequence for multidimensional indexing is deprecated; use `arr[tuple(seq)]` instead of `arr[seq]`. In the future this will be interpreted as an array index, `arr[np.array(seq)]`, which will result either in an error or a different result.\n",
      "  return np.add.reduce(sorted[indexer] * weights, axis=axis) / sumval\n"
     ]
    },
    {
     "data": {
      "text/plain": [
       "<matplotlib.axes._subplots.AxesSubplot at 0x7f800d8d1b70>"
      ]
     },
     "execution_count": 36,
     "metadata": {},
     "output_type": "execute_result"
    },
    {
     "data": {
      "image/png": "[encoded data removed]",
      "text/plain": [
       "<Figure size 432x288 with 1 Axes>"
      ]
     },
     "metadata": {
      "needs_background": "light"
     },
     "output_type": "display_data"
    }
   ],
   "source": [
    "sns.distplot((torch.sigmoid(torch.tensor(predictions_raw))).numpy().flatten(),kde=False, hist=True, rug=False)"
   ]
  },
  {
   "cell_type": "code",
   "execution_count": null,
   "metadata": {},
   "outputs": [],
   "source": []
  }
 ],
 "metadata": {
  "kernelspec": {
   "display_name": "Python 3",
   "language": "python",
   "name": "python3"
  },
  "language_info": {
   "codemirror_mode": {
    "name": "ipython",
    "version": 3
   },
   "file_extension": ".py",
   "mimetype": "text/x-python",
   "name": "python",
   "nbconvert_exporter": "python",
   "pygments_lexer": "ipython3",
   "version": "3.6.7"
  }
 },
 "nbformat": 4,
 "nbformat_minor": 2
}
