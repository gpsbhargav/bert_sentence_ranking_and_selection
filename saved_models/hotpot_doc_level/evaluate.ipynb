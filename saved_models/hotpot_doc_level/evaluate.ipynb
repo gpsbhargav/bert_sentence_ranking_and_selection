{
 "cells": [
  {
   "cell_type": "code",
   "execution_count": 1,
   "metadata": {},
   "outputs": [],
   "source": [
    "import random\n",
    "import math\n",
    "import os\n",
    "import pickle\n",
    "from tqdm import tqdm, trange\n",
    "import numpy as np\n",
    "\n",
    "import sklearn\n",
    "from sklearn.metrics import f1_score, accuracy_score\n",
    "from sklearn.metrics import precision_score, recall_score\n",
    "\n",
    "import torch\n",
    "from torch.utils.data import Dataset, DataLoader, TensorDataset\n",
    "\n",
    "import pdb"
   ]
  },
  {
   "cell_type": "code",
   "execution_count": 2,
   "metadata": {},
   "outputs": [],
   "source": [
    "import warnings\n",
    "warnings.filterwarnings(\"ignore\", category=sklearn.exceptions.UndefinedMetricWarning)"
   ]
  },
  {
   "cell_type": "code",
   "execution_count": 3,
   "metadata": {},
   "outputs": [
    {
     "name": "stdout",
     "output_type": "stream",
     "text": [
      "Better speed can be achieved with apex installed from https://www.github.com/nvidia/apex.\n"
     ]
    }
   ],
   "source": [
    "from pytorch_pretrained_bert import BertTokenizer"
   ]
  },
  {
   "cell_type": "code",
   "execution_count": 4,
   "metadata": {},
   "outputs": [],
   "source": [
    "tokenizer = BertTokenizer.from_pretrained('bert-base-uncased')"
   ]
  },
  {
   "cell_type": "code",
   "execution_count": 5,
   "metadata": {},
   "outputs": [],
   "source": [
    "def pickler(path,pkl_name,obj):\n",
    "    with open(os.path.join(path, pkl_name), 'wb') as f:\n",
    "        pickle.dump(obj, f, pickle.HIGHEST_PROTOCOL)\n",
    "\n",
    "def unpickler(path,pkl_name):\n",
    "    with open(os.path.join(path, pkl_name) ,'rb') as f:\n",
    "        obj = pickle.load(f)\n",
    "    return obj"
   ]
  },
  {
   "cell_type": "code",
   "execution_count": 6,
   "metadata": {},
   "outputs": [],
   "source": [
    "data_pkl_path = \"../../data/hotpot_doc_level/\"\n",
    "data_pkl_name = \"preprocessed_dev.pkl\"\n",
    "predictions_pkl_path = \"./\"\n",
    "predictions_pkl_name = \"predictions.pkl\""
   ]
  },
  {
   "cell_type": "code",
   "execution_count": 7,
   "metadata": {},
   "outputs": [],
   "source": [
    "def score(gt, pred):\n",
    "    assert(len(gt) == len(pred))\n",
    "    total_size = len(pred)\n",
    "    assert(len(gt) != 0)\n",
    "    total_precision = 0\n",
    "    total_recall = 0\n",
    "    total_f1 = 0\n",
    "    total_correct = 0\n",
    "    num_1_recall = 0\n",
    "    for i in range(total_size):\n",
    "        if(gt[i] == pred[i]):\n",
    "            total_correct += 1\n",
    "        p = precision_score(gt[i], pred[i],average=\"binary\")\n",
    "        r = recall_score(gt[i], pred[i],average=\"binary\")\n",
    "        if(r == 1):\n",
    "            num_1_recall += 1\n",
    "        total_precision += p\n",
    "        total_recall += r\n",
    "        total_f1 += 2*(p*r)/(p+r) if (p+r)>0 else 0\n",
    "    return {\"precision\":total_precision/total_size, \"recall\":total_recall/total_size, \n",
    "            \"f1\":total_f1/total_size, \"em\":total_correct/total_size,\n",
    "           \"full_recall_fraction\": num_1_recall/total_size}"
   ]
  },
  {
   "cell_type": "code",
   "execution_count": 8,
   "metadata": {},
   "outputs": [],
   "source": [
    "dataset = unpickler(data_pkl_path, data_pkl_name)"
   ]
  },
  {
   "cell_type": "code",
   "execution_count": 9,
   "metadata": {},
   "outputs": [
    {
     "data": {
      "text/plain": [
       "dict_keys(['sequence', 'sentence_start_index', 'sentence_end_index', 'supporting_fact', 'segment_id', 'max_seq_len', 'max_sentences', 'document_length'])"
      ]
     },
     "execution_count": 9,
     "metadata": {},
     "output_type": "execute_result"
    }
   ],
   "source": [
    "dataset.keys()"
   ]
  },
  {
   "cell_type": "code",
   "execution_count": 10,
   "metadata": {},
   "outputs": [],
   "source": [
    "predictions_raw = unpickler(predictions_pkl_path, predictions_pkl_name)"
   ]
  },
  {
   "cell_type": "code",
   "execution_count": 11,
   "metadata": {},
   "outputs": [
    {
     "data": {
      "text/plain": [
       "[4, 2, 3, 2, 4, 22, 3, 4, 5, 3]"
      ]
     },
     "execution_count": 11,
     "metadata": {},
     "output_type": "execute_result"
    }
   ],
   "source": [
    "dataset['document_length'][4]"
   ]
  },
  {
   "cell_type": "code",
   "execution_count": 12,
   "metadata": {},
   "outputs": [
    {
     "data": {
      "text/plain": [
       "(73440, 10)"
      ]
     },
     "execution_count": 12,
     "metadata": {},
     "output_type": "execute_result"
    }
   ],
   "source": [
    "predictions_raw.shape"
   ]
  },
  {
   "cell_type": "code",
   "execution_count": 13,
   "metadata": {},
   "outputs": [
    {
     "data": {
      "text/plain": [
       "array([[-10.631301 , -12.078302 , -12.2411995, -11.806658 , -11.806658 ,\n",
       "        -11.806658 , -11.806658 , -11.806658 , -11.806658 , -11.806658 ],\n",
       "       [  7.7507005,  -6.621772 ,  -6.578853 , -11.511486 , -11.511486 ,\n",
       "        -11.511486 , -11.511486 , -11.511486 , -11.511486 , -11.511486 ],\n",
       "       [-11.910148 , -12.425057 , -12.438853 , -12.1215   , -12.245618 ,\n",
       "        -11.802867 , -11.802867 , -11.802867 , -11.802867 , -11.802867 ],\n",
       "       [-11.883632 , -12.618671 , -11.862516 , -12.468813 , -12.743691 ,\n",
       "        -11.802253 , -11.802253 , -11.802253 , -11.802253 , -11.802253 ],\n",
       "       [  7.8944597, -11.53714  , -11.53714  , -11.53714  , -11.53714  ,\n",
       "        -11.53714  , -11.53714  , -11.53714  , -11.53714  , -11.53714  ]],\n",
       "      dtype=float32)"
      ]
     },
     "execution_count": 13,
     "metadata": {},
     "output_type": "execute_result"
    }
   ],
   "source": [
    "predictions_raw[:5]"
   ]
  },
  {
   "cell_type": "code",
   "execution_count": 14,
   "metadata": {},
   "outputs": [],
   "source": [
    "def reorganize_predictions(predictions, document_lengths):\n",
    "    out_list = []\n",
    "    start_index = 0\n",
    "    for i in range(len(document_lengths)):\n",
    "        pred_raw = predictions[start_index:start_index+len(document_lengths[i])]\n",
    "        pred = []\n",
    "        for j,p in enumerate(pred_raw):\n",
    "            pred += p[:document_lengths[i][j]]\n",
    "            pred += [0] * (document_lengths[i][j] - len(p[:document_lengths[i][j]]))\n",
    "        out_list.append(pred)\n",
    "        start_index += len(document_lengths[i])\n",
    "    return out_list"
   ]
  },
  {
   "cell_type": "code",
   "execution_count": 15,
   "metadata": {},
   "outputs": [],
   "source": [
    "predictions_reorganized = reorganize_predictions(predictions_raw.tolist(), dataset['document_length'])"
   ]
  },
  {
   "cell_type": "code",
   "execution_count": 16,
   "metadata": {},
   "outputs": [],
   "source": [
    "supporting_facts_reorganized = reorganize_predictions(dataset['supporting_fact'], dataset['document_length'])"
   ]
  },
  {
   "cell_type": "code",
   "execution_count": 17,
   "metadata": {},
   "outputs": [
    {
     "name": "stderr",
     "output_type": "stream",
     "text": [
      "100%|██████████| 7344/7344 [00:00<00:00, 710253.14it/s]\n"
     ]
    }
   ],
   "source": [
    "for i in trange(len(predictions_reorganized)):\n",
    "    assert(len(supporting_facts_reorganized[i]) == len(predictions_reorganized[i]))"
   ]
  },
  {
   "cell_type": "code",
   "execution_count": 18,
   "metadata": {},
   "outputs": [
    {
     "name": "stderr",
     "output_type": "stream",
     "text": [
      "100%|██████████| 7344/7344 [00:00<00:00, 699685.82it/s]\n"
     ]
    }
   ],
   "source": [
    "for i in trange(len(predictions_reorganized)):\n",
    "    assert(sum(dataset['document_length'][i]) == len(predictions_reorganized[i]))"
   ]
  },
  {
   "cell_type": "code",
   "execution_count": 19,
   "metadata": {},
   "outputs": [],
   "source": [
    "def evaluate(gt, pred, threshold, document_lengths):\n",
    "    pred_answer_labels = (torch.sigmoid(torch.tensor(pred)) > threshold).numpy().tolist()\n",
    "    predictions_reorganized = reorganize_predictions(pred_answer_labels, document_lengths)\n",
    "    supporting_facts_reorganized = reorganize_predictions(gt, document_lengths)\n",
    "    result = score(supporting_facts_reorganized, predictions_reorganized)\n",
    "    return result"
   ]
  },
  {
   "cell_type": "code",
   "execution_count": 20,
   "metadata": {},
   "outputs": [
    {
     "data": {
      "text/plain": [
       "{'precision': 0.8456016897499802,\n",
       " 'recall': 0.795548844537818,\n",
       " 'f1': 0.7941150194214126,\n",
       " 'em': 0.45179738562091504,\n",
       " 'full_recall_fraction': 0.6004901960784313}"
      ]
     },
     "execution_count": 20,
     "metadata": {},
     "output_type": "execute_result"
    }
   ],
   "source": [
    "evaluate(dataset['supporting_fact'], predictions_raw, 0.5, dataset['document_length'])"
   ]
  },
  {
   "cell_type": "code",
   "execution_count": 21,
   "metadata": {},
   "outputs": [
    {
     "name": "stderr",
     "output_type": "stream",
     "text": [
      "100%|██████████| 18/18 [03:53<00:00, 12.76s/it]\n"
     ]
    }
   ],
   "source": [
    "metrics = {'precision':[], 'recall':[], 'f1':[], 'em':[], \"full_recall_fraction\":[]}\n",
    "for t in tqdm(np.linspace(0.1,1,18,endpoint=False)):\n",
    "    result = evaluate(dataset['supporting_fact'], predictions_raw, t, dataset['document_length'])\n",
    "    for key,value in result.items():\n",
    "        metrics[key].append(value)"
   ]
  },
  {
   "cell_type": "code",
   "execution_count": 22,
   "metadata": {},
   "outputs": [
    {
     "data": {
      "text/plain": [
       "0.7995912168502247"
      ]
     },
     "execution_count": 22,
     "metadata": {},
     "output_type": "execute_result"
    }
   ],
   "source": [
    "max(metrics['f1'])"
   ]
  },
  {
   "cell_type": "code",
   "execution_count": 23,
   "metadata": {},
   "outputs": [
    {
     "data": {
      "text/plain": [
       "0.4594226579520697"
      ]
     },
     "execution_count": 23,
     "metadata": {},
     "output_type": "execute_result"
    }
   ],
   "source": [
    "max(metrics['em'])"
   ]
  },
  {
   "cell_type": "code",
   "execution_count": 24,
   "metadata": {},
   "outputs": [],
   "source": [
    "import pandas as pd\n",
    "import matplotlib.pyplot as plt"
   ]
  },
  {
   "cell_type": "code",
   "execution_count": 25,
   "metadata": {},
   "outputs": [],
   "source": [
    "metric_df = pd.DataFrame(metrics, index=np.linspace(0.1,1,18,endpoint=False))"
   ]
  },
  {
   "cell_type": "code",
   "execution_count": 26,
   "metadata": {},
   "outputs": [
    {
     "data": {
      "text/html": [
       "<div>\n",
       "<style scoped>\n",
       "    .dataframe tbody tr th:only-of-type {\n",
       "        vertical-align: middle;\n",
       "    }\n",
       "\n",
       "    .dataframe tbody tr th {\n",
       "        vertical-align: top;\n",
       "    }\n",
       "\n",
       "    .dataframe thead th {\n",
       "        text-align: right;\n",
       "    }\n",
       "</style>\n",
       "<table border=\"1\" class=\"dataframe\">\n",
       "  <thead>\n",
       "    <tr style=\"text-align: right;\">\n",
       "      <th></th>\n",
       "      <th>precision</th>\n",
       "      <th>recall</th>\n",
       "      <th>f1</th>\n",
       "      <th>em</th>\n",
       "      <th>full_recall_fraction</th>\n",
       "    </tr>\n",
       "  </thead>\n",
       "  <tbody>\n",
       "    <tr>\n",
       "      <th>0.10</th>\n",
       "      <td>0.768142</td>\n",
       "      <td>0.876702</td>\n",
       "      <td>0.790805</td>\n",
       "      <td>0.374455</td>\n",
       "      <td>0.746051</td>\n",
       "    </tr>\n",
       "    <tr>\n",
       "      <th>0.15</th>\n",
       "      <td>0.786640</td>\n",
       "      <td>0.863096</td>\n",
       "      <td>0.795555</td>\n",
       "      <td>0.396242</td>\n",
       "      <td>0.720861</td>\n",
       "    </tr>\n",
       "    <tr>\n",
       "      <th>0.20</th>\n",
       "      <td>0.801147</td>\n",
       "      <td>0.850814</td>\n",
       "      <td>0.798151</td>\n",
       "      <td>0.412582</td>\n",
       "      <td>0.698802</td>\n",
       "    </tr>\n",
       "    <tr>\n",
       "      <th>0.25</th>\n",
       "      <td>0.811837</td>\n",
       "      <td>0.839929</td>\n",
       "      <td>0.799167</td>\n",
       "      <td>0.429194</td>\n",
       "      <td>0.679058</td>\n",
       "    </tr>\n",
       "    <tr>\n",
       "      <th>0.30</th>\n",
       "      <td>0.821340</td>\n",
       "      <td>0.830142</td>\n",
       "      <td>0.799591</td>\n",
       "      <td>0.440768</td>\n",
       "      <td>0.661765</td>\n",
       "    </tr>\n",
       "    <tr>\n",
       "      <th>0.35</th>\n",
       "      <td>0.828439</td>\n",
       "      <td>0.819976</td>\n",
       "      <td>0.798034</td>\n",
       "      <td>0.443491</td>\n",
       "      <td>0.643246</td>\n",
       "    </tr>\n",
       "    <tr>\n",
       "      <th>0.40</th>\n",
       "      <td>0.835480</td>\n",
       "      <td>0.811778</td>\n",
       "      <td>0.797602</td>\n",
       "      <td>0.449074</td>\n",
       "      <td>0.628404</td>\n",
       "    </tr>\n",
       "    <tr>\n",
       "      <th>0.45</th>\n",
       "      <td>0.840454</td>\n",
       "      <td>0.803085</td>\n",
       "      <td>0.795534</td>\n",
       "      <td>0.451117</td>\n",
       "      <td>0.613971</td>\n",
       "    </tr>\n",
       "    <tr>\n",
       "      <th>0.50</th>\n",
       "      <td>0.845602</td>\n",
       "      <td>0.795549</td>\n",
       "      <td>0.794115</td>\n",
       "      <td>0.451797</td>\n",
       "      <td>0.600490</td>\n",
       "    </tr>\n",
       "    <tr>\n",
       "      <th>0.55</th>\n",
       "      <td>0.850057</td>\n",
       "      <td>0.787841</td>\n",
       "      <td>0.792142</td>\n",
       "      <td>0.456699</td>\n",
       "      <td>0.590005</td>\n",
       "    </tr>\n",
       "    <tr>\n",
       "      <th>0.60</th>\n",
       "      <td>0.854522</td>\n",
       "      <td>0.779329</td>\n",
       "      <td>0.789344</td>\n",
       "      <td>0.457925</td>\n",
       "      <td>0.577751</td>\n",
       "    </tr>\n",
       "    <tr>\n",
       "      <th>0.65</th>\n",
       "      <td>0.859586</td>\n",
       "      <td>0.770826</td>\n",
       "      <td>0.786845</td>\n",
       "      <td>0.459423</td>\n",
       "      <td>0.565359</td>\n",
       "    </tr>\n",
       "    <tr>\n",
       "      <th>0.70</th>\n",
       "      <td>0.860982</td>\n",
       "      <td>0.760240</td>\n",
       "      <td>0.781441</td>\n",
       "      <td>0.455065</td>\n",
       "      <td>0.550109</td>\n",
       "    </tr>\n",
       "    <tr>\n",
       "      <th>0.75</th>\n",
       "      <td>0.863832</td>\n",
       "      <td>0.748273</td>\n",
       "      <td>0.775273</td>\n",
       "      <td>0.450980</td>\n",
       "      <td>0.533497</td>\n",
       "    </tr>\n",
       "    <tr>\n",
       "      <th>0.80</th>\n",
       "      <td>0.866310</td>\n",
       "      <td>0.735379</td>\n",
       "      <td>0.768607</td>\n",
       "      <td>0.446351</td>\n",
       "      <td>0.516476</td>\n",
       "    </tr>\n",
       "    <tr>\n",
       "      <th>0.85</th>\n",
       "      <td>0.866407</td>\n",
       "      <td>0.717981</td>\n",
       "      <td>0.757957</td>\n",
       "      <td>0.436819</td>\n",
       "      <td>0.494145</td>\n",
       "    </tr>\n",
       "    <tr>\n",
       "      <th>0.90</th>\n",
       "      <td>0.863988</td>\n",
       "      <td>0.693983</td>\n",
       "      <td>0.741904</td>\n",
       "      <td>0.420752</td>\n",
       "      <td>0.464597</td>\n",
       "    </tr>\n",
       "    <tr>\n",
       "      <th>0.95</th>\n",
       "      <td>0.851076</td>\n",
       "      <td>0.651391</td>\n",
       "      <td>0.709492</td>\n",
       "      <td>0.389025</td>\n",
       "      <td>0.418028</td>\n",
       "    </tr>\n",
       "  </tbody>\n",
       "</table>\n",
       "</div>"
      ],
      "text/plain": [
       "      precision    recall        f1        em  full_recall_fraction\n",
       "0.10   0.768142  0.876702  0.790805  0.374455              0.746051\n",
       "0.15   0.786640  0.863096  0.795555  0.396242              0.720861\n",
       "0.20   0.801147  0.850814  0.798151  0.412582              0.698802\n",
       "0.25   0.811837  0.839929  0.799167  0.429194              0.679058\n",
       "0.30   0.821340  0.830142  0.799591  0.440768              0.661765\n",
       "0.35   0.828439  0.819976  0.798034  0.443491              0.643246\n",
       "0.40   0.835480  0.811778  0.797602  0.449074              0.628404\n",
       "0.45   0.840454  0.803085  0.795534  0.451117              0.613971\n",
       "0.50   0.845602  0.795549  0.794115  0.451797              0.600490\n",
       "0.55   0.850057  0.787841  0.792142  0.456699              0.590005\n",
       "0.60   0.854522  0.779329  0.789344  0.457925              0.577751\n",
       "0.65   0.859586  0.770826  0.786845  0.459423              0.565359\n",
       "0.70   0.860982  0.760240  0.781441  0.455065              0.550109\n",
       "0.75   0.863832  0.748273  0.775273  0.450980              0.533497\n",
       "0.80   0.866310  0.735379  0.768607  0.446351              0.516476\n",
       "0.85   0.866407  0.717981  0.757957  0.436819              0.494145\n",
       "0.90   0.863988  0.693983  0.741904  0.420752              0.464597\n",
       "0.95   0.851076  0.651391  0.709492  0.389025              0.418028"
      ]
     },
     "execution_count": 26,
     "metadata": {},
     "output_type": "execute_result"
    }
   ],
   "source": [
    "metric_df"
   ]
  },
  {
   "cell_type": "code",
   "execution_count": 27,
   "metadata": {},
   "outputs": [
    {
     "data": {
      "text/plain": [
       "<Figure size 432x288 with 0 Axes>"
      ]
     },
     "metadata": {},
     "output_type": "display_data"
    },
    {
     "data": {
      "image/png": "[encoded data removed]",
      "text/plain": [
       "<Figure size 432x288 with 1 Axes>"
      ]
     },
     "metadata": {
      "needs_background": "light"
     },
     "output_type": "display_data"
    }
   ],
   "source": [
    "plt.figure(); metric_df.plot(colormap=\"Dark2\");"
   ]
  },
  {
   "cell_type": "code",
   "execution_count": 28,
   "metadata": {},
   "outputs": [],
   "source": [
    "import seaborn as sns"
   ]
  },
  {
   "cell_type": "code",
   "execution_count": 29,
   "metadata": {},
   "outputs": [
    {
     "name": "stderr",
     "output_type": "stream",
     "text": [
      "/home/bhargav/anaconda3/lib/python3.6/site-packages/scipy/stats/stats.py:1713: FutureWarning: Using a non-tuple sequence for multidimensional indexing is deprecated; use `arr[tuple(seq)]` instead of `arr[seq]`. In the future this will be interpreted as an array index, `arr[np.array(seq)]`, which will result either in an error or a different result.\n",
      "  return np.add.reduce(sorted[indexer] * weights, axis=axis) / sumval\n"
     ]
    },
    {
     "data": {
      "text/plain": [
       "<matplotlib.axes._subplots.AxesSubplot at 0x7f4312ea8080>"
      ]
     },
     "execution_count": 29,
     "metadata": {},
     "output_type": "execute_result"
    },
    {
     "data": {
      "image/png": "[encoded data removed]",
      "text/plain": [
       "<Figure size 432x288 with 1 Axes>"
      ]
     },
     "metadata": {
      "needs_background": "light"
     },
     "output_type": "display_data"
    }
   ],
   "source": [
    "sns.distplot((torch.sigmoid(torch.tensor(predictions_raw))).numpy().flatten(),kde=False, hist=True, rug=False)"
   ]
  },
  {
   "cell_type": "markdown",
   "metadata": {},
   "source": [
    "## Examining the predictions"
   ]
  },
  {
   "cell_type": "code",
   "execution_count": 30,
   "metadata": {},
   "outputs": [],
   "source": [
    "threshold = 0.5"
   ]
  },
  {
   "cell_type": "code",
   "execution_count": 31,
   "metadata": {},
   "outputs": [],
   "source": [
    "pred_answer_labels = (torch.sigmoid(torch.tensor(predictions_raw)) > threshold).numpy().tolist()"
   ]
  },
  {
   "cell_type": "code",
   "execution_count": 32,
   "metadata": {},
   "outputs": [],
   "source": [
    "# for individual question,paragraph pairs\n",
    "wrong_prediction_indices = []\n",
    "correct_prediction_indices = []\n",
    "for i in range(len(dataset[\"supporting_fact\"])):\n",
    "    if( dataset[\"supporting_fact\"][i] != pred_answer_labels[i]):\n",
    "        wrong_prediction_indices.append(i)\n",
    "    else:\n",
    "        correct_prediction_indices.append(i)"
   ]
  },
  {
   "cell_type": "code",
   "execution_count": 33,
   "metadata": {},
   "outputs": [
    {
     "data": {
      "text/plain": [
       "73440"
      ]
     },
     "execution_count": 33,
     "metadata": {},
     "output_type": "execute_result"
    }
   ],
   "source": [
    "len(wrong_prediction_indices)"
   ]
  },
  {
   "cell_type": "code",
   "execution_count": 34,
   "metadata": {},
   "outputs": [
    {
     "data": {
      "text/plain": [
       "0"
      ]
     },
     "execution_count": 34,
     "metadata": {},
     "output_type": "execute_result"
    }
   ],
   "source": [
    "len(correct_prediction_indices)"
   ]
  },
  {
   "cell_type": "code",
   "execution_count": 35,
   "metadata": {},
   "outputs": [],
   "source": [
    "def actually_print_q_p(q_p):\n",
    "    print(\"Question: {}\".format(q_p[\"question\"]))\n",
    "    print(\"=============================================\")\n",
    "    for i, s in enumerate(q_p[\"sequence\"]):\n",
    "        print(\"sentence {}: {}\".format(i,s))\n",
    "    print(\"=============================================\")\n",
    "    print(\"True labels:{}\".format(q_p[\"true_label\"]))\n",
    "    print(\"=============================================\")\n",
    "    print(\"Predicted labels:{}\".format(q_p[\"predicted_label\"]))\n",
    "\n",
    "def print_q_p_pair(index, dataset, pred_answer_labels):\n",
    "    token_ids = dataset[\"sequence\"][index]\n",
    "    true_label = dataset[\"supporting_fact\"][index]\n",
    "    words = tokenizer.convert_ids_to_tokens(token_ids)\n",
    "    q_p = {\"question\":\" \".join(words).split(\"[SEP]\")[0], \n",
    "            \"sequence\":\" \".join(words).split(\"[SEP]\")[1].split(\".\"),\n",
    "            \"true_label\":true_label,\n",
    "            \"predicted_label\": pred_answer_labels[index]\n",
    "           } \n",
    "    actually_print_q_p(q_p)\n",
    "    \n",
    "def get_q_p(index, dataset, pred_answer_labels):\n",
    "    token_ids = dataset[\"sequence\"][index]\n",
    "    true_label = dataset[\"supporting_fact\"][index]\n",
    "    words = tokenizer.convert_ids_to_tokens(token_ids)\n",
    "    q_p = {\n",
    "            \"sequence\":\" \".join(words),\n",
    "            \"true_label\":true_label,\n",
    "            \"predicted_label\": pred_answer_labels[index]\n",
    "           } \n",
    "    return q_p"
   ]
  },
  {
   "cell_type": "code",
   "execution_count": 36,
   "metadata": {},
   "outputs": [
    {
     "data": {
      "text/plain": [
       "{'sequence': '[CLS] were scott derrick ##son and ed wood of the same nationality ? [SEP] woods ##on is a census - designated place ( cdp ) in pu ##las ##ki county , arkansas , in the united states . its population was 403 at the 2010 census . it is part of the little rock – north little rock – conway metropolitan statistical area . woods ##on and its accompanying woods ##on lake and wood hollow are the namesake for ed wood sr . , a prominent plantation owner , trader , and businessman at the turn of the 20th century . woods ##on is adjacent to the wood plantation , the largest of the plantations own by ed wood sr . [PAD] [PAD] [PAD] [PAD] [PAD] [PAD] [PAD] [PAD] [PAD] [PAD] [PAD] [PAD] [PAD] [PAD] [PAD] [PAD] [PAD] [PAD] [PAD] [PAD] [PAD] [PAD] [PAD] [PAD] [PAD] [PAD] [PAD] [PAD] [PAD] [PAD] [PAD] [PAD] [PAD] [PAD] [PAD] [PAD] [PAD] [PAD] [PAD] [PAD] [PAD] [PAD] [PAD] [PAD] [PAD] [PAD] [PAD] [PAD] [PAD] [PAD] [PAD] [PAD] [PAD] [PAD] [PAD] [PAD] [PAD] [PAD] [PAD] [PAD] [PAD] [PAD] [PAD] [PAD] [PAD] [PAD] [PAD] [PAD] [PAD] [PAD] [PAD] [PAD] [PAD] [PAD] [PAD] [PAD] [PAD] [PAD] [PAD] [PAD] [PAD] [PAD] [PAD] [PAD] [PAD] [PAD] [PAD] [PAD] [PAD] [PAD] [PAD] [PAD] [PAD] [PAD] [PAD] [PAD] [PAD] [PAD] [PAD] [PAD] [PAD] [PAD] [PAD] [PAD] [PAD] [PAD] [PAD] [PAD] [PAD] [PAD] [PAD] [PAD] [PAD] [PAD] [PAD] [PAD] [PAD] [PAD] [PAD] [PAD] [PAD] [PAD] [PAD] [PAD] [PAD] [PAD] [PAD] [PAD] [PAD] [PAD] [PAD] [PAD] [PAD] [PAD] [PAD] [PAD] [PAD] [PAD] [PAD] [PAD] [PAD] [PAD] [PAD] [PAD] [PAD] [PAD] [PAD] [PAD] [PAD] [PAD] [PAD] [PAD] [PAD] [PAD] [PAD] [PAD] [PAD] [PAD] [PAD] [PAD] [PAD] [PAD] [PAD] [PAD] [PAD] [PAD] [PAD] [PAD] [PAD] [PAD] [PAD] [PAD] [PAD] [PAD] [PAD] [PAD] [PAD] [PAD] [PAD] [PAD] [PAD] [PAD] [PAD] [PAD] [PAD] [PAD] [PAD] [PAD] [PAD] [PAD] [PAD] [PAD] [PAD] [PAD] [PAD] [PAD] [PAD] [PAD] [PAD] [PAD] [PAD] [PAD] [PAD] [PAD] [PAD] [PAD] [PAD] [PAD] [PAD] [PAD] [PAD] [PAD] [PAD] [PAD] [PAD] [PAD] [PAD] [PAD] [PAD] [PAD] [PAD] [PAD] [PAD] [PAD] [PAD] [PAD] [PAD] [PAD] [PAD] [PAD] [PAD] [PAD] [PAD] [PAD] [PAD] [PAD] [PAD] [PAD] [PAD] [PAD] [PAD] [PAD] [PAD] [PAD] [PAD] [PAD] [PAD] [PAD] [PAD] [PAD] [PAD] [PAD] [PAD] [PAD] [PAD] [PAD] [PAD] [PAD] [PAD] [PAD] [PAD] [PAD] [PAD] [PAD] [PAD] [PAD] [PAD] [PAD] [PAD] [PAD] [PAD] [PAD] [PAD] [PAD] [PAD] [PAD] [PAD] [PAD] [PAD] [PAD] [PAD] [PAD] [PAD] [PAD] [PAD] [PAD] [PAD] [PAD] [PAD] [PAD] [PAD] [PAD] [PAD] [PAD] [PAD] [PAD] [PAD] [PAD] [PAD] [PAD] [PAD] [PAD] [PAD] [PAD] [PAD] [PAD] [PAD] [PAD] [PAD] [PAD] [PAD] [PAD] [PAD] [PAD] [PAD] [PAD] [PAD] [PAD] [PAD] [PAD] [PAD] [PAD] [PAD] [PAD] [PAD] [PAD] [PAD] [PAD] [PAD] [PAD] [PAD] [PAD] [PAD] [PAD] [PAD] [PAD] [PAD] [PAD] [PAD] [PAD] [PAD] [PAD] [PAD] [PAD] [PAD] [PAD] [PAD] [PAD] [PAD] [PAD] [PAD] [PAD] [PAD] [PAD] [PAD] [PAD] [PAD] [PAD] [PAD] [PAD] [PAD] [PAD] [PAD] [PAD] [PAD] [PAD] [PAD] [PAD] [PAD] [PAD] [PAD] [PAD] [PAD] [PAD] [PAD] [PAD] [PAD] [PAD] [PAD]',\n",
       " 'true_label': [0, 0, 0, 0, 0],\n",
       " 'predicted_label': [0, 0, 0, 0, 0, 0, 0, 0, 0, 0]}"
      ]
     },
     "execution_count": 36,
     "metadata": {},
     "output_type": "execute_result"
    }
   ],
   "source": [
    "get_q_p(wrong_prediction_indices[2], dataset, pred_answer_labels)"
   ]
  },
  {
   "cell_type": "code",
   "execution_count": null,
   "metadata": {},
   "outputs": [],
   "source": []
  }
 ],
 "metadata": {
  "kernelspec": {
   "display_name": "Python 3",
   "language": "python",
   "name": "python3"
  },
  "language_info": {
   "codemirror_mode": {
    "name": "ipython",
    "version": 3
   },
   "file_extension": ".py",
   "mimetype": "text/x-python",
   "name": "python",
   "nbconvert_exporter": "python",
   "pygments_lexer": "ipython3",
   "version": "3.6.7"
  }
 },
 "nbformat": 4,
 "nbformat_minor": 2
}
