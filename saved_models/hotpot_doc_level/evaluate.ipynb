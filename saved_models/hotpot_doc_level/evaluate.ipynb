{
 "cells": [
  {
   "cell_type": "code",
   "execution_count": 1,
   "metadata": {},
   "outputs": [],
   "source": [
    "import random\n",
    "import math\n",
    "import os\n",
    "import pickle\n",
    "from tqdm import tqdm, trange\n",
    "import numpy as np\n",
    "\n",
    "import sklearn\n",
    "from sklearn.metrics import f1_score, accuracy_score\n",
    "from sklearn.metrics import precision_score, recall_score\n",
    "\n",
    "import torch\n",
    "from torch.utils.data import Dataset, DataLoader, TensorDataset\n",
    "\n",
    "import pdb"
   ]
  },
  {
   "cell_type": "code",
   "execution_count": 2,
   "metadata": {},
   "outputs": [],
   "source": [
    "import warnings\n",
    "warnings.filterwarnings(\"ignore\", category=sklearn.exceptions.UndefinedMetricWarning)"
   ]
  },
  {
   "cell_type": "code",
   "execution_count": 3,
   "metadata": {},
   "outputs": [
    {
     "name": "stdout",
     "output_type": "stream",
     "text": [
      "Better speed can be achieved with apex installed from https://www.github.com/nvidia/apex.\n"
     ]
    }
   ],
   "source": [
    "from pytorch_pretrained_bert import BertTokenizer"
   ]
  },
  {
   "cell_type": "code",
   "execution_count": 4,
   "metadata": {},
   "outputs": [],
   "source": [
    "tokenizer = BertTokenizer.from_pretrained('bert-base-uncased')"
   ]
  },
  {
   "cell_type": "code",
   "execution_count": 5,
   "metadata": {},
   "outputs": [],
   "source": [
    "def pickler(path,pkl_name,obj):\n",
    "    with open(os.path.join(path, pkl_name), 'wb') as f:\n",
    "        pickle.dump(obj, f, pickle.HIGHEST_PROTOCOL)\n",
    "\n",
    "def unpickler(path,pkl_name):\n",
    "    with open(os.path.join(path, pkl_name) ,'rb') as f:\n",
    "        obj = pickle.load(f)\n",
    "    return obj"
   ]
  },
  {
   "cell_type": "code",
   "execution_count": 6,
   "metadata": {},
   "outputs": [],
   "source": [
    "data_pkl_path = \"../../data/hotpot_doc_level/\"\n",
    "data_pkl_name = \"preprocessed_dev.pkl\"\n",
    "predictions_pkl_path = \"./\"\n",
    "predictions_pkl_name = \"predictions.pkl\""
   ]
  },
  {
   "cell_type": "code",
   "execution_count": 7,
   "metadata": {},
   "outputs": [],
   "source": [
    "def score(gt, pred):\n",
    "    assert(len(gt) == len(pred))\n",
    "    total_size = len(pred)\n",
    "    assert(len(gt) != 0)\n",
    "    total_precision = 0\n",
    "    total_recall = 0\n",
    "    total_f1 = 0\n",
    "    total_correct = 0\n",
    "    for i in range(total_size):\n",
    "        if(gt[i] == pred[i]):\n",
    "            total_correct += 1\n",
    "        p = precision_score(gt[i], pred[i],average=\"binary\")\n",
    "        r = recall_score(gt[i], pred[i],average=\"binary\")\n",
    "        total_precision += p\n",
    "        total_recall += r\n",
    "        total_f1 += 2*(p*r)/(p+r) if (p+r)>0 else 0\n",
    "    return {\"precision\":total_precision/total_size, \"recall\":total_recall/total_size, \n",
    "            \"f1\":total_f1/total_size, \"em\":total_correct/total_size}"
   ]
  },
  {
   "cell_type": "code",
   "execution_count": 8,
   "metadata": {},
   "outputs": [],
   "source": [
    "dataset = unpickler(data_pkl_path, data_pkl_name)"
   ]
  },
  {
   "cell_type": "code",
   "execution_count": 9,
   "metadata": {},
   "outputs": [
    {
     "data": {
      "text/plain": [
       "dict_keys(['sequence', 'sentence_start_index', 'sentence_end_index', 'supporting_fact', 'segment_id', 'max_seq_len', 'max_sentences', 'document_length'])"
      ]
     },
     "execution_count": 9,
     "metadata": {},
     "output_type": "execute_result"
    }
   ],
   "source": [
    "dataset.keys()"
   ]
  },
  {
   "cell_type": "code",
   "execution_count": 10,
   "metadata": {},
   "outputs": [],
   "source": [
    "predictions_raw = unpickler(predictions_pkl_path, predictions_pkl_name)"
   ]
  },
  {
   "cell_type": "code",
   "execution_count": 11,
   "metadata": {},
   "outputs": [
    {
     "data": {
      "text/plain": [
       "[4, 2, 3, 2, 4, 22, 3, 4, 5, 3]"
      ]
     },
     "execution_count": 11,
     "metadata": {},
     "output_type": "execute_result"
    }
   ],
   "source": [
    "dataset['document_length'][4]"
   ]
  },
  {
   "cell_type": "code",
   "execution_count": 12,
   "metadata": {},
   "outputs": [
    {
     "data": {
      "text/plain": [
       "(73440, 5)"
      ]
     },
     "execution_count": 12,
     "metadata": {},
     "output_type": "execute_result"
    }
   ],
   "source": [
    "predictions_raw.shape"
   ]
  },
  {
   "cell_type": "code",
   "execution_count": 13,
   "metadata": {},
   "outputs": [
    {
     "data": {
      "text/plain": [
       "array([[-10.055658 , -11.768422 , -11.992339 , -11.703031 , -11.703031 ],\n",
       "       [  7.734824 ,  -6.0779786,  -6.318138 , -11.415992 , -11.415992 ],\n",
       "       [-11.801379 , -12.394334 , -12.419237 , -11.978263 , -12.20426  ],\n",
       "       [-11.771347 , -12.546697 , -11.700275 , -12.357806 , -12.714559 ],\n",
       "       [  7.9397826, -11.4418745, -11.4418745, -11.4418745, -11.4418745]],\n",
       "      dtype=float32)"
      ]
     },
     "execution_count": 13,
     "metadata": {},
     "output_type": "execute_result"
    }
   ],
   "source": [
    "predictions_raw[:5]"
   ]
  },
  {
   "cell_type": "code",
   "execution_count": 14,
   "metadata": {},
   "outputs": [],
   "source": [
    "def reorganize_predictions(predictions, document_lengths):\n",
    "    out_list = []\n",
    "    start_index = 0\n",
    "    for i in range(len(document_lengths)):\n",
    "        pred_raw = predictions[start_index:start_index+len(document_lengths[i])]\n",
    "        pred = []\n",
    "        for j,p in enumerate(pred_raw):\n",
    "            pred += p[:document_lengths[i][j]]\n",
    "            pred += [0] * (document_lengths[i][j] - len(p[:document_lengths[i][j]]))\n",
    "        out_list.append(pred)\n",
    "        start_index += len(document_lengths[i])\n",
    "    return out_list"
   ]
  },
  {
   "cell_type": "code",
   "execution_count": 15,
   "metadata": {},
   "outputs": [],
   "source": [
    "predictions_reorganized = reorganize_predictions(predictions_raw.tolist(), dataset['document_length'])"
   ]
  },
  {
   "cell_type": "code",
   "execution_count": 16,
   "metadata": {},
   "outputs": [],
   "source": [
    "supporting_facts_reorganized = reorganize_predictions(dataset['supporting_fact'], dataset['document_length'])"
   ]
  },
  {
   "cell_type": "code",
   "execution_count": 17,
   "metadata": {},
   "outputs": [
    {
     "name": "stderr",
     "output_type": "stream",
     "text": [
      "100%|██████████| 7344/7344 [00:00<00:00, 877702.48it/s]\n"
     ]
    }
   ],
   "source": [
    "for i in trange(len(predictions_reorganized)):\n",
    "    assert(len(supporting_facts_reorganized[i]) == len(predictions_reorganized[i]))"
   ]
  },
  {
   "cell_type": "code",
   "execution_count": 18,
   "metadata": {},
   "outputs": [
    {
     "name": "stderr",
     "output_type": "stream",
     "text": [
      "100%|██████████| 7344/7344 [00:00<00:00, 658802.48it/s]\n"
     ]
    }
   ],
   "source": [
    "for i in trange(len(predictions_reorganized)):\n",
    "    assert(sum(dataset['document_length'][i]) == len(predictions_reorganized[i]))"
   ]
  },
  {
   "cell_type": "code",
   "execution_count": 19,
   "metadata": {},
   "outputs": [],
   "source": [
    "def evaluate(gt, pred, threshold, document_lengths):\n",
    "    pred_answer_labels = (torch.sigmoid(torch.tensor(pred)) > threshold).numpy().tolist()\n",
    "    predictions_reorganized = reorganize_predictions(pred_answer_labels, document_lengths)\n",
    "    supporting_facts_reorganized = reorganize_predictions(gt, document_lengths)\n",
    "    result = score(supporting_facts_reorganized, predictions_reorganized)\n",
    "    return result"
   ]
  },
  {
   "cell_type": "code",
   "execution_count": 20,
   "metadata": {},
   "outputs": [
    {
     "data": {
      "text/plain": [
       "{'precision': 0.8479216918248844,\n",
       " 'recall': 0.8014902025625099,\n",
       " 'f1': 0.7990070961476389,\n",
       " 'em': 0.4584694989106754}"
      ]
     },
     "execution_count": 20,
     "metadata": {},
     "output_type": "execute_result"
    }
   ],
   "source": [
    "evaluate(dataset['supporting_fact'], predictions_raw, 0.5, dataset['document_length'])"
   ]
  },
  {
   "cell_type": "code",
   "execution_count": 21,
   "metadata": {},
   "outputs": [
    {
     "name": "stderr",
     "output_type": "stream",
     "text": [
      "100%|██████████| 18/18 [03:53<00:00, 12.78s/it]\n"
     ]
    }
   ],
   "source": [
    "metrics = {'precision':[], 'recall':[], 'f1':[], 'em':[]}\n",
    "for t in tqdm(np.linspace(0.1,1,18,endpoint=False)):\n",
    "    result = evaluate(dataset['supporting_fact'], predictions_raw, t, dataset['document_length'])\n",
    "    for key,value in result.items():\n",
    "        metrics[key].append(value)"
   ]
  },
  {
   "cell_type": "code",
   "execution_count": 22,
   "metadata": {},
   "outputs": [
    {
     "data": {
      "text/plain": [
       "0.8029901607107698"
      ]
     },
     "execution_count": 22,
     "metadata": {},
     "output_type": "execute_result"
    }
   ],
   "source": [
    "max(metrics['f1'])"
   ]
  },
  {
   "cell_type": "code",
   "execution_count": 23,
   "metadata": {},
   "outputs": [
    {
     "data": {
      "text/plain": [
       "0.4671840958605665"
      ]
     },
     "execution_count": 23,
     "metadata": {},
     "output_type": "execute_result"
    }
   ],
   "source": [
    "max(metrics['em'])"
   ]
  },
  {
   "cell_type": "code",
   "execution_count": 24,
   "metadata": {},
   "outputs": [],
   "source": [
    "import pandas as pd\n",
    "import matplotlib.pyplot as plt"
   ]
  },
  {
   "cell_type": "code",
   "execution_count": 25,
   "metadata": {},
   "outputs": [],
   "source": [
    "metric_df = pd.DataFrame(metrics, index=np.linspace(0.1,1,18,endpoint=False))"
   ]
  },
  {
   "cell_type": "code",
   "execution_count": 26,
   "metadata": {},
   "outputs": [
    {
     "data": {
      "text/html": [
       "<div>\n",
       "<style scoped>\n",
       "    .dataframe tbody tr th:only-of-type {\n",
       "        vertical-align: middle;\n",
       "    }\n",
       "\n",
       "    .dataframe tbody tr th {\n",
       "        vertical-align: top;\n",
       "    }\n",
       "\n",
       "    .dataframe thead th {\n",
       "        text-align: right;\n",
       "    }\n",
       "</style>\n",
       "<table border=\"1\" class=\"dataframe\">\n",
       "  <thead>\n",
       "    <tr style=\"text-align: right;\">\n",
       "      <th></th>\n",
       "      <th>precision</th>\n",
       "      <th>recall</th>\n",
       "      <th>f1</th>\n",
       "      <th>em</th>\n",
       "    </tr>\n",
       "  </thead>\n",
       "  <tbody>\n",
       "    <tr>\n",
       "      <th>0.10</th>\n",
       "      <td>0.748934</td>\n",
       "      <td>0.893809</td>\n",
       "      <td>0.786923</td>\n",
       "      <td>0.351171</td>\n",
       "    </tr>\n",
       "    <tr>\n",
       "      <th>0.15</th>\n",
       "      <td>0.773072</td>\n",
       "      <td>0.877292</td>\n",
       "      <td>0.794272</td>\n",
       "      <td>0.378813</td>\n",
       "    </tr>\n",
       "    <tr>\n",
       "      <th>0.20</th>\n",
       "      <td>0.789334</td>\n",
       "      <td>0.865264</td>\n",
       "      <td>0.798643</td>\n",
       "      <td>0.400327</td>\n",
       "    </tr>\n",
       "    <tr>\n",
       "      <th>0.25</th>\n",
       "      <td>0.803478</td>\n",
       "      <td>0.853605</td>\n",
       "      <td>0.801530</td>\n",
       "      <td>0.419390</td>\n",
       "    </tr>\n",
       "    <tr>\n",
       "      <th>0.30</th>\n",
       "      <td>0.815045</td>\n",
       "      <td>0.841560</td>\n",
       "      <td>0.802245</td>\n",
       "      <td>0.437364</td>\n",
       "    </tr>\n",
       "    <tr>\n",
       "      <th>0.35</th>\n",
       "      <td>0.824971</td>\n",
       "      <td>0.831442</td>\n",
       "      <td>0.802990</td>\n",
       "      <td>0.446623</td>\n",
       "    </tr>\n",
       "    <tr>\n",
       "      <th>0.40</th>\n",
       "      <td>0.833622</td>\n",
       "      <td>0.820369</td>\n",
       "      <td>0.801947</td>\n",
       "      <td>0.452478</td>\n",
       "    </tr>\n",
       "    <tr>\n",
       "      <th>0.45</th>\n",
       "      <td>0.841312</td>\n",
       "      <td>0.810473</td>\n",
       "      <td>0.800564</td>\n",
       "      <td>0.456019</td>\n",
       "    </tr>\n",
       "    <tr>\n",
       "      <th>0.50</th>\n",
       "      <td>0.847922</td>\n",
       "      <td>0.801490</td>\n",
       "      <td>0.799007</td>\n",
       "      <td>0.458469</td>\n",
       "    </tr>\n",
       "    <tr>\n",
       "      <th>0.55</th>\n",
       "      <td>0.852973</td>\n",
       "      <td>0.791576</td>\n",
       "      <td>0.796036</td>\n",
       "      <td>0.459831</td>\n",
       "    </tr>\n",
       "    <tr>\n",
       "      <th>0.60</th>\n",
       "      <td>0.859762</td>\n",
       "      <td>0.783158</td>\n",
       "      <td>0.794484</td>\n",
       "      <td>0.464052</td>\n",
       "    </tr>\n",
       "    <tr>\n",
       "      <th>0.65</th>\n",
       "      <td>0.864770</td>\n",
       "      <td>0.772247</td>\n",
       "      <td>0.790643</td>\n",
       "      <td>0.467184</td>\n",
       "    </tr>\n",
       "    <tr>\n",
       "      <th>0.70</th>\n",
       "      <td>0.867133</td>\n",
       "      <td>0.760556</td>\n",
       "      <td>0.784985</td>\n",
       "      <td>0.465278</td>\n",
       "    </tr>\n",
       "    <tr>\n",
       "      <th>0.75</th>\n",
       "      <td>0.871028</td>\n",
       "      <td>0.745604</td>\n",
       "      <td>0.777575</td>\n",
       "      <td>0.459831</td>\n",
       "    </tr>\n",
       "    <tr>\n",
       "      <th>0.80</th>\n",
       "      <td>0.872716</td>\n",
       "      <td>0.730277</td>\n",
       "      <td>0.768912</td>\n",
       "      <td>0.452478</td>\n",
       "    </tr>\n",
       "    <tr>\n",
       "      <th>0.85</th>\n",
       "      <td>0.871120</td>\n",
       "      <td>0.708765</td>\n",
       "      <td>0.754824</td>\n",
       "      <td>0.436955</td>\n",
       "    </tr>\n",
       "    <tr>\n",
       "      <th>0.90</th>\n",
       "      <td>0.866475</td>\n",
       "      <td>0.681774</td>\n",
       "      <td>0.735790</td>\n",
       "      <td>0.415577</td>\n",
       "    </tr>\n",
       "    <tr>\n",
       "      <th>0.95</th>\n",
       "      <td>0.843185</td>\n",
       "      <td>0.630661</td>\n",
       "      <td>0.693802</td>\n",
       "      <td>0.378813</td>\n",
       "    </tr>\n",
       "  </tbody>\n",
       "</table>\n",
       "</div>"
      ],
      "text/plain": [
       "      precision    recall        f1        em\n",
       "0.10   0.748934  0.893809  0.786923  0.351171\n",
       "0.15   0.773072  0.877292  0.794272  0.378813\n",
       "0.20   0.789334  0.865264  0.798643  0.400327\n",
       "0.25   0.803478  0.853605  0.801530  0.419390\n",
       "0.30   0.815045  0.841560  0.802245  0.437364\n",
       "0.35   0.824971  0.831442  0.802990  0.446623\n",
       "0.40   0.833622  0.820369  0.801947  0.452478\n",
       "0.45   0.841312  0.810473  0.800564  0.456019\n",
       "0.50   0.847922  0.801490  0.799007  0.458469\n",
       "0.55   0.852973  0.791576  0.796036  0.459831\n",
       "0.60   0.859762  0.783158  0.794484  0.464052\n",
       "0.65   0.864770  0.772247  0.790643  0.467184\n",
       "0.70   0.867133  0.760556  0.784985  0.465278\n",
       "0.75   0.871028  0.745604  0.777575  0.459831\n",
       "0.80   0.872716  0.730277  0.768912  0.452478\n",
       "0.85   0.871120  0.708765  0.754824  0.436955\n",
       "0.90   0.866475  0.681774  0.735790  0.415577\n",
       "0.95   0.843185  0.630661  0.693802  0.378813"
      ]
     },
     "execution_count": 26,
     "metadata": {},
     "output_type": "execute_result"
    }
   ],
   "source": [
    "metric_df"
   ]
  },
  {
   "cell_type": "code",
   "execution_count": 27,
   "metadata": {},
   "outputs": [
    {
     "data": {
      "text/plain": [
       "<Figure size 432x288 with 0 Axes>"
      ]
     },
     "metadata": {},
     "output_type": "display_data"
    },
    {
     "data": {
      "image/png": "[encoded data removed]",
      "text/plain": [
       "<Figure size 432x288 with 1 Axes>"
      ]
     },
     "metadata": {
      "needs_background": "light"
     },
     "output_type": "display_data"
    }
   ],
   "source": [
    "plt.figure(); metric_df.plot(colormap=\"Dark2\");"
   ]
  },
  {
   "cell_type": "code",
   "execution_count": 28,
   "metadata": {},
   "outputs": [],
   "source": [
    "import seaborn as sns"
   ]
  },
  {
   "cell_type": "code",
   "execution_count": 29,
   "metadata": {},
   "outputs": [
    {
     "name": "stderr",
     "output_type": "stream",
     "text": [
      "/home/bhargav/anaconda3/lib/python3.6/site-packages/scipy/stats/stats.py:1713: FutureWarning: Using a non-tuple sequence for multidimensional indexing is deprecated; use `arr[tuple(seq)]` instead of `arr[seq]`. In the future this will be interpreted as an array index, `arr[np.array(seq)]`, which will result either in an error or a different result.\n",
      "  return np.add.reduce(sorted[indexer] * weights, axis=axis) / sumval\n"
     ]
    },
    {
     "data": {
      "text/plain": [
       "<matplotlib.axes._subplots.AxesSubplot at 0x7fb08c263860>"
      ]
     },
     "execution_count": 29,
     "metadata": {},
     "output_type": "execute_result"
    },
    {
     "data": {
      "image/png": "[encoded data removed]",
      "text/plain": [
       "<Figure size 432x288 with 1 Axes>"
      ]
     },
     "metadata": {
      "needs_background": "light"
     },
     "output_type": "display_data"
    }
   ],
   "source": [
    "sns.distplot((torch.sigmoid(torch.tensor(predictions_raw))).numpy().flatten(),kde=False, hist=True, rug=False)"
   ]
  },
  {
   "cell_type": "markdown",
   "metadata": {},
   "source": [
    "## Examining the predictions"
   ]
  },
  {
   "cell_type": "code",
   "execution_count": 30,
   "metadata": {},
   "outputs": [],
   "source": [
    "threshold = 0.5"
   ]
  },
  {
   "cell_type": "code",
   "execution_count": 31,
   "metadata": {},
   "outputs": [],
   "source": [
    "pred_answer_labels = (torch.sigmoid(torch.tensor(predictions_raw)) > threshold).numpy().tolist()"
   ]
  },
  {
   "cell_type": "code",
   "execution_count": 32,
   "metadata": {},
   "outputs": [],
   "source": [
    "# for individual question,paragraph pairs\n",
    "wrong_prediction_indices = []\n",
    "correct_prediction_indices = []\n",
    "for i in range(len(dataset[\"supporting_fact\"])):\n",
    "    if( dataset[\"supporting_fact\"][i] != pred_answer_labels[i]):\n",
    "        wrong_prediction_indices.append(i)\n",
    "    else:\n",
    "        correct_prediction_indices.append(i)"
   ]
  },
  {
   "cell_type": "code",
   "execution_count": 33,
   "metadata": {},
   "outputs": [
    {
     "data": {
      "text/plain": [
       "5611"
      ]
     },
     "execution_count": 33,
     "metadata": {},
     "output_type": "execute_result"
    }
   ],
   "source": [
    "len(wrong_prediction_indices)"
   ]
  },
  {
   "cell_type": "code",
   "execution_count": 34,
   "metadata": {},
   "outputs": [
    {
     "data": {
      "text/plain": [
       "67829"
      ]
     },
     "execution_count": 34,
     "metadata": {},
     "output_type": "execute_result"
    }
   ],
   "source": [
    "len(correct_prediction_indices)"
   ]
  },
  {
   "cell_type": "code",
   "execution_count": 35,
   "metadata": {},
   "outputs": [],
   "source": [
    "def actually_print_q_p(q_p):\n",
    "    print(\"Question: {}\".format(q_p[\"question\"]))\n",
    "    print(\"=============================================\")\n",
    "    for i, s in enumerate(q_p[\"sequence\"]):\n",
    "        print(\"sentence {}: {}\".format(i,s))\n",
    "    print(\"=============================================\")\n",
    "    print(\"True labels:{}\".format(q_p[\"true_label\"]))\n",
    "    print(\"=============================================\")\n",
    "    print(\"Predicted labels:{}\".format(q_p[\"predicted_label\"]))\n",
    "\n",
    "def print_q_p_pair(index, dataset, pred_answer_labels):\n",
    "    token_ids = dataset[\"sequence\"][index]\n",
    "    true_label = dataset[\"supporting_fact\"][index]\n",
    "    words = tokenizer.convert_ids_to_tokens(token_ids)\n",
    "    q_p = {\"question\":\" \".join(words).split(\"[SEP]\")[0], \n",
    "            \"sequence\":\" \".join(words).split(\"[SEP]\")[1].split(\".\"),\n",
    "            \"true_label\":true_label,\n",
    "            \"predicted_label\": pred_answer_labels[index]\n",
    "           } \n",
    "    actually_print_q_p(q_p)\n",
    "    \n",
    "def get_q_p(index, dataset, pred_answer_labels):\n",
    "    token_ids = dataset[\"sequence\"][index]\n",
    "    true_label = dataset[\"supporting_fact\"][index]\n",
    "    words = tokenizer.convert_ids_to_tokens(token_ids)\n",
    "    q_p = {\n",
    "            \"sequence\":\" \".join(words),\n",
    "            \"true_label\":true_label,\n",
    "            \"predicted_label\": pred_answer_labels[index]\n",
    "           } \n",
    "    return q_p"
   ]
  },
  {
   "cell_type": "code",
   "execution_count": 36,
   "metadata": {},
   "outputs": [
    {
     "data": {
      "text/plain": [
       "{'sequence': '[CLS] the director of the romantic comedy \" big stone gap \" is based in what new york city ? [SEP] big stone gap is a 2014 american drama romantic comedy film written and directed by adrian ##a tri ##gia ##ni and produced by donna gig ##lio ##tti for altar identity studios , a subsidiary of media society . based on tri ##gia ##ni \\' s 2000 best - selling novel of the same name , the story is set in the actual virginia town of big stone gap circa 1970s . the film had its world premiere at the virginia film festival on november 6 , 2014 . [PAD] [PAD] [PAD] [PAD] [PAD] [PAD] [PAD] [PAD] [PAD] [PAD] [PAD] [PAD] [PAD] [PAD] [PAD] [PAD] [PAD] [PAD] [PAD] [PAD] [PAD] [PAD] [PAD] [PAD] [PAD] [PAD] [PAD] [PAD] [PAD] [PAD] [PAD] [PAD] [PAD] [PAD] [PAD] [PAD] [PAD] [PAD] [PAD] [PAD] [PAD] [PAD] [PAD] [PAD] [PAD] [PAD] [PAD] [PAD] [PAD] [PAD] [PAD] [PAD] [PAD] [PAD] [PAD] [PAD] [PAD] [PAD] [PAD] [PAD] [PAD] [PAD] [PAD] [PAD] [PAD] [PAD] [PAD] [PAD] [PAD] [PAD] [PAD] [PAD] [PAD] [PAD] [PAD] [PAD] [PAD] [PAD] [PAD] [PAD] [PAD] [PAD] [PAD] [PAD] [PAD] [PAD] [PAD] [PAD] [PAD] [PAD] [PAD] [PAD] [PAD] [PAD] [PAD] [PAD] [PAD] [PAD] [PAD] [PAD] [PAD] [PAD] [PAD] [PAD] [PAD] [PAD] [PAD] [PAD] [PAD] [PAD] [PAD] [PAD] [PAD] [PAD] [PAD] [PAD] [PAD] [PAD] [PAD] [PAD] [PAD] [PAD] [PAD] [PAD] [PAD] [PAD] [PAD] [PAD] [PAD] [PAD] [PAD] [PAD] [PAD] [PAD] [PAD] [PAD] [PAD] [PAD] [PAD] [PAD] [PAD] [PAD] [PAD] [PAD] [PAD] [PAD] [PAD] [PAD] [PAD] [PAD] [PAD] [PAD] [PAD] [PAD] [PAD] [PAD] [PAD] [PAD] [PAD] [PAD] [PAD] [PAD] [PAD] [PAD] [PAD] [PAD] [PAD] [PAD] [PAD] [PAD] [PAD] [PAD] [PAD] [PAD] [PAD] [PAD] [PAD] [PAD] [PAD] [PAD] [PAD] [PAD] [PAD] [PAD] [PAD] [PAD] [PAD] [PAD] [PAD] [PAD] [PAD] [PAD] [PAD] [PAD] [PAD] [PAD] [PAD] [PAD] [PAD] [PAD] [PAD] [PAD] [PAD] [PAD] [PAD] [PAD] [PAD] [PAD] [PAD] [PAD] [PAD] [PAD] [PAD] [PAD] [PAD] [PAD] [PAD] [PAD] [PAD] [PAD] [PAD] [PAD] [PAD] [PAD] [PAD] [PAD] [PAD] [PAD] [PAD] [PAD] [PAD] [PAD] [PAD] [PAD] [PAD] [PAD] [PAD] [PAD] [PAD] [PAD] [PAD] [PAD] [PAD] [PAD] [PAD] [PAD] [PAD] [PAD] [PAD] [PAD] [PAD] [PAD] [PAD] [PAD] [PAD] [PAD] [PAD] [PAD] [PAD] [PAD] [PAD] [PAD] [PAD] [PAD] [PAD] [PAD] [PAD] [PAD] [PAD] [PAD] [PAD] [PAD] [PAD] [PAD] [PAD] [PAD] [PAD] [PAD] [PAD] [PAD] [PAD] [PAD] [PAD] [PAD] [PAD] [PAD] [PAD] [PAD] [PAD] [PAD] [PAD] [PAD] [PAD] [PAD] [PAD] [PAD] [PAD] [PAD] [PAD] [PAD] [PAD] [PAD] [PAD] [PAD] [PAD] [PAD] [PAD] [PAD] [PAD] [PAD] [PAD] [PAD] [PAD] [PAD] [PAD] [PAD] [PAD] [PAD] [PAD] [PAD] [PAD] [PAD] [PAD] [PAD] [PAD] [PAD] [PAD] [PAD] [PAD] [PAD] [PAD] [PAD] [PAD] [PAD] [PAD] [PAD] [PAD] [PAD] [PAD] [PAD] [PAD] [PAD] [PAD] [PAD] [PAD] [PAD] [PAD] [PAD] [PAD] [PAD] [PAD] [PAD] [PAD] [PAD] [PAD] [PAD] [PAD] [PAD] [PAD] [PAD] [PAD] [PAD] [PAD] [PAD] [PAD] [PAD] [PAD] [PAD] [PAD] [PAD] [PAD] [PAD] [PAD] [PAD] [PAD] [PAD] [PAD] [PAD] [PAD] [PAD] [PAD] [PAD] [PAD] [PAD] [PAD] [PAD] [PAD] [PAD] [PAD] [PAD] [PAD]',\n",
       " 'true_label': [1, 0, 0, 0, 0],\n",
       " 'predicted_label': [0, 0, 0, 0, 0]}"
      ]
     },
     "execution_count": 36,
     "metadata": {},
     "output_type": "execute_result"
    }
   ],
   "source": [
    "get_q_p(wrong_prediction_indices[2], dataset, pred_answer_labels)"
   ]
  },
  {
   "cell_type": "code",
   "execution_count": null,
   "metadata": {},
   "outputs": [],
   "source": []
  }
 ],
 "metadata": {
  "kernelspec": {
   "display_name": "Python 3",
   "language": "python",
   "name": "python3"
  },
  "language_info": {
   "codemirror_mode": {
    "name": "ipython",
    "version": 3
   },
   "file_extension": ".py",
   "mimetype": "text/x-python",
   "name": "python",
   "nbconvert_exporter": "python",
   "pygments_lexer": "ipython3",
   "version": "3.6.7"
  }
 },
 "nbformat": 4,
 "nbformat_minor": 2
}
