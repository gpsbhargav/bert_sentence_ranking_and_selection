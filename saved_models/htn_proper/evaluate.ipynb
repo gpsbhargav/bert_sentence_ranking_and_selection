{
 "cells": [
  {
   "cell_type": "code",
   "execution_count": 1,
   "metadata": {},
   "outputs": [],
   "source": [
    "import random\n",
    "import math\n",
    "import os\n",
    "import pickle\n",
    "from tqdm import tqdm, trange\n",
    "import numpy as np\n",
    "\n",
    "import sklearn\n",
    "from sklearn.metrics import f1_score, accuracy_score\n",
    "from sklearn.metrics import precision_score, recall_score\n",
    "\n",
    "import torch\n",
    "from torch.utils.data import Dataset, DataLoader, TensorDataset\n",
    "\n",
    "import pdb"
   ]
  },
  {
   "cell_type": "code",
   "execution_count": 2,
   "metadata": {},
   "outputs": [],
   "source": [
    "import warnings\n",
    "warnings.filterwarnings(\"ignore\", category=sklearn.exceptions.UndefinedMetricWarning)"
   ]
  },
  {
   "cell_type": "code",
   "execution_count": 3,
   "metadata": {},
   "outputs": [
    {
     "name": "stdout",
     "output_type": "stream",
     "text": [
      "Better speed can be achieved with apex installed from https://www.github.com/nvidia/apex.\n"
     ]
    }
   ],
   "source": [
    "from pytorch_pretrained_bert import BertTokenizer"
   ]
  },
  {
   "cell_type": "code",
   "execution_count": 4,
   "metadata": {},
   "outputs": [],
   "source": [
    "tokenizer = BertTokenizer.from_pretrained('bert-base-uncased')"
   ]
  },
  {
   "cell_type": "code",
   "execution_count": 5,
   "metadata": {},
   "outputs": [],
   "source": [
    "def pickler(path,pkl_name,obj):\n",
    "    with open(os.path.join(path, pkl_name), 'wb') as f:\n",
    "        pickle.dump(obj, f, pickle.HIGHEST_PROTOCOL)\n",
    "\n",
    "def unpickler(path,pkl_name):\n",
    "    with open(os.path.join(path, pkl_name) ,'rb') as f:\n",
    "        obj = pickle.load(f)\n",
    "    return obj"
   ]
  },
  {
   "cell_type": "code",
   "execution_count": 6,
   "metadata": {},
   "outputs": [],
   "source": [
    "data_pkl_path = \"../../data/hotpot_context/\"\n",
    "data_pkl_name = \"preprocessed_dev_full_length.pkl\"\n",
    "predictions_pkl_path = \"./with_para_name/\"\n",
    "predictions_pkl_name = \"predictions.pkl\"\n",
    "\n",
    "max_sentences_per_paragraph = 10"
   ]
  },
  {
   "cell_type": "code",
   "execution_count": 7,
   "metadata": {},
   "outputs": [],
   "source": [
    "def score(gt, pred):\n",
    "    assert(len(gt) == len(pred))\n",
    "    total_size = len(pred)\n",
    "    assert(len(gt) != 0)\n",
    "    total_precision = 0\n",
    "    total_recall = 0\n",
    "    total_f1 = 0\n",
    "    total_correct = 0\n",
    "    num_1_recall = 0\n",
    "    for i in range(total_size):\n",
    "        if(gt[i] == pred[i]):\n",
    "            total_correct += 1\n",
    "        p = precision_score(gt[i], pred[i],average=\"binary\")\n",
    "        r = recall_score(gt[i], pred[i],average=\"binary\")\n",
    "        if(r == 1):\n",
    "            num_1_recall += 1\n",
    "        total_precision += p\n",
    "        total_recall += r\n",
    "        total_f1 += 2*(p*r)/(p+r) if (p+r)>0 else 0\n",
    "    return {\"precision\":total_precision/total_size, \"recall\":total_recall/total_size, \n",
    "            \"f1\":total_f1/total_size, \"em\":total_correct/total_size, \n",
    "            \"full_recall_fraction\": num_1_recall/total_size}\n",
    "\n",
    "def get_em_id(gt, pred):\n",
    "    assert(len(gt) == len(pred))\n",
    "    total_size = len(pred)\n",
    "    assert(len(gt) != 0)\n",
    "    out_list = []\n",
    "    for i in range(total_size):\n",
    "        if(gt[i] == pred[i]):\n",
    "            out_list.append(i)\n",
    "    return out_list\n",
    "    "
   ]
  },
  {
   "cell_type": "code",
   "execution_count": 8,
   "metadata": {},
   "outputs": [],
   "source": [
    "dataset = unpickler(data_pkl_path, data_pkl_name)"
   ]
  },
  {
   "cell_type": "code",
   "execution_count": 9,
   "metadata": {},
   "outputs": [
    {
     "data": {
      "text/plain": [
       "dict_keys(['sequence_0', 'sentence_start_index_0', 'sentence_end_index_0', 'supporting_fact_0', 'segment_id_0', 'sequence_1', 'sentence_start_index_1', 'sentence_end_index_1', 'supporting_fact_1', 'segment_id_1', 'sequence_2', 'sentence_start_index_2', 'sentence_end_index_2', 'supporting_fact_2', 'segment_id_2', 'sequence_3', 'sentence_start_index_3', 'sentence_end_index_3', 'supporting_fact_3', 'segment_id_3', 'sequence_4', 'sentence_start_index_4', 'sentence_end_index_4', 'supporting_fact_4', 'segment_id_4', 'sequence_5', 'sentence_start_index_5', 'sentence_end_index_5', 'supporting_fact_5', 'segment_id_5', 'sequence_6', 'sentence_start_index_6', 'sentence_end_index_6', 'supporting_fact_6', 'segment_id_6', 'sequence_7', 'sentence_start_index_7', 'sentence_end_index_7', 'supporting_fact_7', 'segment_id_7', 'sequence_8', 'sentence_start_index_8', 'sentence_end_index_8', 'supporting_fact_8', 'segment_id_8', 'sequence_9', 'sentence_start_index_9', 'sentence_end_index_9', 'supporting_fact_9', 'segment_id_9', 'document_length', 'question_indices'])"
      ]
     },
     "execution_count": 9,
     "metadata": {},
     "output_type": "execute_result"
    }
   ],
   "source": [
    "dataset.keys()"
   ]
  },
  {
   "cell_type": "code",
   "execution_count": 10,
   "metadata": {},
   "outputs": [],
   "source": [
    "predictions_raw = unpickler(predictions_pkl_path, predictions_pkl_name)"
   ]
  },
  {
   "cell_type": "code",
   "execution_count": 11,
   "metadata": {},
   "outputs": [
    {
     "data": {
      "text/plain": [
       "[4, 7, 5, 11, 1, 3, 4, 2, 6, 5]"
      ]
     },
     "execution_count": 11,
     "metadata": {},
     "output_type": "execute_result"
    }
   ],
   "source": [
    "dataset['document_length'][10]"
   ]
  },
  {
   "cell_type": "code",
   "execution_count": 12,
   "metadata": {},
   "outputs": [
    {
     "data": {
      "text/plain": [
       "(7344, 100)"
      ]
     },
     "execution_count": 12,
     "metadata": {},
     "output_type": "execute_result"
    }
   ],
   "source": [
    "predictions_raw.shape"
   ]
  },
  {
   "cell_type": "code",
   "execution_count": 13,
   "metadata": {},
   "outputs": [
    {
     "data": {
      "text/plain": [
       "[0, 0, 0, 0, 0, 0, 0, 0, 0, 0]"
      ]
     },
     "execution_count": 13,
     "metadata": {},
     "output_type": "execute_result"
    }
   ],
   "source": [
    "dataset['supporting_fact_0'][0]"
   ]
  },
  {
   "cell_type": "code",
   "execution_count": 14,
   "metadata": {},
   "outputs": [
    {
     "data": {
      "text/plain": [
       "array([ -4.291632 , -11.336963 , -11.273513 , -12.047723 , -12.047723 ,\n",
       "       -12.047723 , -12.047723 , -12.047723 , -12.047723 , -12.047723 ,\n",
       "         7.3335133,  -5.855005 ,  -5.449002 , -10.331241 , -10.331241 ,\n",
       "       -10.331241 , -10.331241 , -10.331241 , -10.331241 , -10.331241 ,\n",
       "       -11.262955 , -11.455846 , -11.503751 , -11.433736 , -11.306431 ,\n",
       "       -11.304015 , -11.304015 , -11.304015 , -11.304015 , -11.304015 ,\n",
       "       -10.005153 , -11.703899 , -11.373544 , -11.449281 , -11.383056 ,\n",
       "       -11.779988 , -11.779988 , -11.779988 , -11.779988 , -11.779988 ,\n",
       "         7.551784 ,  -9.4089365,  -9.4089365,  -9.4089365,  -9.4089365,\n",
       "        -9.4089365,  -9.4089365,  -9.4089365,  -9.4089365,  -9.4089365,\n",
       "       -11.145469 , -11.534027 , -11.354439 , -11.406756 , -11.406756 ,\n",
       "       -11.406756 , -11.406756 , -11.406756 , -11.406756 , -11.406756 ,\n",
       "       -11.35543  , -11.454217 , -11.488702 , -11.449594 , -11.414683 ,\n",
       "       -11.463858 , -11.463858 , -11.463858 , -11.463858 , -11.463858 ,\n",
       "       -11.081271 , -11.41046  , -11.440728 , -11.440728 , -11.440728 ,\n",
       "       -11.440728 , -11.440728 , -11.440728 , -11.440728 , -11.440728 ,\n",
       "       -11.156688 , -11.536439 , -11.6887045, -11.479134 , -11.529613 ,\n",
       "       -11.460231 , -11.460231 , -11.460231 , -11.460231 , -11.460231 ,\n",
       "       -11.242128 , -11.51984  , -11.29305  , -11.34707  , -11.457089 ,\n",
       "       -11.457089 , -11.457089 , -11.457089 , -11.457089 , -11.457089 ],\n",
       "      dtype=float32)"
      ]
     },
     "execution_count": 14,
     "metadata": {},
     "output_type": "execute_result"
    }
   ],
   "source": [
    "predictions_raw[0]"
   ]
  },
  {
   "cell_type": "code",
   "execution_count": 15,
   "metadata": {},
   "outputs": [
    {
     "data": {
      "text/plain": [
       "[0, 5]"
      ]
     },
     "execution_count": 15,
     "metadata": {},
     "output_type": "execute_result"
    }
   ],
   "source": [
    "list(range(0,10,5))"
   ]
  },
  {
   "cell_type": "code",
   "execution_count": 16,
   "metadata": {},
   "outputs": [],
   "source": [
    "def reorganize_predictions(predictions, document_lengths):\n",
    "    out_list = []\n",
    "    for i, pred in enumerate(predictions):\n",
    "        num_paragraphs = len(document_lengths[i])\n",
    "        max_sentences_per_para = 10\n",
    "        new_pred = []\n",
    "        for j,num_sentences in enumerate(document_lengths[i]):\n",
    "            new_pred += pred[j*max_sentences_per_para : j*max_sentences_per_para + min(max_sentences_per_para, num_sentences)]\n",
    "        out_list.append(new_pred)\n",
    "    return out_list\n",
    "        \n",
    "\n",
    "def stack_suporting_facts(dataset):\n",
    "    out_list = []\n",
    "    data_size = len(dataset['supporting_fact_0'])\n",
    "    for i in range(data_size):\n",
    "        num_paragraphs = len(dataset['document_length'][i])\n",
    "        stacked_sf = []\n",
    "        for j in range(num_paragraphs):\n",
    "            stacked_sf += dataset['supporting_fact_{}'.format(j)][i]\n",
    "        out_list.append(stacked_sf)\n",
    "    return out_list\n",
    "\n",
    "\n",
    "\n",
    "def reorganize_predictions_old(predictions, document_lengths):\n",
    "    out_list = []\n",
    "    start_index = 0\n",
    "    for i in range(len(document_lengths)):\n",
    "        pred_raw = predictions[start_index:start_index+len(document_lengths[i])]\n",
    "        pred = []\n",
    "        for j,p in enumerate(pred_raw):\n",
    "            pred += p[:document_lengths[i][j]]\n",
    "            pred += [0] * (document_lengths[i][j] - len(p[:document_lengths[i][j]]))\n",
    "        out_list.append(pred)\n",
    "        start_index += len(document_lengths[i])\n",
    "    return out_list"
   ]
  },
  {
   "cell_type": "code",
   "execution_count": 17,
   "metadata": {},
   "outputs": [],
   "source": [
    "predictions_reorganized = reorganize_predictions(predictions_raw.tolist(), dataset['document_length'])"
   ]
  },
  {
   "cell_type": "code",
   "execution_count": 18,
   "metadata": {},
   "outputs": [],
   "source": [
    "sf_stacked = stack_suporting_facts(dataset)"
   ]
  },
  {
   "cell_type": "code",
   "execution_count": 19,
   "metadata": {},
   "outputs": [],
   "source": [
    "supporting_facts_reorganized = reorganize_predictions(sf_stacked, dataset['document_length'])"
   ]
  },
  {
   "cell_type": "code",
   "execution_count": 20,
   "metadata": {},
   "outputs": [
    {
     "name": "stderr",
     "output_type": "stream",
     "text": [
      "100%|██████████| 7344/7344 [00:00<00:00, 905277.39it/s]\n"
     ]
    }
   ],
   "source": [
    "for i in trange(len(predictions_reorganized)):\n",
    "    assert(len(supporting_facts_reorganized[i]) == len(predictions_reorganized[i]))"
   ]
  },
  {
   "cell_type": "code",
   "execution_count": 21,
   "metadata": {},
   "outputs": [],
   "source": [
    "def evaluate(gt, pred_raw, threshold, dataset):\n",
    "    pred_answer_labels = (torch.sigmoid(torch.tensor(pred_raw)) > threshold).numpy().tolist()\n",
    "    predictions_reorganized = reorganize_predictions(pred_answer_labels, dataset['document_length'])\n",
    "    result = score(gt, predictions_reorganized)\n",
    "    return result\n",
    "    \n",
    "    \n",
    "\n",
    "def evaluate_old(gt, pred, threshold, document_lengths):\n",
    "    pred_answer_labels = (torch.sigmoid(torch.tensor(pred)) > threshold).numpy().tolist()\n",
    "    predictions_reorganized = reorganize_predictions(pred_answer_labels, document_lengths)\n",
    "    supporting_facts_reorganized = reorganize_predictions(gt, document_lengths)\n",
    "    result = score(supporting_facts_reorganized, predictions_reorganized)\n",
    "    return result"
   ]
  },
  {
   "cell_type": "code",
   "execution_count": 22,
   "metadata": {},
   "outputs": [
    {
     "data": {
      "text/plain": [
       "{'precision': 0.7840169169519793,\n",
       " 'recall': 0.8790275832555293,\n",
       " 'f1': 0.8132016706363434,\n",
       " 'em': 0.40019063180827885,\n",
       " 'full_recall_fraction': 0.732979302832244}"
      ]
     },
     "execution_count": 22,
     "metadata": {},
     "output_type": "execute_result"
    }
   ],
   "source": [
    "evaluate(supporting_facts_reorganized, predictions_raw, 0.5, dataset)"
   ]
  },
  {
   "cell_type": "code",
   "execution_count": 23,
   "metadata": {},
   "outputs": [
    {
     "name": "stderr",
     "output_type": "stream",
     "text": [
      "100%|██████████| 18/18 [03:42<00:00, 12.52s/it]\n"
     ]
    }
   ],
   "source": [
    "metrics = {'precision':[], 'recall':[], 'f1':[], 'em':[], 'full_recall_fraction':[]}\n",
    "for t in tqdm(np.linspace(0.1,1,18,endpoint=False)):\n",
    "    result = evaluate(supporting_facts_reorganized, predictions_raw, t, dataset)\n",
    "    for key,value in result.items():\n",
    "        metrics[key].append(value)"
   ]
  },
  {
   "cell_type": "code",
   "execution_count": 24,
   "metadata": {},
   "outputs": [
    {
     "data": {
      "text/plain": [
       "0.8180128150716677"
      ]
     },
     "execution_count": 24,
     "metadata": {},
     "output_type": "execute_result"
    }
   ],
   "source": [
    "max(metrics['f1'])"
   ]
  },
  {
   "cell_type": "code",
   "execution_count": 25,
   "metadata": {},
   "outputs": [
    {
     "data": {
      "text/plain": [
       "0.48856209150326796"
      ]
     },
     "execution_count": 25,
     "metadata": {},
     "output_type": "execute_result"
    }
   ],
   "source": [
    "max(metrics['em'])"
   ]
  },
  {
   "cell_type": "code",
   "execution_count": 26,
   "metadata": {},
   "outputs": [],
   "source": [
    "import pandas as pd\n",
    "import matplotlib.pyplot as plt"
   ]
  },
  {
   "cell_type": "code",
   "execution_count": 27,
   "metadata": {},
   "outputs": [],
   "source": [
    "metric_df = pd.DataFrame(metrics, index=np.linspace(0.1,1,18,endpoint=False))"
   ]
  },
  {
   "cell_type": "code",
   "execution_count": 28,
   "metadata": {},
   "outputs": [
    {
     "data": {
      "text/html": [
       "<div>\n",
       "<style scoped>\n",
       "    .dataframe tbody tr th:only-of-type {\n",
       "        vertical-align: middle;\n",
       "    }\n",
       "\n",
       "    .dataframe tbody tr th {\n",
       "        vertical-align: top;\n",
       "    }\n",
       "\n",
       "    .dataframe thead th {\n",
       "        text-align: right;\n",
       "    }\n",
       "</style>\n",
       "<table border=\"1\" class=\"dataframe\">\n",
       "  <thead>\n",
       "    <tr style=\"text-align: right;\">\n",
       "      <th></th>\n",
       "      <th>precision</th>\n",
       "      <th>recall</th>\n",
       "      <th>f1</th>\n",
       "      <th>em</th>\n",
       "      <th>full_recall_fraction</th>\n",
       "    </tr>\n",
       "  </thead>\n",
       "  <tbody>\n",
       "    <tr>\n",
       "      <th>0.10</th>\n",
       "      <td>0.653573</td>\n",
       "      <td>0.953570</td>\n",
       "      <td>0.754204</td>\n",
       "      <td>0.236111</td>\n",
       "      <td>0.890931</td>\n",
       "    </tr>\n",
       "    <tr>\n",
       "      <th>0.15</th>\n",
       "      <td>0.678545</td>\n",
       "      <td>0.943746</td>\n",
       "      <td>0.770176</td>\n",
       "      <td>0.264706</td>\n",
       "      <td>0.868736</td>\n",
       "    </tr>\n",
       "    <tr>\n",
       "      <th>0.20</th>\n",
       "      <td>0.698342</td>\n",
       "      <td>0.933913</td>\n",
       "      <td>0.781385</td>\n",
       "      <td>0.285403</td>\n",
       "      <td>0.845724</td>\n",
       "    </tr>\n",
       "    <tr>\n",
       "      <th>0.25</th>\n",
       "      <td>0.715348</td>\n",
       "      <td>0.924087</td>\n",
       "      <td>0.789777</td>\n",
       "      <td>0.303377</td>\n",
       "      <td>0.824755</td>\n",
       "    </tr>\n",
       "    <tr>\n",
       "      <th>0.30</th>\n",
       "      <td>0.731352</td>\n",
       "      <td>0.915655</td>\n",
       "      <td>0.797140</td>\n",
       "      <td>0.325163</td>\n",
       "      <td>0.807326</td>\n",
       "    </tr>\n",
       "    <tr>\n",
       "      <th>0.35</th>\n",
       "      <td>0.746176</td>\n",
       "      <td>0.906004</td>\n",
       "      <td>0.802654</td>\n",
       "      <td>0.343546</td>\n",
       "      <td>0.787446</td>\n",
       "    </tr>\n",
       "    <tr>\n",
       "      <th>0.40</th>\n",
       "      <td>0.759251</td>\n",
       "      <td>0.896643</td>\n",
       "      <td>0.806524</td>\n",
       "      <td>0.361383</td>\n",
       "      <td>0.767702</td>\n",
       "    </tr>\n",
       "    <tr>\n",
       "      <th>0.45</th>\n",
       "      <td>0.771891</td>\n",
       "      <td>0.888542</td>\n",
       "      <td>0.810611</td>\n",
       "      <td>0.381400</td>\n",
       "      <td>0.751225</td>\n",
       "    </tr>\n",
       "    <tr>\n",
       "      <th>0.50</th>\n",
       "      <td>0.784017</td>\n",
       "      <td>0.879028</td>\n",
       "      <td>0.813202</td>\n",
       "      <td>0.400191</td>\n",
       "      <td>0.732979</td>\n",
       "    </tr>\n",
       "    <tr>\n",
       "      <th>0.55</th>\n",
       "      <td>0.795058</td>\n",
       "      <td>0.870294</td>\n",
       "      <td>0.815079</td>\n",
       "      <td>0.415577</td>\n",
       "      <td>0.717456</td>\n",
       "    </tr>\n",
       "    <tr>\n",
       "      <th>0.60</th>\n",
       "      <td>0.805954</td>\n",
       "      <td>0.861125</td>\n",
       "      <td>0.816283</td>\n",
       "      <td>0.432053</td>\n",
       "      <td>0.703704</td>\n",
       "    </tr>\n",
       "    <tr>\n",
       "      <th>0.65</th>\n",
       "      <td>0.816676</td>\n",
       "      <td>0.852367</td>\n",
       "      <td>0.817366</td>\n",
       "      <td>0.444989</td>\n",
       "      <td>0.689679</td>\n",
       "    </tr>\n",
       "    <tr>\n",
       "      <th>0.70</th>\n",
       "      <td>0.828125</td>\n",
       "      <td>0.842733</td>\n",
       "      <td>0.818013</td>\n",
       "      <td>0.457789</td>\n",
       "      <td>0.672522</td>\n",
       "    </tr>\n",
       "    <tr>\n",
       "      <th>0.75</th>\n",
       "      <td>0.839994</td>\n",
       "      <td>0.832115</td>\n",
       "      <td>0.817853</td>\n",
       "      <td>0.471814</td>\n",
       "      <td>0.655637</td>\n",
       "    </tr>\n",
       "    <tr>\n",
       "      <th>0.80</th>\n",
       "      <td>0.849725</td>\n",
       "      <td>0.819190</td>\n",
       "      <td>0.815003</td>\n",
       "      <td>0.482162</td>\n",
       "      <td>0.637119</td>\n",
       "    </tr>\n",
       "    <tr>\n",
       "      <th>0.85</th>\n",
       "      <td>0.857083</td>\n",
       "      <td>0.802136</td>\n",
       "      <td>0.808621</td>\n",
       "      <td>0.487064</td>\n",
       "      <td>0.612609</td>\n",
       "    </tr>\n",
       "    <tr>\n",
       "      <th>0.90</th>\n",
       "      <td>0.867692</td>\n",
       "      <td>0.779021</td>\n",
       "      <td>0.799210</td>\n",
       "      <td>0.488562</td>\n",
       "      <td>0.581291</td>\n",
       "    </tr>\n",
       "    <tr>\n",
       "      <th>0.95</th>\n",
       "      <td>0.868612</td>\n",
       "      <td>0.741263</td>\n",
       "      <td>0.776649</td>\n",
       "      <td>0.480937</td>\n",
       "      <td>0.537309</td>\n",
       "    </tr>\n",
       "  </tbody>\n",
       "</table>\n",
       "</div>"
      ],
      "text/plain": [
       "      precision    recall        f1        em  full_recall_fraction\n",
       "0.10   0.653573  0.953570  0.754204  0.236111              0.890931\n",
       "0.15   0.678545  0.943746  0.770176  0.264706              0.868736\n",
       "0.20   0.698342  0.933913  0.781385  0.285403              0.845724\n",
       "0.25   0.715348  0.924087  0.789777  0.303377              0.824755\n",
       "0.30   0.731352  0.915655  0.797140  0.325163              0.807326\n",
       "0.35   0.746176  0.906004  0.802654  0.343546              0.787446\n",
       "0.40   0.759251  0.896643  0.806524  0.361383              0.767702\n",
       "0.45   0.771891  0.888542  0.810611  0.381400              0.751225\n",
       "0.50   0.784017  0.879028  0.813202  0.400191              0.732979\n",
       "0.55   0.795058  0.870294  0.815079  0.415577              0.717456\n",
       "0.60   0.805954  0.861125  0.816283  0.432053              0.703704\n",
       "0.65   0.816676  0.852367  0.817366  0.444989              0.689679\n",
       "0.70   0.828125  0.842733  0.818013  0.457789              0.672522\n",
       "0.75   0.839994  0.832115  0.817853  0.471814              0.655637\n",
       "0.80   0.849725  0.819190  0.815003  0.482162              0.637119\n",
       "0.85   0.857083  0.802136  0.808621  0.487064              0.612609\n",
       "0.90   0.867692  0.779021  0.799210  0.488562              0.581291\n",
       "0.95   0.868612  0.741263  0.776649  0.480937              0.537309"
      ]
     },
     "execution_count": 28,
     "metadata": {},
     "output_type": "execute_result"
    }
   ],
   "source": [
    "metric_df"
   ]
  },
  {
   "cell_type": "code",
   "execution_count": 29,
   "metadata": {},
   "outputs": [
    {
     "data": {
      "text/plain": [
       "<Figure size 432x288 with 0 Axes>"
      ]
     },
     "metadata": {},
     "output_type": "display_data"
    },
    {
     "data": {
      "image/png": "[encoded data removed]",
      "text/plain": [
       "<Figure size 432x288 with 1 Axes>"
      ]
     },
     "metadata": {
      "needs_background": "light"
     },
     "output_type": "display_data"
    }
   ],
   "source": [
    "plt.figure(); metric_df.plot(colormap=\"Dark2\");"
   ]
  },
  {
   "cell_type": "code",
   "execution_count": 30,
   "metadata": {},
   "outputs": [],
   "source": [
    "import seaborn as sns"
   ]
  },
  {
   "cell_type": "code",
   "execution_count": 31,
   "metadata": {},
   "outputs": [
    {
     "name": "stderr",
     "output_type": "stream",
     "text": [
      "/home/bhargav/anaconda3/lib/python3.6/site-packages/scipy/stats/stats.py:1713: FutureWarning: Using a non-tuple sequence for multidimensional indexing is deprecated; use `arr[tuple(seq)]` instead of `arr[seq]`. In the future this will be interpreted as an array index, `arr[np.array(seq)]`, which will result either in an error or a different result.\n",
      "  return np.add.reduce(sorted[indexer] * weights, axis=axis) / sumval\n"
     ]
    },
    {
     "data": {
      "text/plain": [
       "<matplotlib.axes._subplots.AxesSubplot at 0x7f82b12a2dd8>"
      ]
     },
     "execution_count": 31,
     "metadata": {},
     "output_type": "execute_result"
    },
    {
     "data": {
      "image/png": "[encoded data removed]",
      "text/plain": [
       "<Figure size 432x288 with 1 Axes>"
      ]
     },
     "metadata": {
      "needs_background": "light"
     },
     "output_type": "display_data"
    }
   ],
   "source": [
    "sns.distplot((torch.sigmoid(torch.tensor(predictions_raw))).numpy().flatten(),kde=False, hist=True, rug=False)"
   ]
  },
  {
   "cell_type": "markdown",
   "metadata": {},
   "source": [
    "# Analysis"
   ]
  },
  {
   "cell_type": "code",
   "execution_count": 32,
   "metadata": {},
   "outputs": [],
   "source": [
    "# predictions_reorganized = reorganize_predictions(predictions_raw.tolist(), dataset['document_length'])"
   ]
  },
  {
   "cell_type": "code",
   "execution_count": 65,
   "metadata": {},
   "outputs": [],
   "source": [
    "sf_stacked = stack_suporting_facts(dataset)"
   ]
  },
  {
   "cell_type": "code",
   "execution_count": 66,
   "metadata": {},
   "outputs": [],
   "source": [
    "supporting_facts_reorganized = reorganize_predictions(sf_stacked, dataset['document_length'])"
   ]
  },
  {
   "cell_type": "code",
   "execution_count": 67,
   "metadata": {},
   "outputs": [],
   "source": [
    "threshold = 0.7"
   ]
  },
  {
   "cell_type": "code",
   "execution_count": 68,
   "metadata": {},
   "outputs": [],
   "source": [
    "pred_answer_labels = (torch.sigmoid(torch.tensor(predictions_raw)) > threshold).numpy().tolist()\n",
    "predictions_ans_label_reorganized = reorganize_predictions(pred_answer_labels, dataset['document_length'])\n",
    "pred_raw_reorganized = reorganize_predictions(torch.sigmoid(torch.tensor(predictions_raw)).numpy().tolist(),\n",
    "                                              dataset['document_length'])"
   ]
  },
  {
   "cell_type": "code",
   "execution_count": 69,
   "metadata": {},
   "outputs": [],
   "source": [
    "questions_em = get_em_id(supporting_facts_reorganized, predictions_ans_label_reorganized)"
   ]
  },
  {
   "cell_type": "code",
   "execution_count": 70,
   "metadata": {},
   "outputs": [
    {
     "data": {
      "text/plain": [
       "0.45778867102396514"
      ]
     },
     "execution_count": 70,
     "metadata": {},
     "output_type": "execute_result"
    }
   ],
   "source": [
    "len(questions_em)/len(predictions_ans_label_reorganized)"
   ]
  },
  {
   "cell_type": "code",
   "execution_count": 71,
   "metadata": {},
   "outputs": [
    {
     "name": "stdout",
     "output_type": "stream",
     "text": [
      "[0, 3, 5, 6, 7, 9, 10, 11, 15, 17, 19, 24, 25, 27, 30, 32, 35, 37, 38, 39, 45, 46, 47, 49, 54, 55, 57, 58, 61, 70, 73, 77, 78, 79, 80, 82, 83, 84, 86, 87, 88, 89, 90, 92, 95, 96, 98, 101, 102, 105]\n"
     ]
    }
   ],
   "source": [
    "print(questions_em[:50])"
   ]
  },
  {
   "cell_type": "raw",
   "metadata": {},
   "source": [
    "Nice examples:\n",
    "15, 7, 5, 10(in the paper), 11,  "
   ]
  },
  {
   "cell_type": "code",
   "execution_count": 89,
   "metadata": {},
   "outputs": [],
   "source": [
    "def organize_predictions_into_sentences(predictions, document_lengths):\n",
    "    out_list = []\n",
    "    for i, pred in enumerate(predictions):\n",
    "        sentences = []\n",
    "        start_index = 0\n",
    "        for j,num_sentences in enumerate(document_lengths[i]):\n",
    "            sentences.append(pred[start_index:start_index+min(num_sentences,10)])\n",
    "            start_index += min(num_sentences,10)\n",
    "        out_list.append(sentences)\n",
    "    return out_list"
   ]
  },
  {
   "cell_type": "code",
   "execution_count": 90,
   "metadata": {},
   "outputs": [
    {
     "data": {
      "text/plain": [
       "66"
      ]
     },
     "execution_count": 90,
     "metadata": {},
     "output_type": "execute_result"
    }
   ],
   "source": [
    "sum(dataset['document_length'][15])"
   ]
  },
  {
   "cell_type": "code",
   "execution_count": 91,
   "metadata": {},
   "outputs": [
    {
     "data": {
      "text/plain": [
       "[3, 11, 2, 5, 1, 2, 5, 5, 4, 5]"
      ]
     },
     "execution_count": 91,
     "metadata": {},
     "output_type": "execute_result"
    }
   ],
   "source": [
    "dataset['document_length'][100]"
   ]
  },
  {
   "cell_type": "code",
   "execution_count": 92,
   "metadata": {},
   "outputs": [
    {
     "data": {
      "text/plain": [
       "65"
      ]
     },
     "execution_count": 92,
     "metadata": {},
     "output_type": "execute_result"
    }
   ],
   "source": [
    "len(supporting_facts_reorganized[15])"
   ]
  },
  {
   "cell_type": "code",
   "execution_count": 93,
   "metadata": {},
   "outputs": [
    {
     "data": {
      "text/plain": [
       "[0, 0, 1, 0, 0]"
      ]
     },
     "execution_count": 93,
     "metadata": {},
     "output_type": "execute_result"
    }
   ],
   "source": [
    "supporting_facts_reorganized[15][-5:]"
   ]
  },
  {
   "cell_type": "code",
   "execution_count": 94,
   "metadata": {},
   "outputs": [
    {
     "data": {
      "text/plain": [
       "65"
      ]
     },
     "execution_count": 94,
     "metadata": {},
     "output_type": "execute_result"
    }
   ],
   "source": [
    "len(pred_raw_reorganized[15])"
   ]
  },
  {
   "cell_type": "code",
   "execution_count": 95,
   "metadata": {},
   "outputs": [],
   "source": [
    "pred_raw_sentence_wise = organize_predictions_into_sentences(pred_raw_reorganized, dataset['document_length'])"
   ]
  },
  {
   "cell_type": "code",
   "execution_count": 96,
   "metadata": {},
   "outputs": [
    {
     "data": {
      "text/plain": [
       "[3, 10, 2, 5, 1, 2, 5, 5, 4, 5]"
      ]
     },
     "execution_count": 96,
     "metadata": {},
     "output_type": "execute_result"
    }
   ],
   "source": [
    "[len(i) for i in pred_raw_sentence_wise[100]]"
   ]
  },
  {
   "cell_type": "code",
   "execution_count": 97,
   "metadata": {},
   "outputs": [
    {
     "data": {
      "text/plain": [
       "True"
      ]
     },
     "execution_count": 97,
     "metadata": {},
     "output_type": "execute_result"
    }
   ],
   "source": [
    "predictions_ans_label_reorganized[15] == supporting_facts_reorganized[15]"
   ]
  },
  {
   "cell_type": "code",
   "execution_count": 99,
   "metadata": {},
   "outputs": [
    {
     "name": "stdout",
     "output_type": "stream",
     "text": [
      "['[CLS]', 'brown', 'state', 'fishing', 'lake', 'is', 'in', 'a', 'country', 'that', 'has', 'a', 'population', 'of', 'how', 'many', 'inhabitants', '?', '[SEP]', 'brown', 'county', ',', 'kansas', '.', 'brown', 'county', '(', 'county', 'code', 'br', ')', 'is', 'a', 'county', 'located', 'in', 'the', 'northeast', 'portion', 'of', 'the', 'u', '.', 's', '.', 'state', 'of', 'kansas', '.', 'as']\n",
      "Paragraph: 0, Probabilities:[0.0012515384005382657, 1.878989496617578e-05, 1.0847497833310626e-05, 1.3416929505183361e-05, 2.383126411587e-05]\n",
      "--------------------------------------------------------\n",
      "Paragraph: 1, Probabilities:[0.06025658920407295, 0.0007650629850104451, 0.002429602900519967, 0.00022336610709317029, 0.0002499705005902797, 0.0003645961405709386]\n",
      "--------------------------------------------------------\n",
      "Paragraph: 2, Probabilities:[0.9991253018379211, 0.014514945447444916, 0.022710369899868965]\n",
      "--------------------------------------------------------\n",
      "Paragraph: 3, Probabilities:[0.00022556234034709632, 0.00015020332648418844, 1.3611443137051538e-05, 9.815602425078396e-06, 9.159332876151893e-06, 9.823075743042864e-06, 9.356083864986431e-06, 9.517240869172383e-06, 9.21599621506175e-06]\n",
      "--------------------------------------------------------\n",
      "Paragraph: 4, Probabilities:[9.437902008357923e-06, 6.211989330040524e-06, 6.686394499411108e-06]\n",
      "--------------------------------------------------------\n",
      "Paragraph: 5, Probabilities:[0.0019209471065551043, 1.5005231944087427e-05, 1.292994238610845e-05, 1.2190756933705416e-05, 1.155273275799118e-05, 4.194404937152285e-06, 1.084513951354893e-05, 1.4042559996596538e-05]\n",
      "--------------------------------------------------------\n",
      "Paragraph: 6, Probabilities:[1.8730961528490297e-05, 9.042736564879306e-06, 8.902025001589209e-06, 8.005135896382853e-06, 6.784516699553933e-06, 4.284986971470062e-06, 6.299333563219989e-06]\n",
      "--------------------------------------------------------\n",
      "Paragraph: 7, Probabilities:[1.311774758505635e-05, 8.126848115352914e-06, 6.734794624208007e-06, 6.40721600575489e-06, 6.727977506670868e-06, 6.458989446400665e-06, 6.52607604934019e-06, 6.055377070879331e-06, 4.261496997060021e-06, 5.751704520662315e-06]\n",
      "--------------------------------------------------------\n",
      "Paragraph: 8, Probabilities:[1.5694831745349802e-05, 7.570119578304002e-06, 6.758582003385527e-06, 6.486204256361816e-06, 4.192057531327009e-06, 4.184145382168936e-06, 6.853108516224893e-06, 6.116154054325307e-06, 6.280935394897824e-06, 6.373355972755235e-06]\n",
      "--------------------------------------------------------\n",
      "Paragraph: 9, Probabilities:[0.49521610140800476, 0.9842200875282288, 0.007273260969668627, 0.04962780326604843]\n",
      "--------------------------------------------------------\n"
     ]
    }
   ],
   "source": [
    "index_of_interest = 15\n",
    "sequence_of_interest = tokenizer.convert_ids_to_tokens(dataset[\"sequence_9\"][index_of_interest])\n",
    "print(sequence_of_interest[:50])\n",
    "for i, probs in enumerate(pred_raw_sentence_wise[index_of_interest]):\n",
    "    print(\"Paragraph: {}, Probabilities:{}\".format(i, probs))\n",
    "    print(\"--------------------------------------------------------\")"
   ]
  },
  {
   "cell_type": "code",
   "execution_count": null,
   "metadata": {},
   "outputs": [],
   "source": []
  }
 ],
 "metadata": {
  "kernelspec": {
   "display_name": "Python 3",
   "language": "python",
   "name": "python3"
  },
  "language_info": {
   "codemirror_mode": {
    "name": "ipython",
    "version": 3
   },
   "file_extension": ".py",
   "mimetype": "text/x-python",
   "name": "python",
   "nbconvert_exporter": "python",
   "pygments_lexer": "ipython3",
   "version": "3.6.7"
  }
 },
 "nbformat": 4,
 "nbformat_minor": 2
}
