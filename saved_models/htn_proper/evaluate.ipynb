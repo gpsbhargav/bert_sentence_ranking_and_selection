{
 "cells": [
  {
   "cell_type": "code",
   "execution_count": 1,
   "metadata": {},
   "outputs": [],
   "source": [
    "import random\n",
    "import math\n",
    "import os\n",
    "import pickle\n",
    "from tqdm import tqdm, trange\n",
    "import numpy as np\n",
    "\n",
    "import sklearn\n",
    "from sklearn.metrics import f1_score, accuracy_score\n",
    "from sklearn.metrics import precision_score, recall_score\n",
    "\n",
    "import torch\n",
    "from torch.utils.data import Dataset, DataLoader, TensorDataset\n",
    "\n",
    "import pdb"
   ]
  },
  {
   "cell_type": "code",
   "execution_count": 2,
   "metadata": {},
   "outputs": [],
   "source": [
    "import warnings\n",
    "warnings.filterwarnings(\"ignore\", category=sklearn.exceptions.UndefinedMetricWarning)"
   ]
  },
  {
   "cell_type": "code",
   "execution_count": 3,
   "metadata": {},
   "outputs": [
    {
     "name": "stdout",
     "output_type": "stream",
     "text": [
      "Better speed can be achieved with apex installed from https://www.github.com/nvidia/apex.\n"
     ]
    }
   ],
   "source": [
    "from pytorch_pretrained_bert import BertTokenizer"
   ]
  },
  {
   "cell_type": "code",
   "execution_count": 4,
   "metadata": {},
   "outputs": [],
   "source": [
    "tokenizer = BertTokenizer.from_pretrained('bert-base-uncased')"
   ]
  },
  {
   "cell_type": "code",
   "execution_count": 5,
   "metadata": {},
   "outputs": [],
   "source": [
    "def pickler(path,pkl_name,obj):\n",
    "    with open(os.path.join(path, pkl_name), 'wb') as f:\n",
    "        pickle.dump(obj, f, pickle.HIGHEST_PROTOCOL)\n",
    "\n",
    "def unpickler(path,pkl_name):\n",
    "    with open(os.path.join(path, pkl_name) ,'rb') as f:\n",
    "        obj = pickle.load(f)\n",
    "    return obj"
   ]
  },
  {
   "cell_type": "code",
   "execution_count": 6,
   "metadata": {},
   "outputs": [],
   "source": [
    "data_pkl_path = \"../../data/hotpot_context/\"\n",
    "data_pkl_name = \"preprocessed_dev_full_length.pkl\"\n",
    "predictions_pkl_path = \"./\"\n",
    "predictions_pkl_name = \"predictions.pkl\"\n",
    "\n",
    "max_sentences_per_paragraph = 10"
   ]
  },
  {
   "cell_type": "code",
   "execution_count": 7,
   "metadata": {},
   "outputs": [],
   "source": [
    "def score(gt, pred):\n",
    "    assert(len(gt) == len(pred))\n",
    "    total_size = len(pred)\n",
    "    assert(len(gt) != 0)\n",
    "    total_precision = 0\n",
    "    total_recall = 0\n",
    "    total_f1 = 0\n",
    "    total_correct = 0\n",
    "    for i in range(total_size):\n",
    "        if(gt[i] == pred[i]):\n",
    "            total_correct += 1\n",
    "        p = precision_score(gt[i], pred[i],average=\"binary\")\n",
    "        r = recall_score(gt[i], pred[i],average=\"binary\")\n",
    "        total_precision += p\n",
    "        total_recall += r\n",
    "        total_f1 += 2*(p*r)/(p+r) if (p+r)>0 else 0\n",
    "    return {\"precision\":total_precision/total_size, \"recall\":total_recall/total_size, \n",
    "            \"f1\":total_f1/total_size, \"em\":total_correct/total_size}"
   ]
  },
  {
   "cell_type": "code",
   "execution_count": 8,
   "metadata": {},
   "outputs": [],
   "source": [
    "dataset = unpickler(data_pkl_path, data_pkl_name)"
   ]
  },
  {
   "cell_type": "code",
   "execution_count": 9,
   "metadata": {},
   "outputs": [
    {
     "data": {
      "text/plain": [
       "dict_keys(['sequence_0', 'sentence_start_index_0', 'sentence_end_index_0', 'supporting_fact_0', 'segment_id_0', 'sequence_1', 'sentence_start_index_1', 'sentence_end_index_1', 'supporting_fact_1', 'segment_id_1', 'sequence_2', 'sentence_start_index_2', 'sentence_end_index_2', 'supporting_fact_2', 'segment_id_2', 'sequence_3', 'sentence_start_index_3', 'sentence_end_index_3', 'supporting_fact_3', 'segment_id_3', 'sequence_4', 'sentence_start_index_4', 'sentence_end_index_4', 'supporting_fact_4', 'segment_id_4', 'sequence_5', 'sentence_start_index_5', 'sentence_end_index_5', 'supporting_fact_5', 'segment_id_5', 'sequence_6', 'sentence_start_index_6', 'sentence_end_index_6', 'supporting_fact_6', 'segment_id_6', 'sequence_7', 'sentence_start_index_7', 'sentence_end_index_7', 'supporting_fact_7', 'segment_id_7', 'sequence_8', 'sentence_start_index_8', 'sentence_end_index_8', 'supporting_fact_8', 'segment_id_8', 'sequence_9', 'sentence_start_index_9', 'sentence_end_index_9', 'supporting_fact_9', 'segment_id_9', 'document_length'])"
      ]
     },
     "execution_count": 9,
     "metadata": {},
     "output_type": "execute_result"
    }
   ],
   "source": [
    "dataset.keys()"
   ]
  },
  {
   "cell_type": "code",
   "execution_count": 10,
   "metadata": {},
   "outputs": [],
   "source": [
    "predictions_raw = unpickler(predictions_pkl_path, predictions_pkl_name)"
   ]
  },
  {
   "cell_type": "code",
   "execution_count": 11,
   "metadata": {},
   "outputs": [
    {
     "data": {
      "text/plain": [
       "[4, 7, 5, 11, 1, 3, 4, 2, 6, 5]"
      ]
     },
     "execution_count": 11,
     "metadata": {},
     "output_type": "execute_result"
    }
   ],
   "source": [
    "dataset['document_length'][10]"
   ]
  },
  {
   "cell_type": "code",
   "execution_count": 12,
   "metadata": {},
   "outputs": [
    {
     "data": {
      "text/plain": [
       "(7344, 100)"
      ]
     },
     "execution_count": 12,
     "metadata": {},
     "output_type": "execute_result"
    }
   ],
   "source": [
    "predictions_raw.shape"
   ]
  },
  {
   "cell_type": "code",
   "execution_count": 13,
   "metadata": {},
   "outputs": [
    {
     "data": {
      "text/plain": [
       "[0, 0, 0, 0, 0, 0, 0, 0, 0, 0]"
      ]
     },
     "execution_count": 13,
     "metadata": {},
     "output_type": "execute_result"
    }
   ],
   "source": [
    "dataset['supporting_fact_0'][0]"
   ]
  },
  {
   "cell_type": "code",
   "execution_count": 14,
   "metadata": {},
   "outputs": [
    {
     "data": {
      "text/plain": [
       "array([ -9.728283 , -10.901839 , -10.997422 , -11.282068 , -11.282068 ,\n",
       "       -11.282068 , -11.282068 , -11.282068 , -11.282068 , -11.282068 ,\n",
       "         7.3729033,  -5.776464 ,  -5.9727836, -10.069361 , -10.069361 ,\n",
       "       -10.069361 , -10.069361 , -10.069361 , -10.069361 , -10.069361 ,\n",
       "       -11.251507 , -11.267144 , -11.264733 , -11.251424 , -11.252738 ,\n",
       "       -11.282895 , -11.282895 , -11.282895 , -11.282895 , -11.282895 ,\n",
       "       -11.100354 , -11.464603 , -11.163882 , -11.180441 , -11.214095 ,\n",
       "       -11.28501  , -11.28501  , -11.28501  , -11.28501  , -11.28501  ,\n",
       "         7.393575 , -10.065829 , -10.065829 , -10.065829 , -10.065829 ,\n",
       "       -10.065829 , -10.065829 , -10.065829 , -10.065829 , -10.065829 ,\n",
       "       -11.128537 , -11.202582 , -11.212113 , -11.28222  , -11.28222  ,\n",
       "       -11.28222  , -11.28222  , -11.28222  , -11.28222  , -11.28222  ,\n",
       "       -11.230548 , -11.234452 , -11.245614 , -11.246818 , -11.247802 ,\n",
       "       -11.287658 , -11.287658 , -11.287658 , -11.287658 , -11.287658 ,\n",
       "       -11.140872 , -11.20007  , -11.28513  , -11.28513  , -11.28513  ,\n",
       "       -11.28513  , -11.28513  , -11.28513  , -11.28513  , -11.28513  ,\n",
       "       -11.121241 , -11.205364 , -11.462661 , -11.209739 , -11.211153 ,\n",
       "       -11.279695 , -11.279695 , -11.279695 , -11.279695 , -11.279695 ,\n",
       "       -11.155063 , -11.197779 , -11.172297 , -11.228179 , -11.262376 ,\n",
       "       -11.262376 , -11.262376 , -11.262376 , -11.262376 , -11.262376 ],\n",
       "      dtype=float32)"
      ]
     },
     "execution_count": 14,
     "metadata": {},
     "output_type": "execute_result"
    }
   ],
   "source": [
    "predictions_raw[0]"
   ]
  },
  {
   "cell_type": "code",
   "execution_count": 15,
   "metadata": {},
   "outputs": [
    {
     "data": {
      "text/plain": [
       "[0, 5]"
      ]
     },
     "execution_count": 15,
     "metadata": {},
     "output_type": "execute_result"
    }
   ],
   "source": [
    "list(range(0,10,5))"
   ]
  },
  {
   "cell_type": "code",
   "execution_count": 16,
   "metadata": {},
   "outputs": [],
   "source": [
    "def reorganize_predictions(predictions, document_lengths):\n",
    "    out_list = []\n",
    "    for i, pred in enumerate(predictions):\n",
    "        num_paragraphs = len(document_lengths[i])\n",
    "        max_sentences_per_para = int(len(pred)/num_paragraphs)\n",
    "        new_pred = []\n",
    "        for j,num_sentences in enumerate(document_lengths[i]):\n",
    "            new_pred += pred[j*max_sentences_per_para : j*max_sentences_per_para + min(max_sentences_per_para, num_sentences)]\n",
    "        out_list.append(new_pred)\n",
    "    return out_list\n",
    "        \n",
    "\n",
    "def stack_suporting_facts(dataset):\n",
    "    out_list = []\n",
    "    data_size = len(dataset['supporting_fact_0'])\n",
    "    for i in range(data_size):\n",
    "        num_paragraphs = len(dataset['document_length'][i])\n",
    "        stacked_sf = []\n",
    "        for j in range(num_paragraphs):\n",
    "            stacked_sf += dataset['supporting_fact_{}'.format(j)][i]\n",
    "        out_list.append(stacked_sf)\n",
    "    return out_list\n",
    "\n",
    "\n",
    "\n",
    "def reorganize_predictions_old(predictions, document_lengths):\n",
    "    out_list = []\n",
    "    start_index = 0\n",
    "    for i in range(len(document_lengths)):\n",
    "        pred_raw = predictions[start_index:start_index+len(document_lengths[i])]\n",
    "        pred = []\n",
    "        for j,p in enumerate(pred_raw):\n",
    "            pred += p[:document_lengths[i][j]]\n",
    "            pred += [0] * (document_lengths[i][j] - len(p[:document_lengths[i][j]]))\n",
    "        out_list.append(pred)\n",
    "        start_index += len(document_lengths[i])\n",
    "    return out_list"
   ]
  },
  {
   "cell_type": "code",
   "execution_count": 17,
   "metadata": {},
   "outputs": [],
   "source": [
    "predictions_reorganized = reorganize_predictions(predictions_raw.tolist(), dataset['document_length'])"
   ]
  },
  {
   "cell_type": "code",
   "execution_count": 18,
   "metadata": {},
   "outputs": [],
   "source": [
    "sf_stacked = stack_suporting_facts(dataset)"
   ]
  },
  {
   "cell_type": "code",
   "execution_count": 19,
   "metadata": {},
   "outputs": [],
   "source": [
    "supporting_facts_reorganized = reorganize_predictions(sf_stacked, dataset['document_length'])"
   ]
  },
  {
   "cell_type": "code",
   "execution_count": 20,
   "metadata": {},
   "outputs": [
    {
     "name": "stderr",
     "output_type": "stream",
     "text": [
      "100%|██████████| 7344/7344 [00:00<00:00, 783810.49it/s]\n"
     ]
    }
   ],
   "source": [
    "for i in trange(len(predictions_reorganized)):\n",
    "    assert(len(supporting_facts_reorganized[i]) == len(predictions_reorganized[i]))"
   ]
  },
  {
   "cell_type": "code",
   "execution_count": 21,
   "metadata": {},
   "outputs": [],
   "source": [
    "def evaluate(gt, pred_raw, threshold, dataset):\n",
    "    pred_answer_labels = (torch.sigmoid(torch.tensor(pred_raw)) > threshold).numpy().tolist()\n",
    "    predictions_reorganized = reorganize_predictions(pred_answer_labels, dataset['document_length'])\n",
    "    result = score(gt, predictions_reorganized)\n",
    "    return result\n",
    "    \n",
    "    \n",
    "\n",
    "def evaluate_old(gt, pred, threshold, document_lengths):\n",
    "    pred_answer_labels = (torch.sigmoid(torch.tensor(pred)) > threshold).numpy().tolist()\n",
    "    predictions_reorganized = reorganize_predictions(pred_answer_labels, document_lengths)\n",
    "    supporting_facts_reorganized = reorganize_predictions(gt, document_lengths)\n",
    "    result = score(supporting_facts_reorganized, predictions_reorganized)\n",
    "    return result"
   ]
  },
  {
   "cell_type": "code",
   "execution_count": 22,
   "metadata": {},
   "outputs": [
    {
     "data": {
      "text/plain": [
       "{'precision': 0.7713789682539768,\n",
       " 'recall': 0.8799257897603537,\n",
       " 'f1': 0.8059427281445529,\n",
       " 'em': 0.3951525054466231}"
      ]
     },
     "execution_count": 22,
     "metadata": {},
     "output_type": "execute_result"
    }
   ],
   "source": [
    "evaluate(supporting_facts_reorganized, predictions_raw, 0.5, dataset)"
   ]
  },
  {
   "cell_type": "code",
   "execution_count": 23,
   "metadata": {},
   "outputs": [
    {
     "name": "stderr",
     "output_type": "stream",
     "text": [
      "100%|██████████| 18/18 [03:47<00:00, 12.95s/it]\n"
     ]
    }
   ],
   "source": [
    "metrics = {'precision':[], 'recall':[], 'f1':[], 'em':[]}\n",
    "for t in tqdm(np.linspace(0.1,1,18,endpoint=False)):\n",
    "    result = evaluate(supporting_facts_reorganized, predictions_raw, t, dataset)\n",
    "    for key,value in result.items():\n",
    "        metrics[key].append(value)"
   ]
  },
  {
   "cell_type": "code",
   "execution_count": 24,
   "metadata": {},
   "outputs": [
    {
     "data": {
      "text/plain": [
       "0.8139301315363656"
      ]
     },
     "execution_count": 24,
     "metadata": {},
     "output_type": "execute_result"
    }
   ],
   "source": [
    "max(metrics['f1'])"
   ]
  },
  {
   "cell_type": "code",
   "execution_count": 25,
   "metadata": {},
   "outputs": [
    {
     "data": {
      "text/plain": [
       "0.48869825708061004"
      ]
     },
     "execution_count": 25,
     "metadata": {},
     "output_type": "execute_result"
    }
   ],
   "source": [
    "max(metrics['em'])"
   ]
  },
  {
   "cell_type": "code",
   "execution_count": 26,
   "metadata": {},
   "outputs": [],
   "source": [
    "import pandas as pd\n",
    "import matplotlib.pyplot as plt"
   ]
  },
  {
   "cell_type": "code",
   "execution_count": 27,
   "metadata": {},
   "outputs": [],
   "source": [
    "metric_df = pd.DataFrame(metrics, index=np.linspace(0.1,1,18,endpoint=False))"
   ]
  },
  {
   "cell_type": "code",
   "execution_count": 28,
   "metadata": {},
   "outputs": [
    {
     "data": {
      "text/html": [
       "<div>\n",
       "<style scoped>\n",
       "    .dataframe tbody tr th:only-of-type {\n",
       "        vertical-align: middle;\n",
       "    }\n",
       "\n",
       "    .dataframe tbody tr th {\n",
       "        vertical-align: top;\n",
       "    }\n",
       "\n",
       "    .dataframe thead th {\n",
       "        text-align: right;\n",
       "    }\n",
       "</style>\n",
       "<table border=\"1\" class=\"dataframe\">\n",
       "  <thead>\n",
       "    <tr style=\"text-align: right;\">\n",
       "      <th></th>\n",
       "      <th>precision</th>\n",
       "      <th>recall</th>\n",
       "      <th>f1</th>\n",
       "      <th>em</th>\n",
       "    </tr>\n",
       "  </thead>\n",
       "  <tbody>\n",
       "    <tr>\n",
       "      <th>0.10</th>\n",
       "      <td>0.653884</td>\n",
       "      <td>0.947638</td>\n",
       "      <td>0.748770</td>\n",
       "      <td>0.256808</td>\n",
       "    </tr>\n",
       "    <tr>\n",
       "      <th>0.15</th>\n",
       "      <td>0.676514</td>\n",
       "      <td>0.938606</td>\n",
       "      <td>0.763610</td>\n",
       "      <td>0.280365</td>\n",
       "    </tr>\n",
       "    <tr>\n",
       "      <th>0.20</th>\n",
       "      <td>0.694969</td>\n",
       "      <td>0.930250</td>\n",
       "      <td>0.774344</td>\n",
       "      <td>0.299973</td>\n",
       "    </tr>\n",
       "    <tr>\n",
       "      <th>0.25</th>\n",
       "      <td>0.710927</td>\n",
       "      <td>0.921942</td>\n",
       "      <td>0.782795</td>\n",
       "      <td>0.321623</td>\n",
       "    </tr>\n",
       "    <tr>\n",
       "      <th>0.30</th>\n",
       "      <td>0.723859</td>\n",
       "      <td>0.912215</td>\n",
       "      <td>0.788080</td>\n",
       "      <td>0.335920</td>\n",
       "    </tr>\n",
       "    <tr>\n",
       "      <th>0.35</th>\n",
       "      <td>0.736662</td>\n",
       "      <td>0.903854</td>\n",
       "      <td>0.793670</td>\n",
       "      <td>0.351580</td>\n",
       "    </tr>\n",
       "    <tr>\n",
       "      <th>0.40</th>\n",
       "      <td>0.748195</td>\n",
       "      <td>0.895741</td>\n",
       "      <td>0.798030</td>\n",
       "      <td>0.364924</td>\n",
       "    </tr>\n",
       "    <tr>\n",
       "      <th>0.45</th>\n",
       "      <td>0.759820</td>\n",
       "      <td>0.888048</td>\n",
       "      <td>0.802320</td>\n",
       "      <td>0.378676</td>\n",
       "    </tr>\n",
       "    <tr>\n",
       "      <th>0.50</th>\n",
       "      <td>0.771379</td>\n",
       "      <td>0.879926</td>\n",
       "      <td>0.805943</td>\n",
       "      <td>0.395153</td>\n",
       "    </tr>\n",
       "    <tr>\n",
       "      <th>0.55</th>\n",
       "      <td>0.781775</td>\n",
       "      <td>0.870606</td>\n",
       "      <td>0.808116</td>\n",
       "      <td>0.409450</td>\n",
       "    </tr>\n",
       "    <tr>\n",
       "      <th>0.60</th>\n",
       "      <td>0.792150</td>\n",
       "      <td>0.861483</td>\n",
       "      <td>0.809968</td>\n",
       "      <td>0.420615</td>\n",
       "    </tr>\n",
       "    <tr>\n",
       "      <th>0.65</th>\n",
       "      <td>0.803558</td>\n",
       "      <td>0.852686</td>\n",
       "      <td>0.812158</td>\n",
       "      <td>0.438725</td>\n",
       "    </tr>\n",
       "    <tr>\n",
       "      <th>0.70</th>\n",
       "      <td>0.814937</td>\n",
       "      <td>0.844032</td>\n",
       "      <td>0.813930</td>\n",
       "      <td>0.454793</td>\n",
       "    </tr>\n",
       "    <tr>\n",
       "      <th>0.75</th>\n",
       "      <td>0.824553</td>\n",
       "      <td>0.834188</td>\n",
       "      <td>0.813772</td>\n",
       "      <td>0.465278</td>\n",
       "    </tr>\n",
       "    <tr>\n",
       "      <th>0.80</th>\n",
       "      <td>0.835616</td>\n",
       "      <td>0.821851</td>\n",
       "      <td>0.812531</td>\n",
       "      <td>0.473448</td>\n",
       "    </tr>\n",
       "    <tr>\n",
       "      <th>0.85</th>\n",
       "      <td>0.846725</td>\n",
       "      <td>0.807243</td>\n",
       "      <td>0.809411</td>\n",
       "      <td>0.481481</td>\n",
       "    </tr>\n",
       "    <tr>\n",
       "      <th>0.90</th>\n",
       "      <td>0.858824</td>\n",
       "      <td>0.787362</td>\n",
       "      <td>0.802872</td>\n",
       "      <td>0.488698</td>\n",
       "    </tr>\n",
       "    <tr>\n",
       "      <th>0.95</th>\n",
       "      <td>0.864220</td>\n",
       "      <td>0.750152</td>\n",
       "      <td>0.782328</td>\n",
       "      <td>0.479711</td>\n",
       "    </tr>\n",
       "  </tbody>\n",
       "</table>\n",
       "</div>"
      ],
      "text/plain": [
       "      precision    recall        f1        em\n",
       "0.10   0.653884  0.947638  0.748770  0.256808\n",
       "0.15   0.676514  0.938606  0.763610  0.280365\n",
       "0.20   0.694969  0.930250  0.774344  0.299973\n",
       "0.25   0.710927  0.921942  0.782795  0.321623\n",
       "0.30   0.723859  0.912215  0.788080  0.335920\n",
       "0.35   0.736662  0.903854  0.793670  0.351580\n",
       "0.40   0.748195  0.895741  0.798030  0.364924\n",
       "0.45   0.759820  0.888048  0.802320  0.378676\n",
       "0.50   0.771379  0.879926  0.805943  0.395153\n",
       "0.55   0.781775  0.870606  0.808116  0.409450\n",
       "0.60   0.792150  0.861483  0.809968  0.420615\n",
       "0.65   0.803558  0.852686  0.812158  0.438725\n",
       "0.70   0.814937  0.844032  0.813930  0.454793\n",
       "0.75   0.824553  0.834188  0.813772  0.465278\n",
       "0.80   0.835616  0.821851  0.812531  0.473448\n",
       "0.85   0.846725  0.807243  0.809411  0.481481\n",
       "0.90   0.858824  0.787362  0.802872  0.488698\n",
       "0.95   0.864220  0.750152  0.782328  0.479711"
      ]
     },
     "execution_count": 28,
     "metadata": {},
     "output_type": "execute_result"
    }
   ],
   "source": [
    "metric_df"
   ]
  },
  {
   "cell_type": "code",
   "execution_count": 29,
   "metadata": {},
   "outputs": [
    {
     "data": {
      "text/plain": [
       "<Figure size 432x288 with 0 Axes>"
      ]
     },
     "metadata": {},
     "output_type": "display_data"
    },
    {
     "data": {
      "image/png": "[encoded data removed]",
      "text/plain": [
       "<Figure size 432x288 with 1 Axes>"
      ]
     },
     "metadata": {
      "needs_background": "light"
     },
     "output_type": "display_data"
    }
   ],
   "source": [
    "plt.figure(); metric_df.plot(colormap=\"Dark2\");"
   ]
  },
  {
   "cell_type": "code",
   "execution_count": 30,
   "metadata": {},
   "outputs": [],
   "source": [
    "import seaborn as sns"
   ]
  },
  {
   "cell_type": "code",
   "execution_count": 31,
   "metadata": {},
   "outputs": [
    {
     "name": "stderr",
     "output_type": "stream",
     "text": [
      "/home/bhargav/anaconda3/lib/python3.6/site-packages/scipy/stats/stats.py:1713: FutureWarning: Using a non-tuple sequence for multidimensional indexing is deprecated; use `arr[tuple(seq)]` instead of `arr[seq]`. In the future this will be interpreted as an array index, `arr[np.array(seq)]`, which will result either in an error or a different result.\n",
      "  return np.add.reduce(sorted[indexer] * weights, axis=axis) / sumval\n"
     ]
    },
    {
     "data": {
      "text/plain": [
       "<matplotlib.axes._subplots.AxesSubplot at 0x7f42550d73c8>"
      ]
     },
     "execution_count": 31,
     "metadata": {},
     "output_type": "execute_result"
    },
    {
     "data": {
      "image/png": "[encoded data removed]",
      "text/plain": [
       "<Figure size 432x288 with 1 Axes>"
      ]
     },
     "metadata": {
      "needs_background": "light"
     },
     "output_type": "display_data"
    }
   ],
   "source": [
    "sns.distplot((torch.sigmoid(torch.tensor(predictions_raw))).numpy().flatten(),kde=False, hist=True, rug=False)"
   ]
  },
  {
   "cell_type": "code",
   "execution_count": null,
   "metadata": {},
   "outputs": [],
   "source": []
  }
 ],
 "metadata": {
  "kernelspec": {
   "display_name": "Python 3",
   "language": "python",
   "name": "python3"
  },
  "language_info": {
   "codemirror_mode": {
    "name": "ipython",
    "version": 3
   },
   "file_extension": ".py",
   "mimetype": "text/x-python",
   "name": "python",
   "nbconvert_exporter": "python",
   "pygments_lexer": "ipython3",
   "version": "3.6.7"
  }
 },
 "nbformat": 4,
 "nbformat_minor": 2
}
