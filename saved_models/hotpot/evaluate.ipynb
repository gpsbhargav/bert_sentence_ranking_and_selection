{
 "cells": [
  {
   "cell_type": "markdown",
   "metadata": {},
   "source": [
    "# Evaluate predictions on HotpotQA\n",
    "- Model predicts weather a sentence is a supporting fact to answer a question\n",
    "- This notebook rearranges the predictions and evaluates the performance just like the hotpot evaluation script"
   ]
  },
  {
   "cell_type": "code",
   "execution_count": 1,
   "metadata": {},
   "outputs": [],
   "source": [
    "import random\n",
    "import math\n",
    "import os\n",
    "import pickle\n",
    "from tqdm import tqdm, trange\n",
    "import numpy as np\n",
    "\n",
    "from sklearn.metrics import f1_score, accuracy_score\n",
    "from sklearn.metrics import precision_score, recall_score\n",
    "\n",
    "import torch\n",
    "from torch.utils.data import Dataset, DataLoader, TensorDataset\n",
    "\n",
    "import pdb"
   ]
  },
  {
   "cell_type": "code",
   "execution_count": 2,
   "metadata": {},
   "outputs": [
    {
     "name": "stdout",
     "output_type": "stream",
     "text": [
      "Better speed can be achieved with apex installed from https://www.github.com/nvidia/apex.\n"
     ]
    }
   ],
   "source": [
    "from pytorch_pretrained_bert import BertTokenizer"
   ]
  },
  {
   "cell_type": "code",
   "execution_count": 3,
   "metadata": {},
   "outputs": [],
   "source": [
    "tokenizer = BertTokenizer.from_pretrained('bert-base-uncased')"
   ]
  },
  {
   "cell_type": "code",
   "execution_count": 4,
   "metadata": {},
   "outputs": [],
   "source": [
    "def pickler(path,pkl_name,obj):\n",
    "    with open(os.path.join(path, pkl_name), 'wb') as f:\n",
    "        pickle.dump(obj, f, pickle.HIGHEST_PROTOCOL)\n",
    "\n",
    "def unpickler(path,pkl_name):\n",
    "    with open(os.path.join(path, pkl_name) ,'rb') as f:\n",
    "        obj = pickle.load(f)\n",
    "    return obj"
   ]
  },
  {
   "cell_type": "code",
   "execution_count": 5,
   "metadata": {},
   "outputs": [],
   "source": [
    "data_pkl_path = \"../../data/hotpot/\"\n",
    "data_pkl_name = \"preprocessed_dev.pkl\"\n",
    "predictions_pkl_path = \"./\"\n",
    "predictions_pkl_name = \"predictions_2x.pkl\""
   ]
  },
  {
   "cell_type": "code",
   "execution_count": 6,
   "metadata": {},
   "outputs": [],
   "source": [
    "def exact_match(gt, pred):\n",
    "    assert(len(gt) == len(pred))\n",
    "    total_size = len(pred)\n",
    "    num_correct = 0\n",
    "    for i in range(total_size):\n",
    "        if(gt[i] == pred[i]):\n",
    "            num_correct += 1\n",
    "    return num_correct/total_size"
   ]
  },
  {
   "cell_type": "code",
   "execution_count": 7,
   "metadata": {},
   "outputs": [],
   "source": [
    "def evaluate(gt, pred):\n",
    "    assert(len(gt) == len(pred))\n",
    "    total_size = len(pred)\n",
    "    assert(len(gt) != 0)\n",
    "    total_precision = 0\n",
    "    total_recall = 0\n",
    "    total_f1 = 0\n",
    "    total_correct = 0\n",
    "    for i in trange(total_size):\n",
    "        if(gt[i] == pred[i]):\n",
    "            total_correct += 1\n",
    "        p = precision_score(gt[i], pred[i],average=\"binary\")\n",
    "        r = recall_score(gt[i], pred[i],average=\"binary\")\n",
    "        total_precision += p\n",
    "        total_recall += r\n",
    "        total_f1 += 2*(p*r)/(p+r) if (p+r)>0 else 0\n",
    "    return {\"precision\":total_precision/total_size, \"recall\":total_recall/total_size, \n",
    "            \"f1\":total_f1/total_size, \"em\":total_correct/total_size}"
   ]
  },
  {
   "cell_type": "code",
   "execution_count": 8,
   "metadata": {},
   "outputs": [],
   "source": [
    "def reorganize_predictions(predictions, document_lengths):\n",
    "    out_list = []\n",
    "    start_index = 0\n",
    "    for i in range(len(document_lengths)):\n",
    "        p = predictions[start_index:start_index+document_lengths[i]]\n",
    "        out_list.append(p)\n",
    "        start_index += document_lengths[i]\n",
    "    return out_list"
   ]
  },
  {
   "cell_type": "code",
   "execution_count": 9,
   "metadata": {},
   "outputs": [],
   "source": [
    "dataset = unpickler(data_pkl_path, data_pkl_name)"
   ]
  },
  {
   "cell_type": "code",
   "execution_count": 10,
   "metadata": {},
   "outputs": [
    {
     "data": {
      "text/plain": [
       "dict_keys(['sequences', 'segment_ids', 'supporting_fact', 'document_lengths'])"
      ]
     },
     "execution_count": 10,
     "metadata": {},
     "output_type": "execute_result"
    }
   ],
   "source": [
    "dataset.keys()"
   ]
  },
  {
   "cell_type": "code",
   "execution_count": 11,
   "metadata": {},
   "outputs": [],
   "source": [
    "predictions_raw = unpickler(predictions_pkl_path, predictions_pkl_name)"
   ]
  },
  {
   "cell_type": "code",
   "execution_count": 12,
   "metadata": {},
   "outputs": [
    {
     "data": {
      "text/plain": [
       "numpy.ndarray"
      ]
     },
     "execution_count": 12,
     "metadata": {},
     "output_type": "execute_result"
    }
   ],
   "source": [
    "type(predictions_raw)"
   ]
  },
  {
   "cell_type": "code",
   "execution_count": 13,
   "metadata": {},
   "outputs": [
    {
     "data": {
      "text/plain": [
       "(306423,)"
      ]
     },
     "execution_count": 13,
     "metadata": {},
     "output_type": "execute_result"
    }
   ],
   "source": [
    "predictions_raw.shape"
   ]
  },
  {
   "cell_type": "code",
   "execution_count": 14,
   "metadata": {},
   "outputs": [
    {
     "data": {
      "text/plain": [
       "array([-5.5536017, -6.9522686, -7.0652246,  6.3503833, -6.1533966,\n",
       "       -5.8135967, -7.0851107, -7.021992 , -7.185976 , -7.3964677,\n",
       "       -7.29731  , -5.8978343, -6.055974 , -6.916958 , -6.894326 ,\n",
       "       -5.8755207,  6.730695 , -7.031531 , -7.1481214, -6.9699774],\n",
       "      dtype=float32)"
      ]
     },
     "execution_count": 14,
     "metadata": {},
     "output_type": "execute_result"
    }
   ],
   "source": [
    "predictions_raw[:20]"
   ]
  },
  {
   "cell_type": "code",
   "execution_count": 15,
   "metadata": {},
   "outputs": [
    {
     "data": {
      "text/plain": [
       "-7.6060705"
      ]
     },
     "execution_count": 15,
     "metadata": {},
     "output_type": "execute_result"
    }
   ],
   "source": [
    "predictions_raw.min()"
   ]
  },
  {
   "cell_type": "code",
   "execution_count": 16,
   "metadata": {},
   "outputs": [
    {
     "data": {
      "text/plain": [
       "7.3882093"
      ]
     },
     "execution_count": 16,
     "metadata": {},
     "output_type": "execute_result"
    }
   ],
   "source": [
    "predictions_raw.max()"
   ]
  },
  {
   "cell_type": "code",
   "execution_count": 17,
   "metadata": {},
   "outputs": [
    {
     "data": {
      "text/plain": [
       "-3.7001832"
      ]
     },
     "execution_count": 17,
     "metadata": {},
     "output_type": "execute_result"
    }
   ],
   "source": [
    "predictions_raw.mean()"
   ]
  },
  {
   "cell_type": "code",
   "execution_count": 18,
   "metadata": {},
   "outputs": [],
   "source": [
    "threshold = 0.95"
   ]
  },
  {
   "cell_type": "code",
   "execution_count": 19,
   "metadata": {},
   "outputs": [],
   "source": [
    "pred_answer_labels = (torch.sigmoid(torch.tensor(predictions_raw)) > threshold).numpy().tolist()"
   ]
  },
  {
   "cell_type": "code",
   "execution_count": 20,
   "metadata": {},
   "outputs": [
    {
     "name": "stdout",
     "output_type": "stream",
     "text": [
      "[0, 0, 0, 1, 0, 0, 0, 0, 0, 0]\n"
     ]
    }
   ],
   "source": [
    "print(pred_answer_labels[:10])"
   ]
  },
  {
   "cell_type": "code",
   "execution_count": 21,
   "metadata": {},
   "outputs": [
    {
     "data": {
      "text/plain": [
       "21173"
      ]
     },
     "execution_count": 21,
     "metadata": {},
     "output_type": "execute_result"
    }
   ],
   "source": [
    "sum(pred_answer_labels)"
   ]
  },
  {
   "cell_type": "code",
   "execution_count": 22,
   "metadata": {},
   "outputs": [],
   "source": [
    "pred_answer_labels_reorganized = reorganize_predictions(pred_answer_labels, dataset[\"document_lengths\"])"
   ]
  },
  {
   "cell_type": "code",
   "execution_count": 23,
   "metadata": {},
   "outputs": [
    {
     "data": {
      "text/plain": [
       "7404"
      ]
     },
     "execution_count": 23,
     "metadata": {},
     "output_type": "execute_result"
    }
   ],
   "source": [
    "len(pred_answer_labels_reorganized)"
   ]
  },
  {
   "cell_type": "code",
   "execution_count": 24,
   "metadata": {},
   "outputs": [],
   "source": [
    "gt_reorganized = reorganize_predictions(dataset[\"supporting_fact\"], dataset[\"document_lengths\"])"
   ]
  },
  {
   "cell_type": "code",
   "execution_count": 25,
   "metadata": {},
   "outputs": [
    {
     "data": {
      "text/plain": [
       "7404"
      ]
     },
     "execution_count": 25,
     "metadata": {},
     "output_type": "execute_result"
    }
   ],
   "source": [
    "len(gt_reorganized)"
   ]
  },
  {
   "cell_type": "markdown",
   "metadata": {},
   "source": [
    "### Are the lengths same ?"
   ]
  },
  {
   "cell_type": "code",
   "execution_count": 26,
   "metadata": {},
   "outputs": [],
   "source": [
    "for i in range(len(gt_reorganized)):\n",
    "    assert(len(gt_reorganized[i]) == len(pred_answer_labels_reorganized[i]))"
   ]
  },
  {
   "cell_type": "markdown",
   "metadata": {},
   "source": [
    "### Evaluation"
   ]
  },
  {
   "cell_type": "code",
   "execution_count": 27,
   "metadata": {},
   "outputs": [
    {
     "data": {
      "text/plain": [
       "18001"
      ]
     },
     "execution_count": 27,
     "metadata": {},
     "output_type": "execute_result"
    }
   ],
   "source": [
    "sum(dataset[\"supporting_fact\"])"
   ]
  },
  {
   "cell_type": "code",
   "execution_count": 28,
   "metadata": {},
   "outputs": [
    {
     "data": {
      "text/plain": [
       "21173"
      ]
     },
     "execution_count": 28,
     "metadata": {},
     "output_type": "execute_result"
    }
   ],
   "source": [
    "sum(pred_answer_labels)"
   ]
  },
  {
   "cell_type": "code",
   "execution_count": 29,
   "metadata": {},
   "outputs": [
    {
     "name": "stderr",
     "output_type": "stream",
     "text": [
      "  1%|          | 59/7404 [00:00<00:12, 586.21it/s]/home/bhargav/anaconda3/lib/python3.6/site-packages/sklearn/metrics/classification.py:1143: UndefinedMetricWarning: Precision is ill-defined and being set to 0.0 due to no predicted samples.\n",
      "  'precision', 'predicted', average, warn_for)\n",
      "100%|██████████| 7404/7404 [00:13<00:00, 561.25it/s]\n"
     ]
    },
    {
     "data": {
      "text/plain": [
       "{'precision': 0.6847269321810139,\n",
       " 'recall': 0.7458830169020635,\n",
       " 'f1': 0.6779622093512215,\n",
       " 'em': 0.24108589951377635}"
      ]
     },
     "execution_count": 29,
     "metadata": {},
     "output_type": "execute_result"
    }
   ],
   "source": [
    "evaluate(gt_reorganized, pred_answer_labels_reorganized)"
   ]
  },
  {
   "cell_type": "raw",
   "metadata": {},
   "source": [
    "num 1 in GT:18001\n",
    "\n",
    "====================================================\n",
    "no dropout, first 'n' negative examples\n",
    "====================================================\n",
    "Threshold = 0.9\n",
    "num 1 in pred:23898\n",
    "{'precision': 0.6334376802482,\n",
    " 'recall': 0.7238360538704973,\n",
    " 'f1': 0.6292228317433969,\n",
    " 'em': 0.1963803349540789}\n",
    "====================================================\n",
    "Threshold = 0.5\n",
    "num 1 in pred:53597\n",
    "{'precision': 0.41854551203917234,\n",
    " 'recall': 0.9118060379203041,\n",
    " 'f1': 0.5307264706450345,\n",
    " 'em': 0.07806591031874663}\n",
    "====================================================\n",
    "0.1 dropout, random negative examples\n",
    "====================================================\n",
    "Threshold = 0.5\n",
    "num 1 in pred:44856\n",
    "{'precision': 0.46638407446220137,\n",
    " 'recall': 0.9064059646008644,\n",
    " 'f1': 0.5776555929156273,\n",
    " 'em': 0.10386277687736359}\n",
    "====================================================\n",
    "Threshold = 0.9\n",
    "num 1 in pred:20152\n",
    "{'precision': 0.6867104762921196,\n",
    " 'recall': 0.7088041213243822,\n",
    " 'f1': 0.6588673467117654,\n",
    " 'em': 0.228795245813074}\n",
    "====================================================\n",
    "0.1 dropout, 2x positive, equal number of negative\n",
    "====================================================\n",
    "Threshold = 0.95\n",
    "num 1 in pred: 21173\n",
    "{'precision': 0.6847269321810139,\n",
    " 'recall': 0.7458830169020635,\n",
    " 'f1': 0.6779622093512215,\n",
    " 'em': 0.24108589951377635}\n",
    "====================================================\n",
    "====================================================\n",
    "====================================================\n",
    "===================================================="
   ]
  },
  {
   "cell_type": "markdown",
   "metadata": {},
   "source": [
    "## Examples of correct and incorrect predictions"
   ]
  },
  {
   "cell_type": "code",
   "execution_count": 30,
   "metadata": {},
   "outputs": [],
   "source": [
    "import seaborn as sns"
   ]
  },
  {
   "cell_type": "code",
   "execution_count": 31,
   "metadata": {},
   "outputs": [
    {
     "name": "stderr",
     "output_type": "stream",
     "text": [
      "/home/bhargav/anaconda3/lib/python3.6/site-packages/scipy/stats/stats.py:1713: FutureWarning: Using a non-tuple sequence for multidimensional indexing is deprecated; use `arr[tuple(seq)]` instead of `arr[seq]`. In the future this will be interpreted as an array index, `arr[np.array(seq)]`, which will result either in an error or a different result.\n",
      "  return np.add.reduce(sorted[indexer] * weights, axis=axis) / sumval\n"
     ]
    },
    {
     "data": {
      "text/plain": [
       "<matplotlib.axes._subplots.AxesSubplot at 0x7f861f1dfba8>"
      ]
     },
     "execution_count": 31,
     "metadata": {},
     "output_type": "execute_result"
    },
    {
     "data": {
      "image/png": "[encoded data removed]",
      "text/plain": [
       "<Figure size 432x288 with 1 Axes>"
      ]
     },
     "metadata": {
      "needs_background": "light"
     },
     "output_type": "display_data"
    }
   ],
   "source": [
    "sns.distplot((torch.sigmoid(torch.tensor(predictions_raw))).numpy(),kde=False, hist=True, rug=False)"
   ]
  },
  {
   "cell_type": "code",
   "execution_count": 32,
   "metadata": {},
   "outputs": [],
   "source": [
    "# for individual question sentence pairs\n",
    "wrong_prediction_indices = []\n",
    "correct_prediction_indices = []\n",
    "for i in range(len(dataset[\"supporting_fact\"])):\n",
    "    if( dataset[\"supporting_fact\"][i] != pred_answer_labels[i]):\n",
    "        wrong_prediction_indices.append(i)\n",
    "    else:\n",
    "        correct_prediction_indices.append(i)"
   ]
  },
  {
   "cell_type": "code",
   "execution_count": 33,
   "metadata": {},
   "outputs": [
    {
     "data": {
      "text/plain": [
       "13186"
      ]
     },
     "execution_count": 33,
     "metadata": {},
     "output_type": "execute_result"
    }
   ],
   "source": [
    "len(wrong_prediction_indices)"
   ]
  },
  {
   "cell_type": "code",
   "execution_count": 34,
   "metadata": {},
   "outputs": [
    {
     "data": {
      "text/plain": [
       "293237"
      ]
     },
     "execution_count": 34,
     "metadata": {},
     "output_type": "execute_result"
    }
   ],
   "source": [
    "len(correct_prediction_indices)"
   ]
  },
  {
   "cell_type": "code",
   "execution_count": 35,
   "metadata": {},
   "outputs": [],
   "source": [
    "def get_q_s_pair(index, dataset):\n",
    "    token_ids = dataset[\"sequences\"][index]\n",
    "    true_label = dataset[\"supporting_fact\"][index]\n",
    "    words = tokenizer.convert_ids_to_tokens(token_ids)\n",
    "    return {\"sequence\":\" \".join(words),\"true_label\":true_label} \n",
    "\n",
    "def sort_indices_increasing_confidence(indices, scores, threshold):\n",
    "    margins = []\n",
    "    for index in indices:\n",
    "        m = scores[index] - threshold\n",
    "        margins.append(m)\n",
    "    return np.argsort(np.absolute(margins)), np.absolute(margins)\n",
    "        "
   ]
  },
  {
   "cell_type": "code",
   "execution_count": 36,
   "metadata": {},
   "outputs": [
    {
     "name": "stdout",
     "output_type": "stream",
     "text": [
      "{'sequence': '[CLS] what science fantasy young adult series , told in first person , has a set of companion books na ##rra ##ting the stories of enslaved worlds and alien species ? [SEP] with respect to continuity within the series , it takes place before book # 23 , \" the pretend ##er \" , although the events told in the story occur between the time of \" the el ##lim ##ist chronicles \" and \" the and ##ali ##te chronicles \" . [SEP] [PAD] [PAD] [PAD] [PAD] [PAD] [PAD] [PAD] [PAD] [PAD] [PAD] [PAD] [PAD] [PAD] [PAD] [PAD] [PAD] [PAD] [PAD] [PAD] [PAD]', 'true_label': 1}\n"
     ]
    }
   ],
   "source": [
    "print(get_q_s_pair(wrong_prediction_indices[1], dataset))"
   ]
  },
  {
   "cell_type": "markdown",
   "metadata": {},
   "source": [
    "### Least and most confident wrong predictions"
   ]
  },
  {
   "cell_type": "code",
   "execution_count": 37,
   "metadata": {},
   "outputs": [],
   "source": [
    "sigmoid_scores = (torch.sigmoid(torch.tensor(predictions_raw))).numpy()"
   ]
  },
  {
   "cell_type": "code",
   "execution_count": 38,
   "metadata": {},
   "outputs": [],
   "source": [
    "incorrect_confidences_sorted, incorrect_margins = sort_indices_increasing_confidence(wrong_prediction_indices, sigmoid_scores, threshold)"
   ]
  },
  {
   "cell_type": "code",
   "execution_count": 39,
   "metadata": {},
   "outputs": [
    {
     "name": "stdout",
     "output_type": "stream",
     "text": [
      "{'sequence': '[CLS] chicago ##land sports hall of fame was founded by the company located in what washington town , near the state capital ? [SEP] founded in 1896 by leopold fried ##eric ##h schmidt , it was bought by g . he ##ile ##man brewing company in 1983 . [SEP] [PAD] [PAD] [PAD] [PAD] [PAD] [PAD] [PAD] [PAD] [PAD] [PAD] [PAD] [PAD] [PAD] [PAD] [PAD] [PAD] [PAD] [PAD] [PAD] [PAD] [PAD] [PAD] [PAD] [PAD] [PAD] [PAD] [PAD] [PAD] [PAD] [PAD] [PAD] [PAD] [PAD] [PAD] [PAD] [PAD] [PAD] [PAD] [PAD] [PAD] [PAD] [PAD] [PAD] [PAD] [PAD] [PAD] [PAD] [PAD] [PAD] [PAD] [PAD] [PAD] [PAD] [PAD]', 'true_label': 0}\n",
      "margin:  6.5445899963822995e-06\n"
     ]
    }
   ],
   "source": [
    "print(get_q_s_pair(wrong_prediction_indices[incorrect_confidences_sorted[0]], dataset))\n",
    "print(\"margin: \",incorrect_margins[incorrect_confidences_sorted[0]])"
   ]
  },
  {
   "cell_type": "code",
   "execution_count": 40,
   "metadata": {},
   "outputs": [
    {
     "name": "stdout",
     "output_type": "stream",
     "text": [
      "{'sequence': '[CLS] what country does washington dull ##es international airport and baltimore – washington metropolitan area have in common ? [SEP] according to an ancient hawaiian story a local woman compared her husband \\' s cruelty to the sharp edge of cutting bamboo ; thus the place was named kane ##ʻ oh ##e or \" bamboo man \" . [SEP] [PAD] [PAD] [PAD] [PAD] [PAD] [PAD] [PAD] [PAD] [PAD] [PAD] [PAD] [PAD] [PAD] [PAD] [PAD] [PAD] [PAD] [PAD] [PAD] [PAD] [PAD] [PAD] [PAD] [PAD] [PAD] [PAD] [PAD] [PAD] [PAD] [PAD] [PAD] [PAD] [PAD] [PAD] [PAD] [PAD] [PAD] [PAD] [PAD] [PAD] [PAD] [PAD] [PAD] [PAD]', 'true_label': 1}\n",
      "margin:  0.9491464490303769\n"
     ]
    }
   ],
   "source": [
    "print(get_q_s_pair(wrong_prediction_indices[incorrect_confidences_sorted[-1]], dataset))\n",
    "print(\"margin: \",incorrect_margins[incorrect_confidences_sorted[-1]])"
   ]
  },
  {
   "cell_type": "markdown",
   "metadata": {},
   "source": [
    "### Least and most confident correct predictions"
   ]
  },
  {
   "cell_type": "code",
   "execution_count": 41,
   "metadata": {},
   "outputs": [],
   "source": [
    "correct_confidences_sorted, correct_margins = sort_indices_increasing_confidence(correct_prediction_indices, sigmoid_scores, threshold)"
   ]
  },
  {
   "cell_type": "code",
   "execution_count": 42,
   "metadata": {},
   "outputs": [
    {
     "name": "stdout",
     "output_type": "stream",
     "text": [
      "{'sequence': '[CLS] edo ##ardo sole ##ri is playing on loan from which italian football club ? [SEP] ass ##oc ##ia ##zione cal ##cio milan is an italian football club based in milan , lombardy . [SEP] [PAD] [PAD] [PAD] [PAD] [PAD] [PAD] [PAD] [PAD] [PAD] [PAD] [PAD] [PAD] [PAD] [PAD] [PAD] [PAD] [PAD] [PAD] [PAD] [PAD] [PAD] [PAD] [PAD] [PAD] [PAD] [PAD] [PAD] [PAD] [PAD] [PAD] [PAD] [PAD] [PAD] [PAD] [PAD] [PAD] [PAD] [PAD] [PAD] [PAD] [PAD] [PAD] [PAD] [PAD] [PAD] [PAD] [PAD] [PAD] [PAD] [PAD] [PAD] [PAD] [PAD] [PAD] [PAD] [PAD] [PAD] [PAD] [PAD] [PAD] [PAD] [PAD] [PAD] [PAD] [PAD] [PAD] [PAD] [PAD]', 'true_label': 0}\n",
      "margin:  7.76052474971145e-06\n"
     ]
    }
   ],
   "source": [
    "print(get_q_s_pair(correct_prediction_indices[correct_confidences_sorted[0]], dataset))\n",
    "print(\"margin: \",correct_margins[correct_confidences_sorted[0]])"
   ]
  },
  {
   "cell_type": "code",
   "execution_count": 43,
   "metadata": {},
   "outputs": [
    {
     "name": "stdout",
     "output_type": "stream",
     "text": [
      "{'sequence': '[CLS] are harry ki ##zi ##rian and howard kazan ##jian known for the same industry ? [SEP] it is assumed that the previous communities of salmon cove and jerry ’ s cove became the community of harry ’ s harbour . [SEP] [PAD] [PAD] [PAD] [PAD] [PAD] [PAD] [PAD] [PAD] [PAD] [PAD] [PAD] [PAD] [PAD] [PAD] [PAD] [PAD] [PAD] [PAD] [PAD] [PAD] [PAD] [PAD] [PAD] [PAD] [PAD] [PAD] [PAD] [PAD] [PAD] [PAD] [PAD] [PAD] [PAD] [PAD] [PAD] [PAD] [PAD] [PAD] [PAD] [PAD] [PAD] [PAD] [PAD] [PAD] [PAD] [PAD] [PAD] [PAD] [PAD] [PAD] [PAD] [PAD] [PAD] [PAD] [PAD] [PAD] [PAD] [PAD] [PAD] [PAD] [PAD]', 'true_label': 0}\n",
      "margin:  0.94950282467762\n"
     ]
    }
   ],
   "source": [
    "print(get_q_s_pair(correct_prediction_indices[correct_confidences_sorted[-1]], dataset))\n",
    "print(\"margin: \",correct_margins[correct_confidences_sorted[-1]])"
   ]
  },
  {
   "cell_type": "code",
   "execution_count": null,
   "metadata": {},
   "outputs": [],
   "source": []
  }
 ],
 "metadata": {
  "kernelspec": {
   "display_name": "Python 3",
   "language": "python",
   "name": "python3"
  },
  "language_info": {
   "codemirror_mode": {
    "name": "ipython",
    "version": 3
   },
   "file_extension": ".py",
   "mimetype": "text/x-python",
   "name": "python",
   "nbconvert_exporter": "python",
   "pygments_lexer": "ipython3",
   "version": "3.6.7"
  }
 },
 "nbformat": 4,
 "nbformat_minor": 2
}
