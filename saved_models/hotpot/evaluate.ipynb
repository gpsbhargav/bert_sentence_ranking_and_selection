{
 "cells": [
  {
   "cell_type": "markdown",
   "metadata": {},
   "source": [
    "# Evaluate predictions on HotpotQA\n",
    "- Model predicts weather a sentence is a supporting fact to answer a question\n",
    "- This notebook rearranges the predictions and evaluates the performance just like the hotpot evaluation script"
   ]
  },
  {
   "cell_type": "code",
   "execution_count": 1,
   "metadata": {},
   "outputs": [],
   "source": [
    "import random\n",
    "import math\n",
    "import os\n",
    "import pickle\n",
    "from tqdm import tqdm, trange\n",
    "import numpy as np\n",
    "\n",
    "import sklearn\n",
    "from sklearn.metrics import f1_score, accuracy_score\n",
    "from sklearn.metrics import precision_score, recall_score\n",
    "\n",
    "import torch\n",
    "from torch.utils.data import Dataset, DataLoader, TensorDataset\n",
    "\n",
    "import pdb"
   ]
  },
  {
   "cell_type": "code",
   "execution_count": 2,
   "metadata": {},
   "outputs": [],
   "source": [
    "import warnings\n",
    "warnings.filterwarnings(\"ignore\", category=sklearn.exceptions.UndefinedMetricWarning)"
   ]
  },
  {
   "cell_type": "code",
   "execution_count": 3,
   "metadata": {},
   "outputs": [
    {
     "name": "stdout",
     "output_type": "stream",
     "text": [
      "Better speed can be achieved with apex installed from https://www.github.com/nvidia/apex.\n"
     ]
    }
   ],
   "source": [
    "from pytorch_pretrained_bert import BertTokenizer"
   ]
  },
  {
   "cell_type": "code",
   "execution_count": 4,
   "metadata": {},
   "outputs": [],
   "source": [
    "tokenizer = BertTokenizer.from_pretrained('bert-base-uncased')"
   ]
  },
  {
   "cell_type": "code",
   "execution_count": 5,
   "metadata": {},
   "outputs": [],
   "source": [
    "def pickler(path,pkl_name,obj):\n",
    "    with open(os.path.join(path, pkl_name), 'wb') as f:\n",
    "        pickle.dump(obj, f, pickle.HIGHEST_PROTOCOL)\n",
    "\n",
    "def unpickler(path,pkl_name):\n",
    "    with open(os.path.join(path, pkl_name) ,'rb') as f:\n",
    "        obj = pickle.load(f)\n",
    "    return obj"
   ]
  },
  {
   "cell_type": "code",
   "execution_count": 6,
   "metadata": {},
   "outputs": [],
   "source": [
    "data_pkl_path = \"../../data/hotpot/\"\n",
    "data_pkl_name = \"preprocessed_dev.pkl\"\n",
    "predictions_pkl_path = \"./\"\n",
    "predictions_pkl_name = \"predictions.pkl\""
   ]
  },
  {
   "cell_type": "code",
   "execution_count": 7,
   "metadata": {},
   "outputs": [],
   "source": [
    "def exact_match(gt, pred):\n",
    "    assert(len(gt) == len(pred))\n",
    "    total_size = len(pred)\n",
    "    num_correct = 0\n",
    "    for i in range(total_size):\n",
    "        if(gt[i] == pred[i]):\n",
    "            num_correct += 1\n",
    "    return num_correct/total_size"
   ]
  },
  {
   "cell_type": "code",
   "execution_count": 8,
   "metadata": {},
   "outputs": [],
   "source": [
    "def score(gt, pred):\n",
    "    assert(len(gt) == len(pred))\n",
    "    total_size = len(pred)\n",
    "    assert(len(gt) != 0)\n",
    "    total_precision = 0\n",
    "    total_recall = 0\n",
    "    total_f1 = 0\n",
    "    total_correct = 0\n",
    "    for i in range(total_size):\n",
    "        if(gt[i] == pred[i]):\n",
    "            total_correct += 1\n",
    "        p = precision_score(gt[i], pred[i],average=\"binary\")\n",
    "        r = recall_score(gt[i], pred[i],average=\"binary\")\n",
    "        total_precision += p\n",
    "        total_recall += r\n",
    "        total_f1 += 2*(p*r)/(p+r) if (p+r)>0 else 0\n",
    "    return {\"precision\":total_precision/total_size, \"recall\":total_recall/total_size, \n",
    "            \"f1\":total_f1/total_size, \"em\":total_correct/total_size}"
   ]
  },
  {
   "cell_type": "code",
   "execution_count": 9,
   "metadata": {},
   "outputs": [],
   "source": [
    "def reorganize_predictions(predictions, document_lengths):\n",
    "    out_list = []\n",
    "    start_index = 0\n",
    "    for i in range(len(document_lengths)):\n",
    "        p = predictions[start_index:start_index+document_lengths[i]]\n",
    "        out_list.append(p)\n",
    "        start_index += document_lengths[i]\n",
    "    return out_list"
   ]
  },
  {
   "cell_type": "code",
   "execution_count": 10,
   "metadata": {},
   "outputs": [],
   "source": [
    "dataset = unpickler(data_pkl_path, data_pkl_name)"
   ]
  },
  {
   "cell_type": "code",
   "execution_count": 11,
   "metadata": {},
   "outputs": [
    {
     "data": {
      "text/plain": [
       "dict_keys(['sequences', 'segment_ids', 'supporting_fact', 'document_lengths'])"
      ]
     },
     "execution_count": 11,
     "metadata": {},
     "output_type": "execute_result"
    }
   ],
   "source": [
    "dataset.keys()"
   ]
  },
  {
   "cell_type": "code",
   "execution_count": 12,
   "metadata": {},
   "outputs": [],
   "source": [
    "predictions_raw = unpickler(predictions_pkl_path, predictions_pkl_name)"
   ]
  },
  {
   "cell_type": "code",
   "execution_count": 13,
   "metadata": {},
   "outputs": [
    {
     "data": {
      "text/plain": [
       "numpy.ndarray"
      ]
     },
     "execution_count": 13,
     "metadata": {},
     "output_type": "execute_result"
    }
   ],
   "source": [
    "type(predictions_raw)"
   ]
  },
  {
   "cell_type": "code",
   "execution_count": 14,
   "metadata": {},
   "outputs": [
    {
     "data": {
      "text/plain": [
       "(306423,)"
      ]
     },
     "execution_count": 14,
     "metadata": {},
     "output_type": "execute_result"
    }
   ],
   "source": [
    "predictions_raw.shape"
   ]
  },
  {
   "cell_type": "code",
   "execution_count": 15,
   "metadata": {},
   "outputs": [
    {
     "data": {
      "text/plain": [
       "array([-9.601742 , -9.663979 , -9.62248  ,  6.0936594, -6.900798 ,\n",
       "       -8.023089 , -9.544183 , -9.211874 , -9.660895 , -9.671396 ,\n",
       "       -9.670813 , -7.9406586, -8.569448 , -9.456178 , -9.541397 ,\n",
       "       -6.732898 ,  6.1708226, -9.580299 , -9.654386 , -9.556057 ],\n",
       "      dtype=float32)"
      ]
     },
     "execution_count": 15,
     "metadata": {},
     "output_type": "execute_result"
    }
   ],
   "source": [
    "predictions_raw[:20]"
   ]
  },
  {
   "cell_type": "code",
   "execution_count": 16,
   "metadata": {},
   "outputs": [],
   "source": [
    "def evaluate(gt, pred, threshold, document_lengths):\n",
    "    pred_answer_labels = (torch.sigmoid(torch.tensor(pred)) > threshold).numpy().tolist()\n",
    "    predictions_reorganized = reorganize_predictions(pred_answer_labels, document_lengths)\n",
    "    supporting_facts_reorganized = reorganize_predictions(gt, document_lengths)\n",
    "    result = score(supporting_facts_reorganized, predictions_reorganized)\n",
    "    return result"
   ]
  },
  {
   "cell_type": "code",
   "execution_count": 17,
   "metadata": {},
   "outputs": [
    {
     "name": "stderr",
     "output_type": "stream",
     "text": [
      "100%|██████████| 18/18 [03:41<00:00, 12.22s/it]\n"
     ]
    }
   ],
   "source": [
    "metrics = {'precision':[], 'recall':[], 'f1':[], 'em':[]}\n",
    "for t in tqdm(np.linspace(0.1,1,18,endpoint=False)):\n",
    "    result = evaluate(dataset['supporting_fact'], predictions_raw, t, dataset['document_lengths'])\n",
    "    for key,value in result.items():\n",
    "        metrics[key].append(value)"
   ]
  },
  {
   "cell_type": "code",
   "execution_count": 18,
   "metadata": {},
   "outputs": [],
   "source": [
    "import pandas as pd\n",
    "import matplotlib.pyplot as plt"
   ]
  },
  {
   "cell_type": "code",
   "execution_count": 19,
   "metadata": {},
   "outputs": [],
   "source": [
    "metric_df = pd.DataFrame(metrics, index=np.linspace(0.1,1,18,endpoint=False))"
   ]
  },
  {
   "cell_type": "code",
   "execution_count": 20,
   "metadata": {},
   "outputs": [
    {
     "data": {
      "text/html": [
       "<div>\n",
       "<style scoped>\n",
       "    .dataframe tbody tr th:only-of-type {\n",
       "        vertical-align: middle;\n",
       "    }\n",
       "\n",
       "    .dataframe tbody tr th {\n",
       "        vertical-align: top;\n",
       "    }\n",
       "\n",
       "    .dataframe thead th {\n",
       "        text-align: right;\n",
       "    }\n",
       "</style>\n",
       "<table border=\"1\" class=\"dataframe\">\n",
       "  <thead>\n",
       "    <tr style=\"text-align: right;\">\n",
       "      <th></th>\n",
       "      <th>precision</th>\n",
       "      <th>recall</th>\n",
       "      <th>f1</th>\n",
       "      <th>em</th>\n",
       "    </tr>\n",
       "  </thead>\n",
       "  <tbody>\n",
       "    <tr>\n",
       "      <th>0.10</th>\n",
       "      <td>0.640663</td>\n",
       "      <td>0.853611</td>\n",
       "      <td>0.698550</td>\n",
       "      <td>0.231767</td>\n",
       "    </tr>\n",
       "    <tr>\n",
       "      <th>0.15</th>\n",
       "      <td>0.676581</td>\n",
       "      <td>0.828820</td>\n",
       "      <td>0.711917</td>\n",
       "      <td>0.259860</td>\n",
       "    </tr>\n",
       "    <tr>\n",
       "      <th>0.20</th>\n",
       "      <td>0.701051</td>\n",
       "      <td>0.805753</td>\n",
       "      <td>0.717206</td>\n",
       "      <td>0.275797</td>\n",
       "    </tr>\n",
       "    <tr>\n",
       "      <th>0.25</th>\n",
       "      <td>0.721589</td>\n",
       "      <td>0.784760</td>\n",
       "      <td>0.719761</td>\n",
       "      <td>0.293490</td>\n",
       "    </tr>\n",
       "    <tr>\n",
       "      <th>0.30</th>\n",
       "      <td>0.737657</td>\n",
       "      <td>0.766299</td>\n",
       "      <td>0.720213</td>\n",
       "      <td>0.305646</td>\n",
       "    </tr>\n",
       "    <tr>\n",
       "      <th>0.35</th>\n",
       "      <td>0.750505</td>\n",
       "      <td>0.749030</td>\n",
       "      <td>0.718462</td>\n",
       "      <td>0.312264</td>\n",
       "    </tr>\n",
       "    <tr>\n",
       "      <th>0.40</th>\n",
       "      <td>0.762208</td>\n",
       "      <td>0.730943</td>\n",
       "      <td>0.715151</td>\n",
       "      <td>0.321043</td>\n",
       "    </tr>\n",
       "    <tr>\n",
       "      <th>0.45</th>\n",
       "      <td>0.770316</td>\n",
       "      <td>0.711010</td>\n",
       "      <td>0.708521</td>\n",
       "      <td>0.326040</td>\n",
       "    </tr>\n",
       "    <tr>\n",
       "      <th>0.50</th>\n",
       "      <td>0.777286</td>\n",
       "      <td>0.690953</td>\n",
       "      <td>0.700562</td>\n",
       "      <td>0.324149</td>\n",
       "    </tr>\n",
       "    <tr>\n",
       "      <th>0.55</th>\n",
       "      <td>0.783196</td>\n",
       "      <td>0.670106</td>\n",
       "      <td>0.691138</td>\n",
       "      <td>0.320097</td>\n",
       "    </tr>\n",
       "    <tr>\n",
       "      <th>0.60</th>\n",
       "      <td>0.785153</td>\n",
       "      <td>0.650659</td>\n",
       "      <td>0.680761</td>\n",
       "      <td>0.316856</td>\n",
       "    </tr>\n",
       "    <tr>\n",
       "      <th>0.65</th>\n",
       "      <td>0.787473</td>\n",
       "      <td>0.631018</td>\n",
       "      <td>0.669697</td>\n",
       "      <td>0.311994</td>\n",
       "    </tr>\n",
       "    <tr>\n",
       "      <th>0.70</th>\n",
       "      <td>0.782866</td>\n",
       "      <td>0.604541</td>\n",
       "      <td>0.651669</td>\n",
       "      <td>0.300243</td>\n",
       "    </tr>\n",
       "    <tr>\n",
       "      <th>0.75</th>\n",
       "      <td>0.774119</td>\n",
       "      <td>0.577112</td>\n",
       "      <td>0.631144</td>\n",
       "      <td>0.287817</td>\n",
       "    </tr>\n",
       "    <tr>\n",
       "      <th>0.80</th>\n",
       "      <td>0.757670</td>\n",
       "      <td>0.545055</td>\n",
       "      <td>0.605377</td>\n",
       "      <td>0.272825</td>\n",
       "    </tr>\n",
       "    <tr>\n",
       "      <th>0.85</th>\n",
       "      <td>0.733822</td>\n",
       "      <td>0.506704</td>\n",
       "      <td>0.572303</td>\n",
       "      <td>0.251080</td>\n",
       "    </tr>\n",
       "    <tr>\n",
       "      <th>0.90</th>\n",
       "      <td>0.687000</td>\n",
       "      <td>0.453809</td>\n",
       "      <td>0.522098</td>\n",
       "      <td>0.221502</td>\n",
       "    </tr>\n",
       "    <tr>\n",
       "      <th>0.95</th>\n",
       "      <td>0.588522</td>\n",
       "      <td>0.370994</td>\n",
       "      <td>0.435532</td>\n",
       "      <td>0.174905</td>\n",
       "    </tr>\n",
       "  </tbody>\n",
       "</table>\n",
       "</div>"
      ],
      "text/plain": [
       "      precision    recall        f1        em\n",
       "0.10   0.640663  0.853611  0.698550  0.231767\n",
       "0.15   0.676581  0.828820  0.711917  0.259860\n",
       "0.20   0.701051  0.805753  0.717206  0.275797\n",
       "0.25   0.721589  0.784760  0.719761  0.293490\n",
       "0.30   0.737657  0.766299  0.720213  0.305646\n",
       "0.35   0.750505  0.749030  0.718462  0.312264\n",
       "0.40   0.762208  0.730943  0.715151  0.321043\n",
       "0.45   0.770316  0.711010  0.708521  0.326040\n",
       "0.50   0.777286  0.690953  0.700562  0.324149\n",
       "0.55   0.783196  0.670106  0.691138  0.320097\n",
       "0.60   0.785153  0.650659  0.680761  0.316856\n",
       "0.65   0.787473  0.631018  0.669697  0.311994\n",
       "0.70   0.782866  0.604541  0.651669  0.300243\n",
       "0.75   0.774119  0.577112  0.631144  0.287817\n",
       "0.80   0.757670  0.545055  0.605377  0.272825\n",
       "0.85   0.733822  0.506704  0.572303  0.251080\n",
       "0.90   0.687000  0.453809  0.522098  0.221502\n",
       "0.95   0.588522  0.370994  0.435532  0.174905"
      ]
     },
     "execution_count": 20,
     "metadata": {},
     "output_type": "execute_result"
    }
   ],
   "source": [
    "metric_df"
   ]
  },
  {
   "cell_type": "code",
   "execution_count": 21,
   "metadata": {},
   "outputs": [
    {
     "data": {
      "text/plain": [
       "<Figure size 432x288 with 0 Axes>"
      ]
     },
     "metadata": {},
     "output_type": "display_data"
    },
    {
     "data": {
      "image/png": "[encoded data removed]",
      "text/plain": [
       "<Figure size 432x288 with 1 Axes>"
      ]
     },
     "metadata": {
      "needs_background": "light"
     },
     "output_type": "display_data"
    }
   ],
   "source": [
    "plt.figure(); metric_df.plot(colormap=\"Dark2\");"
   ]
  },
  {
   "cell_type": "markdown",
   "metadata": {},
   "source": [
    "### Evaluation"
   ]
  },
  {
   "cell_type": "raw",
   "metadata": {},
   "source": [
    "num 1 in GT:18001\n",
    "\n",
    "====================================================\n",
    "no dropout, first 'n' negative examples\n",
    "====================================================\n",
    "Threshold = 0.9\n",
    "num 1 in pred:23898\n",
    "{'precision': 0.6334376802482,\n",
    " 'recall': 0.7238360538704973,\n",
    " 'f1': 0.6292228317433969,\n",
    " 'em': 0.1963803349540789}\n",
    "\n",
    "Threshold = 0.5\n",
    "num 1 in pred:53597\n",
    "{'precision': 0.41854551203917234,\n",
    " 'recall': 0.9118060379203041,\n",
    " 'f1': 0.5307264706450345,\n",
    " 'em': 0.07806591031874663}\n",
    "====================================================\n",
    "0.1 dropout, random negative examples\n",
    "====================================================\n",
    "Threshold = 0.5\n",
    "num 1 in pred:44856\n",
    "{'precision': 0.46638407446220137,\n",
    " 'recall': 0.9064059646008644,\n",
    " 'f1': 0.5776555929156273,\n",
    " 'em': 0.10386277687736359}\n",
    "\n",
    "Threshold = 0.9\n",
    "num 1 in pred:20152\n",
    "{'precision': 0.6867104762921196,\n",
    " 'recall': 0.7088041213243822,\n",
    " 'f1': 0.6588673467117654,\n",
    " 'em': 0.228795245813074}\n",
    "====================================================\n",
    "0.1 dropout, 2x positive, equal number of negative\n",
    "====================================================\n",
    "Threshold = 0.95\n",
    "num 1 in pred: 21173\n",
    "{'precision': 0.6847269321810139,\n",
    " 'recall': 0.7458830169020635,\n",
    " 'f1': 0.6779622093512215,\n",
    " 'em': 0.24108589951377635}\n",
    "====================================================\n",
    "0.1 dropout, 3x positive, equal number of negative\n",
    "====================================================\n",
    "Threshold = 0.5\n",
    "num 1 in pred: 29248\n",
    "{'precision': 0.6158149520022644,\n",
    " 'recall': 0.857768484217032,\n",
    " 'f1': 0.6818473818579894,\n",
    " 'em': 0.20326850351161535}\n",
    "\n",
    "Threshold = 0.95\n",
    "num 1 in pred: 21409\n",
    "{'precision': 0.702041727781195,\n",
    " 'recall': 0.7708039090838953,\n",
    " 'f1': 0.6993170933304774,\n",
    " 'em': 0.2645867098865478}\n",
    "====================================================\n",
    "0.1 dropout, 4x positive, equal number of negative\n",
    "====================================================\n",
    "Threshold = 0.5\n",
    "num 1 in pred: 26281\n",
    "{'precision': 0.6509748399595585,\n",
    " 'recall': 0.8372364680610273,\n",
    " 'f1': 0.6980914989809971,\n",
    " 'em': 0.22636412749864937}\n",
    " \n",
    "Threshold = 0.95\n",
    "num 1 in pred: 20488\n",
    "{'precision': 0.7192704194628857,\n",
    " 'recall': 0.7659757595636868,\n",
    " 'f1': 0.7075804609131335,\n",
    " 'em': 0.2770124257158293}\n",
    "\n",
    "====================================================\n",
    "===================================================="
   ]
  },
  {
   "cell_type": "markdown",
   "metadata": {},
   "source": [
    "## Examples of correct and incorrect predictions"
   ]
  },
  {
   "cell_type": "code",
   "execution_count": 22,
   "metadata": {},
   "outputs": [],
   "source": [
    "import seaborn as sns"
   ]
  },
  {
   "cell_type": "code",
   "execution_count": 23,
   "metadata": {},
   "outputs": [
    {
     "name": "stderr",
     "output_type": "stream",
     "text": [
      "/home/bhargav/anaconda3/lib/python3.6/site-packages/scipy/stats/stats.py:1713: FutureWarning: Using a non-tuple sequence for multidimensional indexing is deprecated; use `arr[tuple(seq)]` instead of `arr[seq]`. In the future this will be interpreted as an array index, `arr[np.array(seq)]`, which will result either in an error or a different result.\n",
      "  return np.add.reduce(sorted[indexer] * weights, axis=axis) / sumval\n"
     ]
    },
    {
     "data": {
      "text/plain": [
       "<matplotlib.axes._subplots.AxesSubplot at 0x7fa723881550>"
      ]
     },
     "execution_count": 23,
     "metadata": {},
     "output_type": "execute_result"
    },
    {
     "data": {
      "image/png": "[encoded data removed]",
      "text/plain": [
       "<Figure size 432x288 with 1 Axes>"
      ]
     },
     "metadata": {
      "needs_background": "light"
     },
     "output_type": "display_data"
    }
   ],
   "source": [
    "sns.distplot((torch.sigmoid(torch.tensor(predictions_raw))).numpy(),kde=False, hist=True, rug=False)"
   ]
  },
  {
   "cell_type": "code",
   "execution_count": 39,
   "metadata": {},
   "outputs": [],
   "source": [
    "threshold = 0.4"
   ]
  },
  {
   "cell_type": "code",
   "execution_count": 40,
   "metadata": {},
   "outputs": [],
   "source": [
    "pred_answer_labels = (torch.sigmoid(torch.tensor(predictions_raw)) > threshold).numpy().tolist()"
   ]
  },
  {
   "cell_type": "code",
   "execution_count": 41,
   "metadata": {},
   "outputs": [],
   "source": [
    "# for individual question sentence pairs\n",
    "wrong_prediction_indices = []\n",
    "correct_prediction_indices = []\n",
    "for i in range(len(dataset[\"supporting_fact\"])):\n",
    "    if( dataset[\"supporting_fact\"][i] != pred_answer_labels[i]):\n",
    "        wrong_prediction_indices.append(i)\n",
    "    else:\n",
    "        correct_prediction_indices.append(i)"
   ]
  },
  {
   "cell_type": "code",
   "execution_count": 42,
   "metadata": {},
   "outputs": [
    {
     "data": {
      "text/plain": [
       "10055"
      ]
     },
     "execution_count": 42,
     "metadata": {},
     "output_type": "execute_result"
    }
   ],
   "source": [
    "len(wrong_prediction_indices)"
   ]
  },
  {
   "cell_type": "code",
   "execution_count": 43,
   "metadata": {},
   "outputs": [
    {
     "data": {
      "text/plain": [
       "296368"
      ]
     },
     "execution_count": 43,
     "metadata": {},
     "output_type": "execute_result"
    }
   ],
   "source": [
    "len(correct_prediction_indices)"
   ]
  },
  {
   "cell_type": "code",
   "execution_count": 44,
   "metadata": {},
   "outputs": [],
   "source": [
    "def get_q_s_pair(index, dataset):\n",
    "    token_ids = dataset[\"sequences\"][index]\n",
    "    true_label = dataset[\"supporting_fact\"][index]\n",
    "    words = tokenizer.convert_ids_to_tokens(token_ids)\n",
    "    return {\"sequence\":\" \".join(words),\"true_label\":true_label} \n",
    "\n",
    "def sort_indices_increasing_confidence(indices, scores, threshold):\n",
    "    margins = []\n",
    "    for index in indices:\n",
    "        m = scores[index] - threshold\n",
    "        margins.append(m)\n",
    "    return np.argsort(np.absolute(margins)), np.absolute(margins)\n",
    "        "
   ]
  },
  {
   "cell_type": "code",
   "execution_count": 45,
   "metadata": {},
   "outputs": [
    {
     "name": "stdout",
     "output_type": "stream",
     "text": [
      "{'sequence': '[CLS] what government position was held by the woman who portrayed co ##rl ##iss archer in the film kiss and tell ? [SEP] as an adult , she was named united states ambassador to ghana and to czechoslovakia and also served as chief of protocol of the united states . [SEP] [PAD] [PAD] [PAD] [PAD] [PAD] [PAD] [PAD] [PAD] [PAD] [PAD] [PAD] [PAD] [PAD] [PAD] [PAD] [PAD] [PAD] [PAD] [PAD] [PAD] [PAD] [PAD] [PAD] [PAD] [PAD] [PAD] [PAD] [PAD] [PAD] [PAD] [PAD] [PAD] [PAD] [PAD] [PAD] [PAD] [PAD] [PAD] [PAD] [PAD] [PAD] [PAD] [PAD] [PAD] [PAD] [PAD] [PAD] [PAD] [PAD] [PAD] [PAD] [PAD]', 'true_label': 1}\n"
     ]
    }
   ],
   "source": [
    "print(get_q_s_pair(wrong_prediction_indices[1], dataset))"
   ]
  },
  {
   "cell_type": "markdown",
   "metadata": {},
   "source": [
    "### Least and most confident wrong predictions"
   ]
  },
  {
   "cell_type": "code",
   "execution_count": 46,
   "metadata": {},
   "outputs": [],
   "source": [
    "sigmoid_scores = (torch.sigmoid(torch.tensor(predictions_raw))).numpy()"
   ]
  },
  {
   "cell_type": "code",
   "execution_count": 47,
   "metadata": {},
   "outputs": [],
   "source": [
    "incorrect_confidences_sorted, incorrect_margins = sort_indices_increasing_confidence(wrong_prediction_indices, sigmoid_scores, threshold)"
   ]
  },
  {
   "cell_type": "code",
   "execution_count": 48,
   "metadata": {},
   "outputs": [
    {
     "name": "stdout",
     "output_type": "stream",
     "text": [
      "{'sequence': '[CLS] when was the anthology , in which fis ##rt pages of the inca ##l \" were released , created ? [SEP] the inca ##l ( french : \" l \\' inca ##l \" ) is a french graphic novel series written by alejandro jo ##dor ##ows ##ky and originally illustrated by jean gi ##ra ##ud . [SEP] [PAD] [PAD] [PAD] [PAD] [PAD] [PAD] [PAD] [PAD] [PAD] [PAD] [PAD] [PAD] [PAD] [PAD] [PAD] [PAD] [PAD] [PAD] [PAD] [PAD] [PAD] [PAD] [PAD] [PAD] [PAD] [PAD] [PAD] [PAD] [PAD] [PAD] [PAD] [PAD] [PAD] [PAD] [PAD] [PAD] [PAD] [PAD] [PAD] [PAD] [PAD] [PAD] [PAD] [PAD] [PAD]', 'true_label': 1}\n",
      "margin:  2.0587444305442126e-05\n"
     ]
    }
   ],
   "source": [
    "print(get_q_s_pair(wrong_prediction_indices[incorrect_confidences_sorted[0]], dataset))\n",
    "print(\"margin: \",incorrect_margins[incorrect_confidences_sorted[0]])"
   ]
  },
  {
   "cell_type": "code",
   "execution_count": 49,
   "metadata": {},
   "outputs": [
    {
     "name": "stdout",
     "output_type": "stream",
     "text": [
      "{'sequence': '[CLS] eleventh dream day and the shin ##s are both rock bands from where ? [SEP] the shin ##s are an american indie rock band from albuquerque , new mexico , formed in 1996 . [SEP] [PAD] [PAD] [PAD] [PAD] [PAD] [PAD] [PAD] [PAD] [PAD] [PAD] [PAD] [PAD] [PAD] [PAD] [PAD] [PAD] [PAD] [PAD] [PAD] [PAD] [PAD] [PAD] [PAD] [PAD] [PAD] [PAD] [PAD] [PAD] [PAD] [PAD] [PAD] [PAD] [PAD] [PAD] [PAD] [PAD] [PAD] [PAD] [PAD] [PAD] [PAD] [PAD] [PAD] [PAD] [PAD] [PAD] [PAD] [PAD] [PAD] [PAD] [PAD] [PAD] [PAD] [PAD] [PAD] [PAD] [PAD] [PAD] [PAD] [PAD] [PAD] [PAD] [PAD] [PAD] [PAD] [PAD] [PAD]', 'true_label': 0}\n",
      "margin:  0.5976620674133301\n"
     ]
    }
   ],
   "source": [
    "print(get_q_s_pair(wrong_prediction_indices[incorrect_confidences_sorted[-1]], dataset))\n",
    "print(\"margin: \",incorrect_margins[incorrect_confidences_sorted[-1]])"
   ]
  },
  {
   "cell_type": "markdown",
   "metadata": {},
   "source": [
    "### Least and most confident correct predictions"
   ]
  },
  {
   "cell_type": "code",
   "execution_count": 50,
   "metadata": {},
   "outputs": [],
   "source": [
    "correct_confidences_sorted, correct_margins = sort_indices_increasing_confidence(correct_prediction_indices, sigmoid_scores, threshold)"
   ]
  },
  {
   "cell_type": "code",
   "execution_count": 51,
   "metadata": {},
   "outputs": [
    {
     "name": "stdout",
     "output_type": "stream",
     "text": [
      "{'sequence': '[CLS] what was rosario dawson of josie and the pussy ##cats film debut [SEP] josie and the pussy ##cats is a 2001 american musical comedy film released by universal pictures , and metro - gold ##wyn - mayer . [SEP] [PAD] [PAD] [PAD] [PAD] [PAD] [PAD] [PAD] [PAD] [PAD] [PAD] [PAD] [PAD] [PAD] [PAD] [PAD] [PAD] [PAD] [PAD] [PAD] [PAD] [PAD] [PAD] [PAD] [PAD] [PAD] [PAD] [PAD] [PAD] [PAD] [PAD] [PAD] [PAD] [PAD] [PAD] [PAD] [PAD] [PAD] [PAD] [PAD] [PAD] [PAD] [PAD] [PAD] [PAD] [PAD] [PAD] [PAD] [PAD] [PAD] [PAD] [PAD] [PAD] [PAD] [PAD] [PAD] [PAD] [PAD] [PAD] [PAD] [PAD] [PAD] [PAD] [PAD]', 'true_label': 0}\n",
      "margin:  0.00018634796142580345\n"
     ]
    }
   ],
   "source": [
    "print(get_q_s_pair(correct_prediction_indices[correct_confidences_sorted[0]], dataset))\n",
    "print(\"margin: \",correct_margins[correct_confidences_sorted[0]])"
   ]
  },
  {
   "cell_type": "code",
   "execution_count": 53,
   "metadata": {},
   "outputs": [
    {
     "name": "stdout",
     "output_type": "stream",
     "text": [
      "{'sequence': '[CLS] between harvey pe ##kar and denise lever ##tov who was born earlier ? [SEP] harvey lawrence pe ##kar ( ; october 8 , 1939 – july 12 , 2010 ) was an american underground comic book writer , music critic , and media personality , best known for his autobiographical \" american sp ##len ##dor \" comic series . [SEP] [PAD] [PAD] [PAD] [PAD] [PAD] [PAD] [PAD] [PAD] [PAD] [PAD] [PAD] [PAD] [PAD] [PAD] [PAD] [PAD] [PAD] [PAD] [PAD] [PAD] [PAD] [PAD] [PAD] [PAD] [PAD] [PAD] [PAD] [PAD] [PAD] [PAD] [PAD] [PAD] [PAD] [PAD] [PAD] [PAD] [PAD] [PAD] [PAD] [PAD] [PAD] [PAD]', 'true_label': 1}\n",
      "margin:  0.5985417127609253\n"
     ]
    }
   ],
   "source": [
    "print(get_q_s_pair(correct_prediction_indices[correct_confidences_sorted[-1]], dataset))\n",
    "print(\"margin: \",correct_margins[correct_confidences_sorted[-1]])"
   ]
  },
  {
   "cell_type": "code",
   "execution_count": null,
   "metadata": {},
   "outputs": [],
   "source": []
  }
 ],
 "metadata": {
  "kernelspec": {
   "display_name": "Python 3",
   "language": "python",
   "name": "python3"
  },
  "language_info": {
   "codemirror_mode": {
    "name": "ipython",
    "version": 3
   },
   "file_extension": ".py",
   "mimetype": "text/x-python",
   "name": "python",
   "nbconvert_exporter": "python",
   "pygments_lexer": "ipython3",
   "version": "3.6.7"
  }
 },
 "nbformat": 4,
 "nbformat_minor": 2
}
